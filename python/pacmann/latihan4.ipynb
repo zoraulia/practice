{
 "cells": [
  {
   "cell_type": "markdown",
   "metadata": {},
   "source": [
    "1. Buatlah program sederhana yang mengambil 4 input dari user, 2 input berupa nama item yang dibeli, dan 2 lainnya adalah harga item yang dibeli, lalu menambahkan 2 harga tersebut. Output yang diharapkan `Harga total YY dan ZZ adalah XYZ` dimana XYZ adalah hasil penambahan kedua input tersebut, YY dan ZZ adalah nama dari item."
   ]
  },
  {
   "cell_type": "code",
   "execution_count": 1,
   "metadata": {},
   "outputs": [
    {
     "name": "stdout",
     "output_type": "stream",
     "text": [
      "Nama barang1:  kue\n",
      "Nama barang2:  kipas\n",
      "Harga barang1:  10000\n",
      "Harga barang2:  90000\n"
     ]
    },
    {
     "name": "stdout",
     "output_type": "stream",
     "text": [
      "Harga total kue dan kipas adalah 100000.0\n"
     ]
    }
   ],
   "source": [
    "YY = input('Nama barang1: ')\n",
    "ZZ = input('Nama barang2: ')\n",
    "harga1 = float(input('Harga barang1: '))\n",
    "harga2 = float(input('Harga barang2: '))\n",
    "XYZ = harga1+harga2\n",
    "\n",
    "print(f\"Harga total {YY} dan {ZZ} adalah {XYZ}\")"
   ]
  },
  {
   "cell_type": "markdown",
   "metadata": {},
   "source": [
    "2. Di sebuah toko harga semua item adalah USD 17. Sistem diskon yang mereka miliki adalah sebagai berikut: untuk pembelian 1 item akan dikenakan diskon sebesar 8%, untuk 2 item 16%, 3 item 24%, dan seterusnya. Namun diskon maksimal adalah sebesar 48%. Buatlah program sederhana untuk melakukan perhitungan tersebut.\n",
    "    * Input: Jumlah item\n",
    "    * Output: `Anda membeli X item dengan total diskon sebesar YY%, sehingga harga total adalah USD ZZ` dimana ZZ dibulatkan menjadi 2 angka dibelakang koma."
   ]
  },
  {
   "cell_type": "code",
   "execution_count": 7,
   "metadata": {},
   "outputs": [
    {
     "name": "stdout",
     "output_type": "stream",
     "text": [
      "Jumlah item:  4\n"
     ]
    },
    {
     "name": "stdout",
     "output_type": "stream",
     "text": [
      "Anda membeli 4 item dengan total diskon sebesar 32%, sehingga harga total adalah USD 46.24\n"
     ]
    }
   ],
   "source": [
    "X = int(input('Jumlah item: '))\n",
    "harga_item = 17\n",
    "\n",
    "if X < 7:\n",
    "    YY = (X*8)\n",
    "else:\n",
    "    YY = 48\n",
    "\n",
    "ZZ = (harga_item*X) - ((harga_item*X)*(YY/100))\n",
    "\n",
    "print(f'Anda membeli {X} item dengan total diskon sebesar {YY}%, sehingga harga total adalah USD {ZZ:.2f}')"
   ]
  },
  {
   "cell_type": "markdown",
   "metadata": {},
   "source": [
    "3. Buatlah program untuk mengaproksimasi nilai dari akar kubik dari suatu bilangan dengan *exhaustive enumeration*. Minimal kondisi berikut terpenuhi:\n",
    "    * Input: 27, output: 3\n",
    "    * Input: -64, output: -4"
   ]
  },
  {
   "cell_type": "code",
   "execution_count": 20,
   "metadata": {},
   "outputs": [
    {
     "name": "stdout",
     "output_type": "stream",
     "text": [
      "Masukkan bilangan:  27\n"
     ]
    },
    {
     "name": "stdout",
     "output_type": "stream",
     "text": [
      "Akar pangkat tiga dari 27 adalah 3\n"
     ]
    }
   ],
   "source": [
    "y = int(input('Masukkan bilangan: '))  # memasukkan input angka \n",
    "g = 0  # inisiasi nilai tebakan\n",
    "\n",
    "while g**3 < abs(y):  # looping untuk mencari nilai tebakan yang mendekati\n",
    "    g += 1\n",
    "    \n",
    "if y<0:\n",
    "    g=-g\n",
    "else:\n",
    "    pass\n",
    "\n",
    "if g**3==y:\n",
    "    print(f'Akar pangkat tiga dari {y} adalah {g}')\n",
    "else:\n",
    "    print(f'Nilai aproksimasi adalah {g}')"
   ]
  },
  {
   "cell_type": "markdown",
   "metadata": {},
   "source": [
    "4. Buatlah program untuk mengaproksimasi solusi persamaan berikut: $x^2 - 12x + 36 = 0$ Dengan konsep fungsi epsilon. Solusi $x=6$"
   ]
  },
  {
   "cell_type": "code",
   "execution_count": 21,
   "metadata": {},
   "outputs": [
    {
     "name": "stdout",
     "output_type": "stream",
     "text": [
      "5.900 is the solution of x**2 - 12*x + 36 = 0\n"
     ]
    }
   ],
   "source": [
    "x = 0\n",
    "epsilon = 0.01\n",
    "increment = 0.001\n",
    "y = 0\n",
    "while abs((x)**2-12*x+36 - y) >= epsilon:\n",
    "    x += increment\n",
    "print(f'{x:.3f} is the solution of x**2 - 12*x + 36 = 0')"
   ]
  },
  {
   "cell_type": "markdown",
   "metadata": {},
   "source": [
    "5. Buatlah program sederhana untuk menghasilkan `n` bilangan fibonacci pertama.\n",
    "```\n",
    "input:\n",
    "n = 6\n",
    "output:\n",
    "1\n",
    "1\n",
    "2\n",
    "3\n",
    "5\n",
    "8\n",
    "```\n",
    "hint: hanya menggunakan loop\n"
   ]
  },
  {
   "cell_type": "code",
   "execution_count": 30,
   "metadata": {},
   "outputs": [
    {
     "name": "stdout",
     "output_type": "stream",
     "text": [
      "Masukan jumlah bilangan:  6\n"
     ]
    },
    {
     "name": "stdout",
     "output_type": "stream",
     "text": [
      "1\n",
      "1\n",
      "2\n",
      "3\n",
      "5\n",
      "8\n"
     ]
    }
   ],
   "source": [
    "jumlah_bilangan = int(input(\"Masukan jumlah bilangan: \"))\n",
    "\n",
    "fib1 = 0\n",
    "fib2 = 1\n",
    "for i in range(jumlah_bilangan):\n",
    "    fib = fib2\n",
    "    fib2 += fib1\n",
    "    fib1 = fib\n",
    "    print(fib)"
   ]
  },
  {
   "cell_type": "markdown",
   "metadata": {},
   "source": [
    "6. Buatlah program sederhana untuk menghasilkan bilangan prima antara `a` dan `b`\n",
    "```\n",
    "input:\n",
    "a = 2\n",
    "b = 15\n",
    "output:\n",
    "2\n",
    "3\n",
    "5\n",
    "7\n",
    "11\n",
    "13\n",
    "```\n",
    "hint: gunakan loop dan conditional\n",
    "\n"
   ]
  },
  {
   "cell_type": "code",
   "execution_count": 33,
   "metadata": {},
   "outputs": [
    {
     "name": "stdout",
     "output_type": "stream",
     "text": [
      "Bilangan_1:  2\n",
      "Bilangan_2:  15\n"
     ]
    },
    {
     "name": "stdout",
     "output_type": "stream",
     "text": [
      "2\n",
      "3\n",
      "5\n",
      "7\n",
      "11\n",
      "13\n"
     ]
    }
   ],
   "source": [
    "a = int(input('Bilangan_1: '))\n",
    "b = int(input('Bilangan_2: '))\n",
    "\n",
    "for i in range(a, b+1):\n",
    "    jumlah_pembagi = 0\n",
    "    \n",
    "    for j in range(i):\n",
    "        pembagi = j+1\n",
    "        \n",
    "        if (i%pembagi==0):\n",
    "            jumlah_pembagi += 1\n",
    "            \n",
    "    if jumlah_pembagi == 2:\n",
    "        print(i)"
   ]
  }
 ],
 "metadata": {
  "kernelspec": {
   "display_name": "Python 3",
   "language": "python",
   "name": "python3"
  },
  "language_info": {
   "codemirror_mode": {
    "name": "ipython",
    "version": 3
   },
   "file_extension": ".py",
   "mimetype": "text/x-python",
   "name": "python",
   "nbconvert_exporter": "python",
   "pygments_lexer": "ipython3",
   "version": "3.8.5"
  }
 },
 "nbformat": 4,
 "nbformat_minor": 4
}