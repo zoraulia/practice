{
 "cells": [
  {
   "cell_type": "markdown",
   "metadata": {},
   "source": [
    "1. Buatlah program untuk mencari siapa yang tertua dari 3 orang.\r\n",
    "    * Input: \r\n",
    "    ```\r\n",
    "        orang_1 = 40 \r\n",
    "        orang_2 = 25 \r\n",
    "        orang_3 = 37\r\n",
    "    ```\r\n",
    "    * Output:\r\n",
    "        ```\r\n",
    "        Orang yang tertua adalah orang pertama\r\n",
    "        ```"
   ]
  },
  {
   "cell_type": "code",
   "execution_count": 1,
   "metadata": {},
   "outputs": [],
   "source": [
    "def tertua():\r\n",
    "    orang1 = input(\"Umur orang pertama:\")\r\n",
    "    orang2 = input(\"Umur orang kedua:\")\r\n",
    "    orang3 = input(\"Umur orang ketiga:\")\r\n",
    "\r\n",
    "    if int(orang1) > int(orang2) and int(orang1) > int(orang3):\r\n",
    "        print(\"Orang yang tertua adalah orang pertama\")\r\n",
    "    elif int(orang2) > int(orang1) and int(orang2) > int(orang1):\r\n",
    "        print(\"Orang yang tertua adalah orang kedua\")\r\n",
    "    else:\r\n",
    "        print(\"Orang tertua adalah orang ketiga\")"
   ]
  },
  {
   "cell_type": "code",
   "execution_count": 2,
   "metadata": {},
   "outputs": [
    {
     "name": "stdout",
     "output_type": "stream",
     "text": [
      "Orang yang tertua adalah orang pertama\n"
     ]
    }
   ],
   "source": [
    "tertua()"
   ]
  },
  {
   "cell_type": "markdown",
   "metadata": {},
   "source": [
    "2. Sebuah perusahaan akan memberikan bonus 5% dari gaji masing-masing pegawai kepada pegawainya jika pegawainya telah bekerja selama minimal 5 tahun.\r\n",
    "    * Input:\r\n",
    "```\r\n",
    "kasus 1: gaji = 5000 ; masa bakti = 2\r\n",
    "kasus 2: gaji = 10000; masa bakti = 6\r\n",
    "```\r\n",
    "    * Output:\r\n",
    "```\r\n",
    "kasus 1: Tidak ada bonus\r\n",
    "kasus 2: Bonus adalah 500\r\n",
    "```"
   ]
  },
  {
   "cell_type": "code",
   "execution_count": 4,
   "metadata": {},
   "outputs": [],
   "source": [
    "def bonus_gaji():\r\n",
    "    gaji = input(\"Gaji yang didapat:\")\r\n",
    "    masa_bakti = input(\"Lama bekerja:\")\r\n",
    "\r\n",
    "    if int(masa_bakti) >= 5:\r\n",
    "        bonus = int(gaji)*.05\r\n",
    "        print(f\"Bonus adalah\", (bonus))\r\n",
    "    else:\r\n",
    "        print(\"Tidak ada bonus\")\r\n"
   ]
  },
  {
   "cell_type": "code",
   "execution_count": 7,
   "metadata": {},
   "outputs": [
    {
     "name": "stdout",
     "output_type": "stream",
     "text": [
      "Bonus adalah 500.0\n"
     ]
    }
   ],
   "source": [
    "bonus_gaji()\r\n"
   ]
  },
  {
   "cell_type": "markdown",
   "metadata": {},
   "source": [
    "3. Buatlah program untuk mengecek apakah suatu tahun adalah tahun kabisat atau tidak. Jika tahun kabisat, maka tahun dapat dibagi dengan 4, untuk tahun dengan akhiran `'00` maka harus bisa dibagi dengan 400.\r\n",
    "    * Input: Tahun    \r\n",
    "```\r\n",
    "kasus 1: tahun = 2020\r\n",
    "kasus 2: tahun = 2013\r\n",
    "```\r\n",
    "    * Output: Kabisat atau bukan.\r\n",
    "```\r\n",
    "kasus 1: Kabisat\r\n",
    "kasus 2: Bukan kabisat\r\n",
    "```"
   ]
  },
  {
   "cell_type": "code",
   "execution_count": 18,
   "metadata": {},
   "outputs": [],
   "source": [
    "tahun = 2000\r\n",
    "kabisat = 0"
   ]
  },
  {
   "cell_type": "code",
   "execution_count": 19,
   "metadata": {},
   "outputs": [
    {
     "name": "stdout",
     "output_type": "stream",
     "text": [
      "kabisat\n"
     ]
    }
   ],
   "source": [
    "if tahun%4==0:\r\n",
    "    kabisat = 1\r\n",
    "    if tahun%100==0 and tahun%400!=0:\r\n",
    "        kabisat = 0\r\n",
    "\r\n",
    "if kabisat:\r\n",
    "    print('kabisat')\r\n",
    "else:\r\n",
    "    print('bukan kabisat')"
   ]
  },
  {
   "cell_type": "markdown",
   "metadata": {},
   "source": [
    "4. Diberikan 2 variabel yaitu:\r\n",
    "    * umur:\r\n",
    "    * menikah: (Y/N)\r\n",
    "\r\n",
    "Gunakan aturan berikut untuk membuat program: \r\n",
    "* Jika sudah menikah, maka tampilkan \"Hanya bisa bekerja di perkotaan\"\r\n",
    "* Jika belum menikah, maka cek umur.\r\n",
    "    * Jika berumur 20-40 maka tampilkan \"Bisa bekerja dimana saja.\"\r\n",
    "    * Jika berumur diatas 40, maka tampilkan \"Hanya bisa bekerja di perkotaan\".\r\n",
    "* Selain itu, tampilkan(print) \"ERROR\".\r\n",
    "\r\n",
    "Note: Ini hanya contoh soal, tidak bermaksud menyinggung pihak manapun.\r\n",
    "\r\n",
    "Contoh:\r\n",
    "Input:\r\n",
    "```\r\n",
    "kasus 1: umur = 25; menikah = Y\r\n",
    "kasus 2: umur = 26; menikah = N\r\n",
    "kasus 3: umur = 45; menikah = N\r\n",
    "kasus 4: umur = 17; menikah = N\r\n",
    "```\r\n",
    "Output:\r\n",
    "```\r\n",
    "kasus 1: Hanya bisa bekerja di perkotaan\r\n",
    "kasus 2: Bisa bekerja dimana saja\r\n",
    "kasus 3: Hanya bisa bekerja di perkotaan\r\n",
    "kasus 4: ERROR\r\n",
    "```"
   ]
  },
  {
   "cell_type": "code",
   "execution_count": 23,
   "metadata": {},
   "outputs": [],
   "source": [
    "def work_avail():\r\n",
    "    umur = input(\"Berapa usia Anda?\")\r\n",
    "    menikah = input(\"Status menikah (Y/N):\")\r\n",
    "    \r\n",
    "    if menikah.upper() == 'N':\r\n",
    "        if 20 <= int(umur) <= 40:\r\n",
    "            print(\"Bisa bekerja di mana saja\")\r\n",
    "        elif umur > 40:\r\n",
    "            print(\"Hanya bisa bekerja di perkotaan\")\r\n",
    "        else:\r\n",
    "            print(\"ERROR\")\r\n",
    "    else:\r\n",
    "        print(\"Hanya bisa bekerja di perkotaan\")"
   ]
  },
  {
   "cell_type": "code",
   "execution_count": 24,
   "metadata": {},
   "outputs": [
    {
     "name": "stdout",
     "output_type": "stream",
     "text": [
      "Bisa bekerja di mana saja\n"
     ]
    }
   ],
   "source": [
    "work_avail()"
   ]
  }
 ],
 "metadata": {
  "interpreter": {
   "hash": "314ea981c085db46ccef735dba59695dbecece85a3e4aa8984de4261ea0b2923"
  },
  "kernelspec": {
   "display_name": "Python 3.8.5 64-bit ('base': conda)",
   "name": "python3"
  },
  "language_info": {
   "codemirror_mode": {
    "name": "ipython",
    "version": 3
   },
   "file_extension": ".py",
   "mimetype": "text/x-python",
   "name": "python",
   "nbconvert_exporter": "python",
   "pygments_lexer": "ipython3",
   "version": "3.8.5"
  },
  "orig_nbformat": 4
 },
 "nbformat": 4,
 "nbformat_minor": 2
}