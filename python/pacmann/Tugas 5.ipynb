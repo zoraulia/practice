{
 "cells": [
  {
   "cell_type": "markdown",
   "metadata": {},
   "source": [
    "# Tugas Python 5\n",
    "\n",
    "* Silakan download dan kerjakan soal berikut dimanapun (laptop pribadi/google colab/etc.)\n",
    "* Setelah selesai mengerjakan, upload file ini di tempat yang telah disediakan pada platform.\n",
    "* Beri nama file seperti berikut: {username}-python-5.ipynb\n",
    "* Contoh: johndoe1-python-5.ipynb\n",
    "* Username dapat dilihat di dalam akun anda.\n",
    "* Mohon jangan mengubah nama variabel yang telah diberikan.\n",
    "* Namun anda diperbolehkan untuk menambah variabel apapun.\n",
    "---"
   ]
  },
  {
   "cell_type": "markdown",
   "metadata": {},
   "source": [
    "1. Budi ingin membuat sebuah program untuk menghitung banyak elemen bernilai genap dari _list_ berisi sekumpulan bilangan. Contoh dari _input_ dan output yang benar adalah sebagai berikut:\\\n",
    "```input: [1,3,4,5,9,10], output: 2```\\\n",
    "Di bawah ini adalah algoritma yang Budi buat. Ketika Budi mencoba programnya dengan _input_ seperti contoh di atas, program memberikan output yang benar. Namun, ketika Budi mencoba list yang lain, yaitu ```[6,8,11,14,17,18]```, program tidak memberikan output yang benar (seharusnya 4, namun program memberikan output 3). Bahkan, ketika Budi memasukkan list ```[4,6,7,10]```, program Budi _error_. Perbaiki program Budi agar output program yang ia buat menjadi benar dan tidak ada _error_."
   ]
  },
  {
   "cell_type": "code",
   "execution_count": 23,
   "metadata": {},
   "outputs": [
    {
     "name": "stdout",
     "output_type": "stream",
     "text": [
      "2\n",
      "3\n"
     ]
    },
    {
     "ename": "IndexError",
     "evalue": "list index out of range",
     "output_type": "error",
     "traceback": [
      "\u001b[1;31m---------------------------------------------------------------------------\u001b[0m",
      "\u001b[1;31mIndexError\u001b[0m                                Traceback (most recent call last)",
      "\u001b[1;32m<ipython-input-23-219a7a257ff0>\u001b[0m in \u001b[0;36m<module>\u001b[1;34m\u001b[0m\n\u001b[0;32m      9\u001b[0m \u001b[0mprint\u001b[0m\u001b[1;33m(\u001b[0m\u001b[0mjawaban_1\u001b[0m\u001b[1;33m(\u001b[0m\u001b[1;33m[\u001b[0m\u001b[1;36m1\u001b[0m\u001b[1;33m,\u001b[0m\u001b[1;36m3\u001b[0m\u001b[1;33m,\u001b[0m\u001b[1;36m4\u001b[0m\u001b[1;33m,\u001b[0m\u001b[1;36m5\u001b[0m\u001b[1;33m,\u001b[0m\u001b[1;36m9\u001b[0m\u001b[1;33m,\u001b[0m\u001b[1;36m10\u001b[0m\u001b[1;33m]\u001b[0m\u001b[1;33m)\u001b[0m\u001b[1;33m)\u001b[0m\u001b[1;33m\u001b[0m\u001b[1;33m\u001b[0m\u001b[0m\n\u001b[0;32m     10\u001b[0m \u001b[0mprint\u001b[0m\u001b[1;33m(\u001b[0m\u001b[0mjawaban_1\u001b[0m\u001b[1;33m(\u001b[0m\u001b[1;33m[\u001b[0m\u001b[1;36m6\u001b[0m\u001b[1;33m,\u001b[0m\u001b[1;36m8\u001b[0m\u001b[1;33m,\u001b[0m\u001b[1;36m11\u001b[0m\u001b[1;33m,\u001b[0m\u001b[1;36m14\u001b[0m\u001b[1;33m,\u001b[0m\u001b[1;36m17\u001b[0m\u001b[1;33m,\u001b[0m\u001b[1;36m18\u001b[0m\u001b[1;33m]\u001b[0m\u001b[1;33m)\u001b[0m\u001b[1;33m)\u001b[0m\u001b[1;33m\u001b[0m\u001b[1;33m\u001b[0m\u001b[0m\n\u001b[1;32m---> 11\u001b[1;33m \u001b[0mprint\u001b[0m\u001b[1;33m(\u001b[0m\u001b[0mjawaban_1\u001b[0m\u001b[1;33m(\u001b[0m\u001b[1;33m[\u001b[0m\u001b[1;36m4\u001b[0m\u001b[1;33m,\u001b[0m\u001b[1;36m6\u001b[0m\u001b[1;33m,\u001b[0m\u001b[1;36m7\u001b[0m\u001b[1;33m,\u001b[0m\u001b[1;36m10\u001b[0m\u001b[1;33m]\u001b[0m\u001b[1;33m)\u001b[0m\u001b[1;33m)\u001b[0m\u001b[1;33m\u001b[0m\u001b[1;33m\u001b[0m\u001b[0m\n\u001b[0m",
      "\u001b[1;32m<ipython-input-23-219a7a257ff0>\u001b[0m in \u001b[0;36mjawaban_1\u001b[1;34m(list_bilangan)\u001b[0m\n\u001b[0;32m      3\u001b[0m     \u001b[0mcount\u001b[0m \u001b[1;33m=\u001b[0m \u001b[1;36m0\u001b[0m\u001b[1;33m\u001b[0m\u001b[1;33m\u001b[0m\u001b[0m\n\u001b[0;32m      4\u001b[0m     \u001b[1;32mfor\u001b[0m \u001b[0mi\u001b[0m \u001b[1;32min\u001b[0m \u001b[0mrange\u001b[0m\u001b[1;33m(\u001b[0m\u001b[1;36m1\u001b[0m\u001b[1;33m,\u001b[0m\u001b[1;36m6\u001b[0m\u001b[1;33m)\u001b[0m\u001b[1;33m:\u001b[0m\u001b[1;33m\u001b[0m\u001b[1;33m\u001b[0m\u001b[0m\n\u001b[1;32m----> 5\u001b[1;33m         \u001b[1;32mif\u001b[0m \u001b[0mlist_bilangan\u001b[0m\u001b[1;33m[\u001b[0m\u001b[0mi\u001b[0m\u001b[1;33m]\u001b[0m\u001b[1;33m%\u001b[0m\u001b[1;36m2\u001b[0m \u001b[1;33m==\u001b[0m \u001b[1;36m0\u001b[0m\u001b[1;33m:\u001b[0m\u001b[1;33m\u001b[0m\u001b[1;33m\u001b[0m\u001b[0m\n\u001b[0m\u001b[0;32m      6\u001b[0m             \u001b[0mcount\u001b[0m\u001b[1;33m+=\u001b[0m\u001b[1;36m1\u001b[0m\u001b[1;33m\u001b[0m\u001b[1;33m\u001b[0m\u001b[0m\n\u001b[0;32m      7\u001b[0m     \u001b[1;32mreturn\u001b[0m \u001b[0mcount\u001b[0m\u001b[1;33m\u001b[0m\u001b[1;33m\u001b[0m\u001b[0m\n",
      "\u001b[1;31mIndexError\u001b[0m: list index out of range"
     ]
    }
   ],
   "source": [
    "#perbaiki program di bawah ini\n",
    "def jawaban_1(list_bilangan):\n",
    "    count = 0\n",
    "    for i in range(1,6):\n",
    "        if list_bilangan[i]%2 == 0:\n",
    "            count+=1\n",
    "    return count\n",
    "\n",
    "print(jawaban_1([1,3,4,5,9,10]))\n",
    "print(jawaban_1([6,8,11,14,17,18]))\n",
    "print(jawaban_1([4,6,7,10]))"
   ]
  },
  {
   "cell_type": "markdown",
   "metadata": {},
   "source": [
    "2. Program di bawah ini adalah fungsi yang menerima _input_ berupa dua bilangan bulat m dan n dan menghasilkan output berupa matriks dengan m baris dan n kolom yang dinyatakan oleh _nested list_, dimana elemen pada baris ke-i dan kolom ke-j adalah perkalian dari i dan j (ingat bahwa indeks suatu _list_ dimulai dari 0). Contoh:\\\n",
    "```jawaban_2(2,3) = [[0,0,0],[0,1,2]]```.\\\n",
    "```jawaban_2(4,2) = [[0,0],[0,1],[0,2],[0,3]]```\\\n",
    "Berikan _defense_ pada program sehingga program akan memberikan `return` berupa `string` dengan message ```'Nilai m atau n harus berupa integer'``` ketika _user_ memasukkan tipe data yang bukan _integer_."
   ]
  },
  {
   "cell_type": "code",
   "execution_count": 2,
   "metadata": {},
   "outputs": [
    {
     "name": "stdout",
     "output_type": "stream",
     "text": [
      "[[0, 0, 0, 0, 0], [0, 1, 2, 3, 4], [0, 2, 4, 6, 8], [0, 3, 6, 9, 12]]\n"
     ]
    },
    {
     "ename": "TypeError",
     "evalue": "'float' object cannot be interpreted as an integer",
     "output_type": "error",
     "traceback": [
      "\u001b[1;31m---------------------------------------------------------------------------\u001b[0m",
      "\u001b[1;31mTypeError\u001b[0m                                 Traceback (most recent call last)",
      "\u001b[1;32m<ipython-input-2-0a8665aa85ed>\u001b[0m in \u001b[0;36m<module>\u001b[1;34m\u001b[0m\n\u001b[0;32m      8\u001b[0m \u001b[1;33m\u001b[0m\u001b[0m\n\u001b[0;32m      9\u001b[0m \u001b[0mprint\u001b[0m\u001b[1;33m(\u001b[0m\u001b[0mjawaban_2\u001b[0m\u001b[1;33m(\u001b[0m\u001b[1;36m4\u001b[0m\u001b[1;33m,\u001b[0m\u001b[1;36m5\u001b[0m\u001b[1;33m)\u001b[0m\u001b[1;33m)\u001b[0m\u001b[1;33m\u001b[0m\u001b[1;33m\u001b[0m\u001b[0m\n\u001b[1;32m---> 10\u001b[1;33m \u001b[0mprint\u001b[0m\u001b[1;33m(\u001b[0m\u001b[0mjawaban_2\u001b[0m\u001b[1;33m(\u001b[0m\u001b[1;36m4.0\u001b[0m\u001b[1;33m,\u001b[0m\u001b[1;36m5\u001b[0m\u001b[1;33m)\u001b[0m\u001b[1;33m)\u001b[0m\u001b[1;33m\u001b[0m\u001b[1;33m\u001b[0m\u001b[0m\n\u001b[0m\u001b[0;32m     11\u001b[0m \u001b[0mprint\u001b[0m\u001b[1;33m(\u001b[0m\u001b[0mjawaban_2\u001b[0m\u001b[1;33m(\u001b[0m\u001b[1;34m'str'\u001b[0m\u001b[1;33m,\u001b[0m\u001b[1;34m'a'\u001b[0m\u001b[1;33m)\u001b[0m\u001b[1;33m)\u001b[0m\u001b[1;33m\u001b[0m\u001b[1;33m\u001b[0m\u001b[0m\n",
      "\u001b[1;32m<ipython-input-2-0a8665aa85ed>\u001b[0m in \u001b[0;36mjawaban_2\u001b[1;34m(m, n)\u001b[0m\n\u001b[0;32m      1\u001b[0m \u001b[1;31m#defense program di bawah ini\u001b[0m\u001b[1;33m\u001b[0m\u001b[1;33m\u001b[0m\u001b[1;33m\u001b[0m\u001b[0m\n\u001b[0;32m      2\u001b[0m \u001b[1;32mdef\u001b[0m \u001b[0mjawaban_2\u001b[0m\u001b[1;33m(\u001b[0m\u001b[0mm\u001b[0m\u001b[1;33m,\u001b[0m\u001b[0mn\u001b[0m\u001b[1;33m)\u001b[0m\u001b[1;33m:\u001b[0m\u001b[1;33m\u001b[0m\u001b[1;33m\u001b[0m\u001b[0m\n\u001b[1;32m----> 3\u001b[1;33m     \u001b[0mmatrix\u001b[0m \u001b[1;33m=\u001b[0m \u001b[1;33m[\u001b[0m\u001b[1;33m[\u001b[0m\u001b[1;36m0\u001b[0m \u001b[1;32mfor\u001b[0m \u001b[0mj\u001b[0m \u001b[1;32min\u001b[0m \u001b[0mrange\u001b[0m\u001b[1;33m(\u001b[0m\u001b[0mn\u001b[0m\u001b[1;33m)\u001b[0m\u001b[1;33m]\u001b[0m \u001b[1;32mfor\u001b[0m \u001b[0mi\u001b[0m \u001b[1;32min\u001b[0m \u001b[0mrange\u001b[0m\u001b[1;33m(\u001b[0m\u001b[0mm\u001b[0m\u001b[1;33m)\u001b[0m\u001b[1;33m]\u001b[0m\u001b[1;33m\u001b[0m\u001b[1;33m\u001b[0m\u001b[0m\n\u001b[0m\u001b[0;32m      4\u001b[0m     \u001b[1;32mfor\u001b[0m \u001b[0mi\u001b[0m \u001b[1;32min\u001b[0m \u001b[0mrange\u001b[0m\u001b[1;33m(\u001b[0m\u001b[0mm\u001b[0m\u001b[1;33m)\u001b[0m\u001b[1;33m:\u001b[0m\u001b[1;33m\u001b[0m\u001b[1;33m\u001b[0m\u001b[0m\n\u001b[0;32m      5\u001b[0m         \u001b[1;32mfor\u001b[0m \u001b[0mj\u001b[0m \u001b[1;32min\u001b[0m \u001b[0mrange\u001b[0m\u001b[1;33m(\u001b[0m\u001b[0mn\u001b[0m\u001b[1;33m)\u001b[0m\u001b[1;33m:\u001b[0m\u001b[1;33m\u001b[0m\u001b[1;33m\u001b[0m\u001b[0m\n",
      "\u001b[1;31mTypeError\u001b[0m: 'float' object cannot be interpreted as an integer"
     ]
    }
   ],
   "source": [
    "#defense program di bawah ini\n",
    "def jawaban_2(m,n):\n",
    "    matrix = [[0 for j in range(n)] for i in range(m)]\n",
    "    for i in range(m):\n",
    "        for j in range(n):\n",
    "            matrix[i][j] = i*j\n",
    "    return matrix\n",
    "\n",
    "print(jawaban_2(4,5))\n",
    "print(jawaban_2(4.0,5))\n",
    "print(jawaban_2('str','a'))"
   ]
  },
  {
   "cell_type": "markdown",
   "metadata": {},
   "source": [
    "3. Pada sebuah segitiga, berlaku bahwa jumlah panjang dua buah sisi akan lebih besar dari panjang sisi yang ketiga. Contohnya adalah jika kita punya bangun ABC dengan panjang AB = 2, BC = 4, dan AC = 3, maka ABC adalah sebuah segitiga karena \n",
    "* $AB + BC = 2 + 4 = 6 > AC$, \n",
    "* $AB + AC = 2 + 3 = 5 > BC$, dan\n",
    "* $BC + AC = 4 + 3 = 7 > AB$.\\\n",
    "Segitiga dapat dikategorikan menjadi tiga, yaitu sama sisi, sama kaki, atau sembarang. \n",
    "* Segitiga sama sisi adalah segitiga yang panjang ketiga sisinya sama semua. Contohnya segitiga dengan panjang sisi-sisinya masing-masing 4 (AB = BC = AC = 4).\n",
    "* Segitiga sama kaki adalah segitiga yang memiliki dua sisi yang sama panjang. Contohnya adalah segitiga dengan panjang sisi-sisinya adalah AB = 4, BC = 5, AC = 4 atau segitiga dengan panjang sisi-sisinya AB = 5, BC = 5, AC = 6.\n",
    "* Segitiga sembarang adalah segitiga yang tidak termasuk ke dalam dua kategori sebelumnya."
   ]
  },
  {
   "cell_type": "markdown",
   "metadata": {},
   "source": [
    "Program di bawah ini adalah program untuk menentukan apakah sebuah segitiga adalah segitiga sama sisi, sama kaki, atau sembarang. Input dari program adalah tiga buah bilangan (tidak harus berurutan) yang akan menjadi panjang sisi-sisi segitiga, outputnya adalah ```'Sama sisi'```, ```'Sama kaki'```, atau ```'Sembarang'```. \\\n",
    "Lengkapi program di bawah ini dan perbaiki sedemikian sehingga jika _user_ memasukkan tiga buah bilangan yang tidak memenuhi syarat sisi segitiga yang dijelaskan di paragraf pertama, maka akan keluar **return string** ```'Bukan segitiga'```."
   ]
  },
  {
   "cell_type": "code",
   "execution_count": 3,
   "metadata": {},
   "outputs": [
    {
     "name": "stdout",
     "output_type": "stream",
     "text": [
      "Sama sisi\n",
      "Sama kaki\n",
      "Sembarang\n",
      "Bukan segitiga\n"
     ]
    }
   ],
   "source": [
    "#lengkapi dan perbaiki program di bawah ini\n",
    "def jawaban_3(a,b,c):\n",
    "    if ...:  #defense anda\n",
    "        return 'Bukan segitiga'\n",
    "    \n",
    "    if ...:  #kondisi dari segitiga sama sisi\n",
    "        return 'Sama sisi'\n",
    "    elif ...:  #kondisi dari segitiga sama kaki\n",
    "        return 'Sama kaki'\n",
    "    else:\n",
    "        return 'Sembarang'\n",
    "\n",
    "print(jawaban_3(4,4,4))\n",
    "print(jawaban_3(4,5,4))\n",
    "print(jawaban_3(6,8,12))\n",
    "print(jawaban_3(5,3,1))"
   ]
  },
  {
   "cell_type": "markdown",
   "metadata": {},
   "source": [
    "4. Buatlah program yang membalikkan urutan kata pada suatu kalimat. Contoh:\\\n",
    "```input: 'aku suka makan rendang', output: 'rendang makan suka aku'```\\\n",
    "Buat juga _defense_ untuk program Anda berupa:\n",
    "* **return string** ```'Input harus berupa string'``` jika _user_ memasukkan tipe data selain _string_, dan\n",
    "* **return string** ```'Banyak kata minimal 2 kata'``` jika banyak kata pada kalimat yang dimasukkan _user_ kurang dari 2 kata.\n",
    "\n",
    "**Hint:** gunakan metode ```.split(' ')``` untuk memperoleh _list_ kata-kata pada kalimat yang dimasukkan _user_."
   ]
  },
  {
   "cell_type": "code",
   "execution_count": 6,
   "metadata": {},
   "outputs": [
    {
     "name": "stdout",
     "output_type": "stream",
     "text": [
      "rendang makan suka aku \n",
      "Banyak kata minimal 2 kata\n",
      "Input harus berupa string\n"
     ]
    }
   ],
   "source": [
    "#lengkapi program di bawah ini dan berikan defense\n",
    "def jawaban_4(string):\n",
    "    # Beri defense disini, pastikan return adalah string yang diminta\n",
    "    \n",
    "    words = ... #split input kalimat menjadi beberapa kata.\n",
    "    reverse = ''\n",
    "    for i in range(1,len(words)+1):\n",
    "        ...\n",
    "    return reverse\n",
    "\n",
    "    \n",
    "print(jawaban_4('aku suka makan rendang'))\n",
    "print(jawaban_4('bakso'))\n",
    "print(jawaban_4(24))"
   ]
  },
  {
   "cell_type": "markdown",
   "metadata": {},
   "source": [
    "5. Buatlah program yang menerima _input_ berupa _list_ berisi bilangan, dan output dari program adalah _list_ dimana elemen pada indeks ke-_i_ _list_ tersebut adalah jumlah dari (_i_+1) elemen _list input_. Contoh:\\\n",
    "```input: [4,5,2,10], output: [4,9,11,21]```\\\n",
    "Perhatikan bahwa elemen pertama output adalah 4, elemen kedua output adalah 9 = 4 + 5, elemen ketiga output adalah 11 = 4 + 5 + 2, dan elemen terakhir output adalah 21 = 4 + 5 + 2 + 10.\\\n",
    "Beri juga _defense_ untuk program Anda berupa **return string** ```'Terjadi kesalahan pada input'``` apabila _user_ memberikan _input_ yang salah, seperti ada elemen yang bukan _integer/float_ atau _user_ memasukkan tipe data _integer/float/string_ sebagai _input_ program."
   ]
  },
  {
   "cell_type": "code",
   "execution_count": 12,
   "metadata": {},
   "outputs": [
    {
     "name": "stdout",
     "output_type": "stream",
     "text": [
      "[4, 9, 11, 21]\n",
      "Terjadi kesalahan pada input\n",
      "Terjadi kesalahan pada input\n",
      "Terjadi kesalahan pada input\n"
     ]
    }
   ],
   "source": [
    "#lengkapi program ini dan berilah defense\n",
    "def jawaban_5(list_numbers):\n",
    "    ...\n",
    "\n",
    "print(jawaban_5([4,5,2,10]))\n",
    "print(jawaban_5([4,9,'3','2']))\n",
    "print(jawaban_5(143))\n",
    "print(jawaban_5('234'))"
   ]
  },
  {
   "cell_type": "markdown",
   "metadata": {},
   "source": [
    "6. Program di bawah ini adalah program yang menerima _input_ berupa _list_ berisi bilangan, dan mengeluarkan _output_ berupa elemen terbesar pada _list_ tersebut. Contoh:\n",
    "```input: [4,9,11,5,8,14,8,5,4,10], output: 14```\\\n",
    "Lengkapi program tersebut. Kemudian, beri _defense_ untuk program Anda berupa **return string** ```'Terjadi kesalahan pada input'``` jika _user_ memasukkan tipe data _integer/float/string_ pada _input_ atau terdapat elemen _list_ yang bukan _integer/float_, dan **return string** ```'Panjang list minimal 2'``` jika panjang _list input_ kurang dari 2.\n",
    "**Catatan:** Jangan gunakan fungsi ```max()```.\\\n",
    "**Hint:** kombinasikan try/except dengan assert dengan tipe exception AssertionError."
   ]
  },
  {
   "cell_type": "code",
   "execution_count": 25,
   "metadata": {},
   "outputs": [
    {
     "name": "stdout",
     "output_type": "stream",
     "text": [
      "14\n",
      "15\n",
      "19\n",
      "Panjang list minimal 2\n",
      "Terjadi kesalahan pada input\n"
     ]
    }
   ],
   "source": [
    "def jawaban_6(list_numbers):\n",
    "    m = list_numbers[0]\n",
    "    for i in range(...):\n",
    "        if ...:\n",
    "            ...\n",
    "    return m\n",
    "\n",
    "print(jawaban_6([4,9,11,5,8,14,8,5,4,10]))\n",
    "print(jawaban_6([15,8,9,11]))\n",
    "print(jawaban_6([10,5,8,19]))\n",
    "print(jawaban_6([13]))\n",
    "print(jawaban_6('sdfuh'))"
   ]
  }
 ],
 "metadata": {
  "kernelspec": {
   "display_name": "Python 3",
   "language": "python",
   "name": "python3"
  },
  "language_info": {
   "codemirror_mode": {
    "name": "ipython",
    "version": 3
   },
   "file_extension": ".py",
   "mimetype": "text/x-python",
   "name": "python",
   "nbconvert_exporter": "python",
   "pygments_lexer": "ipython3",
   "version": "3.6.1"
  }
 },
 "nbformat": 4,
 "nbformat_minor": 4
}
