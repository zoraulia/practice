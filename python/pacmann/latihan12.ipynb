{
 "cells": [
  {
   "cell_type": "markdown",
   "metadata": {},
   "source": [
    "1. Diberikan kode untuk menampilkan angka fibonacci, namun nama-nama dari variabelnya masih sulit dipahami. Coba ubahlah nama-nama variabelnya dan beri komentar seperlunya sehingga lebih mudah dipahami "
   ]
  },
  {
   "cell_type": "code",
   "execution_count": null,
   "metadata": {},
   "outputs": [],
   "source": [
    "n = int(input(\"Berapa banyak? \"))\n",
    "n1, n2 = 0, 1\n",
    "c = 0\n",
    "if n <= 0:\n",
    "   print(\"Masukkan bilangan bulat positif\")\n",
    "elif n == 1:\n",
    "   print(\"Bilangan fibonacci sampai ke-\",nterms,\":\")\n",
    "   print(n1)\n",
    "else:\n",
    "   print(\"Fibonacci sequence:\")\n",
    "   while c < n:\n",
    "       print(n1)\n",
    "       nth = n1 + n2\n",
    "       # update values\n",
    "       n1 = n2\n",
    "       n2 = nth\n",
    "       c += 1"
   ]
  },
  {
   "cell_type": "markdown",
   "metadata": {},
   "source": [
    "2. Diberikan fungsi untuk menghitung nilai rata-rata dari suatu list. Perbaikilah penulisannya dan berilah docstring agar fungsi berikut menjadi lebih rapih."
   ]
  },
  {
   "cell_type": "code",
   "execution_count": null,
   "metadata": {},
   "outputs": [],
   "source": [
    "def fungsi1(list_1):\n",
    "    jumlah = 0\n",
    "    n = 0\n",
    "    for elemen in list_1:\n",
    "        jumlah = jumlah + elemen\n",
    "        n = n + 1\n",
    "    hasil = jumlah  /   n\n",
    "    return hasil\n",
    "\n",
    "list1 = [1,2,3,4,5,6,7,8,9,10]\n",
    "print(fungsi1(list1))"
   ]
  },
  {
   "cell_type": "markdown",
   "metadata": {},
   "source": [
    "3. Diberikan implementasi dari puzzle _FizzBuzz_ :\n",
    "> Fungsi yang menampilkan angka dari 1 sampai 100. Namun, angka dengan kelipatan 3 akan digantikan oleh “Fizz” daripada angka and angka kelipatan 5 menghasilkan “Buzz”. Angka yang merupakan kelipatan 3 dan 5 akan menghasilkan “FizzBuzz”.\n",
    "\n",
    "Berilah fungsi berikut docstring, komentar yang sesuai, dan rapihkanlah penulisannya."
   ]
  },
  {
   "cell_type": "code",
   "execution_count": null,
   "metadata": {},
   "outputs": [],
   "source": [
    "def func(n):\n",
    "    r = []\n",
    "    for i in range(1,  n + 1):\n",
    "        if i % 3 == 0 and i % 5 == 0 :\n",
    "        r.append(  \"FizzBuzz\")\n",
    "        elif i %3==0:\n",
    "        r.append(\"Fizz\" )\n",
    "        elif i% 5 == 0:\n",
    "        r.append(\"Buzz\")\n",
    "        else:\n",
    "        r.append(str(i))\n",
    "    return r\n",
    "print(func(30))"
   ]
  }
 ],
 "metadata": {
  "kernelspec": {
   "display_name": "Python 3",
   "language": "python",
   "name": "python3"
  },
  "language_info": {
   "codemirror_mode": {
    "name": "ipython",
    "version": 3
   },
   "file_extension": ".py",
   "mimetype": "text/x-python",
   "name": "python",
   "nbconvert_exporter": "python",
   "pygments_lexer": "ipython3",
   "version": "3.8.5"
  }
 },
 "nbformat": 4,
 "nbformat_minor": 4
}
