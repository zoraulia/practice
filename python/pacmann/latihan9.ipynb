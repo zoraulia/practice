{
 "cells": [
  {
   "cell_type": "markdown",
   "metadata": {},
   "source": [
    "1. Diberikan sebuah fungsi yang mengalikan masing-masing elemen antara 2 buah list. Misalkan:\n",
    "```\n",
    "list_1 = [2,4,5]\n",
    "list_2 = [3,2,6]\n",
    "```\n",
    "Maka hasilnya:\n",
    "```\n",
    "list_hasil = [6,8,30]\n",
    "```\n",
    "Berilah fungsi berikut defense berupa:\n",
    "    * Error ketika elemen list ada yang string.\n",
    "    * Menggunakan list terpendek jika ukuran 2 list berbeda."
   ]
  },
  {
   "cell_type": "code",
   "execution_count": null,
   "metadata": {},
   "outputs": [],
   "source": [
    "def kali(list_1,list_2):\n",
    "    list_hasil = []\n",
    "    for i in range(len(list_1)):\n",
    "        list_hasil.append(list_1[i] * list_2[i])\n",
    "    return list_hasil\n",
    "\n",
    "list_1 = [2,4,5]\n",
    "list_2 = [3,2,6]\n",
    "print(kali(list_1,list_2))"
   ]
  },
  {
   "cell_type": "markdown",
   "metadata": {},
   "source": [
    "2. Suatu string dapat disebut palindrom jika dibaca dari depan dan belakang menghasilkan kata dan makna yang sama. Contoh:\n",
    "\n",
    "`kasur rusak` adalah palindrom\n",
    "`komputer` bukan palindrom\n",
    "\n",
    "Di bawah ini diberikan fungsi untuk mengecek suatu palindrom atau bukan. Berikanlah fungsi dibawah ini _defense_ berupa:\n",
    "* Pesan error jika input yang diberikan bukan berupa string.\n",
    "* Panjang input maksimum adalah 25.  "
   ]
  },
  {
   "cell_type": "code",
   "execution_count": null,
   "metadata": {},
   "outputs": [],
   "source": [
    "def isPalindrome(word):\n",
    "    wordLength = len(word)\n",
    "\n",
    "    for i in range(wordLength // 2):\n",
    "        if (word[i] != word[(wordLength - 1) - i]):\n",
    "            return False\n",
    "        \n",
    "    return True"
   ]
  },
  {
   "cell_type": "markdown",
   "metadata": {},
   "source": [
    "3. Diberikan fungsi untuk menghitung jumlah huruf vokal di dalam suatu teks.\n",
    "\n",
    "Berikanlah fungsi dibawah ini _defense_ berupa:\n",
    "* Pesan error jika input yang diberikan bukan berupa string\n",
    "* Pesan error jika input yang diberikan kurang dari 10 karakter."
   ]
  },
  {
   "cell_type": "code",
   "execution_count": null,
   "metadata": {},
   "outputs": [],
   "source": [
    "def count_vowels(text):\n",
    "    vowels = ['a','i','u','e','o']\n",
    "    count = 0\n",
    "    for letter in text.lower():\n",
    "        if letter in vowels:\n",
    "            count += 1\n",
    "        else:\n",
    "            pass\n",
    "    return count"
   ]
  },
  {
   "cell_type": "markdown",
   "metadata": {},
   "source": [
    "4. Diberikan suatu fungsi untuk perkalian matriks `x1` dengan ukuran `n1 x m1` dan matriks `x2` dengan ukuran `n2 x m2`. Berilah defense pada fungsi berikut berupa:\n",
    "    * Elemen di dalam matriks harus berupa integer atau float.\n",
    "    * nilai dari `m1` dan `n2` harus sama.   "
   ]
  },
  {
   "cell_type": "code",
   "execution_count": null,
   "metadata": {},
   "outputs": [],
   "source": [
    "def matrix_mul(x1,x2):\n",
    "  r=[]\n",
    "  m=[]\n",
    "  for i in range(len(x1)):\n",
    "    for j in range(len(x2[0])):\n",
    "      sums=0\n",
    "      for k in range(len(x2)):\n",
    "        sums=sums+(x1[i][k]*x2[k][j])\n",
    "      r.append(sums)\n",
    "    m.append(r)\n",
    "    r=[]\n",
    "  return m"
   ]
  }
 ],
 "metadata": {
  "kernelspec": {
   "display_name": "Python 3",
   "language": "python",
   "name": "python3"
  },
  "language_info": {
   "codemirror_mode": {
    "name": "ipython",
    "version": 3
   },
   "file_extension": ".py",
   "mimetype": "text/x-python",
   "name": "python",
   "nbconvert_exporter": "python",
   "pygments_lexer": "ipython3",
   "version": "3.8.5"
  }
 },
 "nbformat": 4,
 "nbformat_minor": 4
}
