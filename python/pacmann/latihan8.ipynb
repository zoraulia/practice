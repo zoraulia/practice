{
 "cells": [
  {
   "cell_type": "markdown",
   "metadata": {},
   "source": [
    "1. Diberikan sebuah fungsi yang mengalikan masing-masing elemen antara 2 buah list. Misalkan:\n",
    "```\n",
    "list_1 = [2,4,5]\n",
    "list_2 = [3,2,6]\n",
    "```\n",
    "Maka hasilnya:\n",
    "```\n",
    "list_hasil = [6,8,30]\n",
    "```\n",
    "Namun, implementasi fungsi berikut masih terdapat beberapa bug. Perbaikilah kode berikut:"
   ]
  },
  {
   "cell_type": "code",
   "execution_count": null,
   "metadata": {},
   "outputs": [],
   "source": [
    "def kali(list_1,list_2):\n",
    "    list_hasil = []\n",
    "    for i in range(1, len(list_1)):\n",
    "        hasil = list_1[i] * list_2[i]\n",
    "    return hasil\n",
    "\n",
    "list_1 = [2,4,5]\n",
    "list_2 = [3,2,6]\n",
    "print(kali(list_1,list_2))"
   ]
  },
  {
   "cell_type": "markdown",
   "metadata": {},
   "source": [
    "2. Diberikan fungsi untuk memodifikasi sebuah list:\n",
    "\n",
    "    > list input akan memiliki nilai antara 1 sampai 20. Jika angka pada list tersebut adalah angka ganjil, maka fungsi akan mengubahnya menjadi `'ganjil'`.\n",
    "\n",
    "contoh:\n",
    "```\n",
    "[1,2,3,4,5,6]\n",
    "```\n",
    "```\n",
    "['ganjil',2,'ganjil',4,'ganjil',6]\n",
    "```"
   ]
  },
  {
   "cell_type": "code",
   "execution_count": null,
   "metadata": {},
   "outputs": [],
   "source": [
    "def modif(list_1):\n",
    "    for i in range(len(list_1)):\n",
    "        if i % 2 == 1:\n",
    "            list_1[i] = 'ganjil'\n",
    "    return list_1\n",
    "\n",
    "test = [1,2,3,4,5,6]\n",
    "print(modif(test))"
   ]
  },
  {
   "cell_type": "markdown",
   "metadata": {},
   "source": [
    "3. \n",
    "Diberikan implementasi dari puzzle _FizzBuzz_ :\n",
    "> Tuliskan fungsi yang menampilkan angka dari 1 sampai 100. Namun, angka dengan kelipatan 3 akan digantikan oleh “Fizz” daripada angka and angka kelipatan 5 menghasilkan “Buzz”. Angka yang merupakan kelipatan 3 dan 5 akan menghasilkan “FizzBuzz”.\n",
    "\n",
    "Fungsi berikut seharusnya benar\n",
    "```python\n",
    ">>> fizzbuzz() # should return the following (abridged) output\n",
    "[1, 2, 'Fizz', 4, 'Buzz', 6, 7, 8, 'Fizz', 'Buzz', 11, 'Fizz', 13, 14, 'FizzBuzz', ... ]\n",
    "```\n",
    "\n",
    "Namun, masih ada beberapa yang salah. Apakah anda bisa memperbaikinya?\n"
   ]
  },
  {
   "cell_type": "code",
   "execution_count": null,
   "metadata": {},
   "outputs": [],
   "source": [
    "def is_multiple(n, divisor):\n",
    "  return n % divisor == 0\n",
    "\n",
    "def fizzbuzz():\n",
    "  \"\"\"\n",
    "  expected output: list with elements numbers \n",
    "      [1, 2, 'Fizz', 4, 'Buzz', 'Fizz', 7, 8, 'Fizz', 'Buzz', 11, 'Fizz', 13, 14, 'FizzBuzz', ... ]\n",
    "  \"\"\"\n",
    "  result = []\n",
    "  for i in range(100):\n",
    "    if is_multiple(i, 3):\n",
    "      return \"Fizz\"\n",
    "    elif is_multiple(i, 5):\n",
    "      return \"Buzz\"\n",
    "    elif is_multiple(i, 3) and is_multiple(i, 5):\n",
    "      return \"FizzBuzz\"\n",
    "    else:\n",
    "      return i\n",
    "  \n",
    "  return result"
   ]
  },
  {
   "cell_type": "code",
   "execution_count": null,
   "metadata": {},
   "outputs": [],
   "source": [
    "fizzbuzz()"
   ]
  },
  {
   "cell_type": "markdown",
   "metadata": {},
   "source": [
    "4. Diberikan fungsi untuk menghasilkan `n` bilangan fibonacci pertama:\n",
    "\n",
    "input:\n",
    "```\n",
    "num = 7\n",
    "```\n",
    "output:\n",
    "```\n",
    "[1,1,2,3,5,8,13]\n",
    "```\n",
    "\n",
    "Namun, implementasi fungsi berikut masih terdapat beberapa bug."
   ]
  },
  {
   "cell_type": "code",
   "execution_count": null,
   "metadata": {},
   "outputs": [],
   "source": [
    "def fibonacci():\n",
    "    num = input(\"How many numbers that generates?:\")\n",
    "    i = 1\n",
    "    if num == 0:\n",
    "        fib = []\n",
    "    elif num == 1:\n",
    "        fib = [1]\n",
    "    elif num == 2:\n",
    "        fib = [1]\n",
    "    elif num > 2:\n",
    "        fib = [1,1]\n",
    "        while i < (num - 1):\n",
    "            fib[i+1] = fib[i] + fib[i-1]\n",
    "            i += 1\n",
    "    return fib\n",
    "print(fibonacci())"
   ]
  }
 ],
 "metadata": {
  "kernelspec": {
   "display_name": "Python 3",
   "language": "python",
   "name": "python3"
  },
  "language_info": {
   "codemirror_mode": {
    "name": "ipython",
    "version": 3
   },
   "file_extension": ".py",
   "mimetype": "text/x-python",
   "name": "python",
   "nbconvert_exporter": "python",
   "pygments_lexer": "ipython3",
   "version": "3.8.5"
  }
 },
 "nbformat": 4,
 "nbformat_minor": 4
}
