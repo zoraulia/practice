{
 "cells": [
  {
   "cell_type": "markdown",
   "metadata": {},
   "source": [
    "1. Buatlah sebuah class dengan nama `Meter` yang memiliki atribut berupa `panjang`.\n",
    "    * Di dalam kelas tersebut buatlah 1 method yang bernama `convert_feet`.\n",
    "    * Method tersebut akan mengonversi meter menjadi feet  (1m = 3.28ft)\n",
    "    * `return` hasil dari method tersebut\n",
    "\n",
    "ekspektasi:\n",
    "```\n",
    "objek1 = Meter(2)\n",
    "\n",
    "feet = objek1.convert_feet()\n",
    "print(feet)\n",
    "```\n",
    "\n",
    "Hasil:\n",
    "```\n",
    "6.56\n",
    "```"
   ]
  },
  {
   "cell_type": "code",
   "execution_count": null,
   "metadata": {},
   "outputs": [],
   "source": []
  },
  {
   "cell_type": "markdown",
   "metadata": {},
   "source": [
    "2. Buatlah class dengan nama `SegitigaSiku` yang memiliki atribut berupa `alas` dan `tinggi`.\n",
    "    * Di dalam kelas tersebut buatlah 3 method yang bernama `sisi_miring`, `keliling` dan `luas`.\n",
    "    * `sisi_miring` menghitung panjang sisi miring pada segitiga siku-siku dengan menggunakan Pythagoras. (Gunakan `x**0.5` untuk akar)\n",
    "    * `keliling` menghitung panjang keliling dari segitiga tersebut.\n",
    "    * `luas` menghitung luas dari segitiga tersebut.\n",
    "    * `return` semua hasil dari mathod tersebut!\n",
    "\n",
    "ekspektasi:\n",
    "```\n",
    "segitiga1 = SegitigaSiku(6,8)\n",
    "\n",
    "hypotenuse = segitiga1.sisi_miring() \n",
    "perimeter = segitiga1.keliling()  \n",
    "area = segitiga1.luas()  \n",
    "\n",
    "print(hypotenuse)\n",
    "print(perimeter)\n",
    "print(area)\n",
    "```\n",
    "Hasil:\n",
    "```\n",
    "10\n",
    "24\n",
    "24\n",
    "```"
   ]
  },
  {
   "cell_type": "code",
   "execution_count": null,
   "metadata": {},
   "outputs": [],
   "source": []
  },
  {
   "cell_type": "markdown",
   "metadata": {},
   "source": [
    "3. Buatlah class `Mahasiswa` dan inisialisasi dengan atribut `nama` dan `nim`. Dan buatlah method untuk:\n",
    "    * `__str__` - Menampilkan nama dan nim dari mahasiswa\n",
    "    * `setUmur` - Menambahkan informasi umur ke objek mahasiswa\n",
    "    * `setNilai`- Menambahkan informasi nilai ke objek mahasiswa\n",
    "\n",
    "ekspektasi:\n",
    "```\n",
    "budi = Mahasiswa('Budi',16520123)\n",
    "budi.setUmur(17)\n",
    "budi.setNilai(92)\n",
    "\n",
    "print(budi)\n",
    "print(budi.umur)\n",
    "print(budi.nilai)\n",
    "```\n",
    "\n",
    "hasil\n",
    "```\n",
    "nama = Budi, NIM = 16520123\n",
    "17\n",
    "92\n",
    "```"
   ]
  },
  {
   "cell_type": "code",
   "execution_count": null,
   "metadata": {},
   "outputs": [],
   "source": []
  }
 ],
 "metadata": {
  "kernelspec": {
   "display_name": "Python 3",
   "language": "python",
   "name": "python3"
  },
  "language_info": {
   "codemirror_mode": {
    "name": "ipython",
    "version": 3
   },
   "file_extension": ".py",
   "mimetype": "text/x-python",
   "name": "python",
   "nbconvert_exporter": "python",
   "pygments_lexer": "ipython3",
   "version": "3.8.5"
  }
 },
 "nbformat": 4,
 "nbformat_minor": 4
}
