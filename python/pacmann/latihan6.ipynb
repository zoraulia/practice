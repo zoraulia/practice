{
 "cells": [
  {
   "cell_type": "markdown",
   "metadata": {},
   "source": [
    "1. Diberikan sebuah tuple sebagai berikut, ambil potongan tuple dari elemen ke-3 sampai elemen ke-8\n",
    "    * Output: (53, 44, 64, 21, 94, 39)"
   ]
  },
  {
   "cell_type": "code",
   "execution_count": 4,
   "metadata": {},
   "outputs": [
    {
     "name": "stdout",
     "output_type": "stream",
     "text": [
      "(53, 44, 64, 21, 94, 39)\n"
     ]
    }
   ],
   "source": [
    "Tuple_1 = (12,23,53,44,64,21,94,39,10,63,54,75,98,11)\n",
    "this = Tuple_1[2:8]\n",
    "print(this)"
   ]
  },
  {
   "cell_type": "markdown",
   "metadata": {},
   "source": [
    "2. Balik urutan tuple berikut:\n",
    "    * output: `(55,45,35,25,15)`"
   ]
  },
  {
   "cell_type": "code",
   "execution_count": 4,
   "metadata": {},
   "outputs": [
    {
     "name": "stdout",
     "output_type": "stream",
     "text": [
      "(55, 45, 35, 25, 15)\n"
     ]
    }
   ],
   "source": [
    "tuple_2 = (15,25,35,45,55)\n",
    "this1 = tuple_2[::-1]\n",
    "print(this1)"
   ]
  },
  {
   "cell_type": "markdown",
   "metadata": {},
   "source": [
    "3. Diberikan sebuah list, urutkanlah list berikut secara alfabet:\n",
    "\n",
    "expected output = `['apple','ball','covariance','determinant','exponential','factorization']`"
   ]
  },
  {
   "cell_type": "code",
   "execution_count": 4,
   "metadata": {},
   "outputs": [
    {
     "name": "stdout",
     "output_type": "stream",
     "text": [
      "['apple', 'ball', 'covariance', 'determinant', 'exponential', 'factorization']\n"
     ]
    }
   ],
   "source": [
    "list_1 = ['apple','covariance', 'ball', 'factorization', 'exponential', 'determinant']\n",
    "list_1.sort()\n",
    "print(list_1)"
   ]
  },
  {
   "cell_type": "markdown",
   "metadata": {},
   "source": [
    "4. Diberikan sebuah list, ubahlah setiap elemennya menjadi nilai kuadratnya:\n",
    "    * output: [4,9,16,25,36,49]"
   ]
  },
  {
   "cell_type": "code",
   "execution_count": 8,
   "metadata": {},
   "outputs": [
    {
     "name": "stdout",
     "output_type": "stream",
     "text": [
      "[4, 9, 16, 25, 36, 49]\n"
     ]
    }
   ],
   "source": [
    "listku = [2,3,4,5,6,7]\n",
    "for item in range(len(listku)):\n",
    "    listku[item] **= 2\n",
    "print(listku)"
   ]
  },
  {
   "cell_type": "markdown",
   "metadata": {},
   "source": [
    "5. Buatlah list berisi deret fibonacci dari list yang disediakan, hingga jumlah elemen 15. \n",
    "\n",
    "    * Output: [0, 1, 1, 2, 3, 5, 8, 13, 21, 34, 55, 89, 144, 233, 377]"
   ]
  },
  {
   "cell_type": "code",
   "execution_count": null,
   "metadata": {},
   "outputs": [],
   "source": [
    "Banyak_elemen = 15\n",
    "\n",
    "#Cara 1\n",
    "fib_fun = lambda x: 0 if x==0 else( 1 if x==1 else fib_fun(x-1)+fib_fun(x-2))\n",
    "fib1 = [fib_fun(urutan) for urutan in range(Banyak_elemen)]\n",
    "print('Cara 1 = ',fib1)\n",
    "\n",
    "#Cara 2\n",
    "fib2 = [0, 1]\n",
    "[fib2.append(fib2[x-1]+fib2[x-2]) for x in range(2,Banyak_elemen)]\n",
    "print('Cara 2 = ',fib2)\n",
    "\n",
    "#Cara 3 : Pakai \"golden ratio\"\n",
    "fib3 = [int((((1 + 5**0.5) / 2)**x - ((1 - 5**0.5) / 2)**x) / 5**0.5) for x in range(Banyak_elemen)]\n",
    "print('Cara 3 = ',fib3)\n",
    "\n",
    "#Cara 4 (nemu di mbah gugle | pakai assignment expression)\n",
    "fib4 = [0, 1]\n",
    "fib4 += [(fib4 := [fib4[1], fib4[0] + fib4[1]]) and fib4[1] for x in range(Banyak_elemen-len(fib4))]\n",
    "print('Cara 4 = ',fib4)"
   ]
  },
  {
   "cell_type": "markdown",
   "metadata": {},
   "source": [
    "6. Diberikan sebuah list, hapuslah semua elemen bernilai 20 dari list berikut:"
   ]
  },
  {
   "cell_type": "code",
   "execution_count": 15,
   "metadata": {},
   "outputs": [
    {
     "name": "stdout",
     "output_type": "stream",
     "text": [
      "[5, 15, 20, 25, 50, 20, 20, 25, 35, 65, 20, 30, 10, 20, 20]\n"
     ]
    }
   ],
   "source": [
    "list1 = [5, 20, 15, 20, 25, 50, 20, 20, 25, 35, 65, 20, 30, 10, 20, 20]\n",
    "list1.remove(20)\n",
    "print(list1)"
   ]
  },
  {
   "cell_type": "markdown",
   "metadata": {},
   "source": [
    "7. Gabungkanlah kedua list yang berurutan secara index:\n",
    "```\n",
    "list1 = [\"Sa\", \"su\", \"ma\", \"ta\"] \n",
    "list2 = [\"ya\", \"ka\", \"kan\", \"hu\"]\n",
    "```\n",
    "\n",
    "output:\n",
    "```\n",
    "['Saya','suka','makan','tahu']\n",
    "```"
   ]
  },
  {
   "cell_type": "code",
   "execution_count": 10,
   "metadata": {},
   "outputs": [
    {
     "name": "stdout",
     "output_type": "stream",
     "text": [
      "[('Sa', 'ya'), ('su', 'ka'), ('ma', 'kan'), ('ta', 'hu')]\n"
     ]
    }
   ],
   "source": [
    "list1 = [\"Sa\", \"su\", \"ma\", \"ta\"] \n",
    "list2 = [\"ya\", \"ka\", \"kan\", \"hu\"]\n",
    "\n",
    "hai = zip(list1, list2)\n",
    "print(list(hai))"
   ]
  }
 ],
 "metadata": {
  "kernelspec": {
   "display_name": "Python 3",
   "language": "python",
   "name": "python3"
  },
  "language_info": {
   "codemirror_mode": {
    "name": "ipython",
    "version": 3
   },
   "file_extension": ".py",
   "mimetype": "text/x-python",
   "name": "python",
   "nbconvert_exporter": "python",
   "pygments_lexer": "ipython3",
   "version": "3.8.5"
  }
 },
 "nbformat": 4,
 "nbformat_minor": 4
}
