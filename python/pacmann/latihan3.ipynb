{
 "cells": [
  {
   "cell_type": "markdown",
   "metadata": {},
   "source": [
    "1. Buatlah angka genap dari 20 sampai 10 menurun.\r\n",
    "\r\n",
    "expected output:\r\n",
    "```\r\n",
    "20\r\n",
    "18\r\n",
    "16\r\n",
    "14\r\n",
    "12\r\n",
    "10\r\n",
    "```"
   ]
  },
  {
   "cell_type": "markdown",
   "metadata": {},
   "source": [
    "dengan loop"
   ]
  },
  {
   "cell_type": "code",
   "execution_count": 1,
   "metadata": {},
   "outputs": [
    {
     "name": "stdout",
     "output_type": "stream",
     "text": [
      "20\n",
      "18\n",
      "16\n",
      "14\n",
      "12\n",
      "10\n"
     ]
    }
   ],
   "source": [
    "for i in range(20,9,-2):\r\n",
    "    print(i)"
   ]
  },
  {
   "cell_type": "markdown",
   "metadata": {},
   "source": [
    "dengan while"
   ]
  },
  {
   "cell_type": "code",
   "execution_count": 2,
   "metadata": {},
   "outputs": [
    {
     "name": "stdout",
     "output_type": "stream",
     "text": [
      "20\n",
      "18\n",
      "16\n",
      "14\n",
      "12\n",
      "10\n"
     ]
    }
   ],
   "source": [
    "angka = 20\r\n",
    "while angka >= 10:\r\n",
    "    print(angka)\r\n",
    "    angka-=2"
   ]
  },
  {
   "cell_type": "markdown",
   "metadata": {},
   "source": [
    "2. Buatlah angka kelipatan 9 dari 0 sampai 99.\r\n",
    "```\r\n",
    "0\r\n",
    "9\r\n",
    "18\r\n",
    "27\r\n",
    "36\r\n",
    "45\r\n",
    "54\r\n",
    "63\r\n",
    "72\r\n",
    "81\r\n",
    "90\r\n",
    "99\r\n",
    "```"
   ]
  },
  {
   "cell_type": "markdown",
   "metadata": {},
   "source": [
    "dengan for loop"
   ]
  },
  {
   "cell_type": "code",
   "execution_count": 3,
   "metadata": {},
   "outputs": [
    {
     "name": "stdout",
     "output_type": "stream",
     "text": [
      "0\n",
      "9\n",
      "18\n",
      "27\n",
      "36\n",
      "45\n",
      "54\n",
      "63\n",
      "72\n",
      "81\n",
      "90\n",
      "99\n"
     ]
    }
   ],
   "source": [
    "for i in range(100):\r\n",
    "    if i%9==0:\r\n",
    "        print(i)"
   ]
  },
  {
   "cell_type": "markdown",
   "metadata": {},
   "source": [
    "dengan while"
   ]
  },
  {
   "cell_type": "code",
   "execution_count": 4,
   "metadata": {},
   "outputs": [
    {
     "name": "stdout",
     "output_type": "stream",
     "text": [
      "0\n",
      "9\n",
      "18\n",
      "27\n",
      "36\n",
      "45\n",
      "54\n",
      "63\n",
      "72\n",
      "81\n",
      "90\n",
      "99\n"
     ]
    }
   ],
   "source": [
    "i = 0\r\n",
    "while i < 12:\r\n",
    "    print(i*9)\r\n",
    "    i+=1"
   ]
  },
  {
   "cell_type": "markdown",
   "metadata": {},
   "source": [
    "3. Buatlah output yang menjabarkan dari kata dan per huruf dari teks berikut. expected output:\r\n",
    "\r\n",
    "```\r\n",
    "hello\r\n",
    "h\r\n",
    "e\r\n",
    "l\r\n",
    "l\r\n",
    "o\r\n",
    "```"
   ]
  },
  {
   "cell_type": "code",
   "execution_count": 5,
   "metadata": {},
   "outputs": [
    {
     "name": "stdout",
     "output_type": "stream",
     "text": [
      "hello\n",
      "h\n",
      "e\n",
      "l\n",
      "l\n",
      "o\n"
     ]
    }
   ],
   "source": [
    "print('hello')\r\n",
    "for i in 'hello':\r\n",
    "    print(i)"
   ]
  },
  {
   "cell_type": "markdown",
   "metadata": {},
   "source": [
    "4. Buatlah table faktorial angka 1-5. expected output:\r\n",
    "\r\n",
    "```\r\n",
    "1! = 1\r\n",
    "2! = 2\r\n",
    "3! = 6\r\n",
    "4! = 24\r\n",
    "5! = 120\r\n",
    "```\r\n",
    "note : 5! = 5 x 4 x 3 x 2 x 1"
   ]
  },
  {
   "cell_type": "code",
   "execution_count": 6,
   "metadata": {},
   "outputs": [
    {
     "name": "stdout",
     "output_type": "stream",
     "text": [
      "1  \n",
      "1 2  \n",
      "1 2 3  \n",
      "1 2 3 4  \n",
      "1 2 3 4 5  \n"
     ]
    }
   ],
   "source": [
    "k = 6\r\n",
    "\r\n",
    "for i in range(1,k):\r\n",
    "    for l in range(1,(i+1)):\r\n",
    "        print(l, end=' ')\r\n",
    "    print(' ')   "
   ]
  },
  {
   "cell_type": "markdown",
   "metadata": {},
   "source": [
    "5. Budi, seorang anak berusia 5 tahun sedang belajar berhitung 1 sampai 20. Namun budi tidak menyukai angka kelipatan 6, sehingga dia selalu melewatkan angka dengan kelipatan 6. Terjemahkan kasus diatas menjadi kode!\r\n",
    "\r\n",
    "expected output:\r\n",
    "```\r\n",
    "1\r\n",
    "2\r\n",
    "3\r\n",
    "4\r\n",
    "5\r\n",
    "7\r\n",
    "8\r\n",
    "9\r\n",
    "10\r\n",
    "11\r\n",
    "13\r\n",
    "...\r\n",
    "```"
   ]
  },
  {
   "cell_type": "code",
   "execution_count": 7,
   "metadata": {},
   "outputs": [
    {
     "name": "stdout",
     "output_type": "stream",
     "text": [
      "1\n",
      "2\n",
      "3\n",
      "4\n",
      "5\n",
      "7\n",
      "8\n",
      "9\n",
      "10\n",
      "11\n",
      "13\n",
      "14\n",
      "15\n",
      "16\n",
      "17\n",
      "19\n",
      "20\n"
     ]
    }
   ],
   "source": [
    "for i in range(1,21):\r\n",
    "    if i%6==0:\r\n",
    "        continue\r\n",
    "    print(i)"
   ]
  },
  {
   "cell_type": "markdown",
   "metadata": {},
   "source": [
    "6. Buatlah angka dari 0 sampai 50. Jika angka tersebut kelipatan 7, lewati angka tersebut. Jika nilai kuadrat dari angka tersebut sudah melewati 484, maka berhenti."
   ]
  },
  {
   "cell_type": "code",
   "execution_count": 8,
   "metadata": {},
   "outputs": [
    {
     "name": "stdout",
     "output_type": "stream",
     "text": [
      "1\n",
      "2\n",
      "3\n",
      "4\n",
      "5\n",
      "6\n",
      "8\n",
      "9\n",
      "10\n",
      "11\n",
      "12\n",
      "13\n",
      "15\n",
      "16\n",
      "17\n",
      "18\n",
      "19\n",
      "20\n",
      "22\n"
     ]
    }
   ],
   "source": [
    "for i in range(23):\r\n",
    "    if i%7==0:\r\n",
    "        continue\r\n",
    "    print(i)"
   ]
  }
 ],
 "metadata": {
  "interpreter": {
   "hash": "d3dc79beb5021c59639c6d840a8f665784ea7696f28e22a72683b988f4f767cb"
  },
  "kernelspec": {
   "display_name": "Python 3.9.4 64-bit ('geo_env': conda)",
   "name": "python3"
  },
  "language_info": {
   "codemirror_mode": {
    "name": "ipython",
    "version": 3
   },
   "file_extension": ".py",
   "mimetype": "text/x-python",
   "name": "python",
   "nbconvert_exporter": "python",
   "pygments_lexer": "ipython3",
   "version": "3.8.5"
  },
  "orig_nbformat": 4
 },
 "nbformat": 4,
 "nbformat_minor": 2
}