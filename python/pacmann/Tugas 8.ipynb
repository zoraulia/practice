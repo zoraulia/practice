{
 "cells": [
  {
   "cell_type": "markdown",
   "metadata": {},
   "source": [
    "# Tugas Python 8\n",
    "\n",
    "* Silakan download dan kerjakan soal berikut dimanapun (laptop pribadi/google colab/etc.)\n",
    "* Setelah selesai mengerjakan, upload file ini di tempat yang telah disediakan pada platform.\n",
    "* Beri nama file seperti berikut: {username}-python-8.ipynb\n",
    "* Contoh: johndoe1-python-8.ipynb\n",
    "* Username dapat dilihat di dalam akun anda.\n",
    "* Mohon jangan mengubah nama variabel yang telah diberikan.\n",
    "* Namun anda diperbolehkan untuk menambah variabel apapun.\n",
    "---"
   ]
  },
  {
   "cell_type": "markdown",
   "metadata": {},
   "source": [
    "1. Pak Man bekerja dengan gaji bulanan sebesar Rp7.500.000,00. Ia membagi gaji bulanan tersebut menjadi tiga: 50% untuk kebutuhan, 30% untuk keinginan, sisanya untuk tabungan.\\\n",
    "Hitung berapa uang dari gaji yang dijadikan tabungan. Tulis jawaban Anda di variabel **jawaban_1** sebagai operasi."
   ]
  },
  {
   "cell_type": "code",
   "execution_count": 1,
   "metadata": {},
   "outputs": [
    {
     "name": "stdout",
     "output_type": "stream",
     "text": [
      "1500000.0\n"
     ]
    }
   ],
   "source": [
    "jawaban_1 = ...\n",
    "print(jawaban_1)"
   ]
  },
  {
   "cell_type": "markdown",
   "metadata": {},
   "source": [
    "2. Hitung ada berapa banyak huruf A muncul pada _string_ berisi kumpulan huruf di bawah ini (tidak _case sensitive_). Tulis jawaban Anda di variabel **jawaban_2**."
   ]
  },
  {
   "cell_type": "code",
   "execution_count": 20,
   "metadata": {},
   "outputs": [
    {
     "name": "stdout",
     "output_type": "stream",
     "text": [
      "7\n"
     ]
    }
   ],
   "source": [
    "string = 'JnAsDvOuNeWlRkAaSdFkJaVpSdGhUjSdHgBjHbVaCvUiQgDsAdSfHjGaRg'\n",
    "\n",
    "jawaban_2 = ...\n",
    "print(jawaban_2)"
   ]
  },
  {
   "cell_type": "markdown",
   "metadata": {},
   "source": [
    "3. Untuk mendeteksi apakah suatu data merupakan _outlier_ atau bukan, dapat digunakan metode _interquartile rule_. Metode tersebut dideskripsikan sebagai berikut:\n",
    "* Interkuartil didefinisikan sebagai $IQR = Q_3 - Q_1$, dimana $Q_1$ merupakan kuartil bawah dan $Q_3$ adalah kuartil atas.\n",
    "* Suatu data dikatakan _outlier_ apabila data tersebut bernilai kurang dari $Q_1 - 1.5(IQR)$ atau bernilai lebih dari $Q_3 + 1.5(IQR)$.\n",
    "\n",
    "    Bila diberikan sekumpulan data dengan:\n",
    "* $Q_1 = 7$\n",
    "* $Q_3 = 15$\n",
    "\n",
    "    Buatlah program untuk menentukan apakah **data bernilai 30 termasuk _outlier_ atau tidak**. Jika termasuk _outlier_, program akan memberikan nilai True, jika sebaliknya maka hasilnya False."
   ]
  },
  {
   "cell_type": "code",
   "execution_count": 4,
   "metadata": {},
   "outputs": [
    {
     "name": "stdout",
     "output_type": "stream",
     "text": [
      "True\n"
     ]
    }
   ],
   "source": [
    "#lengkapi kode di bawah ini\n",
    "data = 30\n",
    "...\n",
    "if ...:\n",
    "    jawaban_3 = True\n",
    "else:\n",
    "    jawaban_3 = False\n",
    "print(jawaban_3)"
   ]
  },
  {
   "cell_type": "markdown",
   "metadata": {},
   "source": [
    "4. Buatlah program untuk menghitung nilai dari jumlahan berikut:\n",
    "$$1+\\dfrac{1}{2}+\\left(\\dfrac{1}{2}\\right)^{2}+\\cdots+\\left(\\dfrac{1}{2}\\right)^{100}$$\n",
    "    Simpan hasil penjumlahan di variabel **jawaban_4**."
   ]
  },
  {
   "cell_type": "code",
   "execution_count": 7,
   "metadata": {},
   "outputs": [
    {
     "name": "stdout",
     "output_type": "stream",
     "text": [
      "2.0\n"
     ]
    }
   ],
   "source": [
    "#lengkapi kode di bawah ini\n",
    "jawaban_4 = 0\n",
    "\n",
    "...\n",
    "\n",
    "print(jawaban_4)"
   ]
  },
  {
   "cell_type": "markdown",
   "metadata": {},
   "source": [
    "5. Hitung jumlah dari semua bilangan asli yang nilai kuadratnya antara 25 hingga 900 (sehingga bilangan yang nilai kuadratnya 25 dan 900 tidak ikut serta), dengan syarat bilangan yang merupakan kelipatan 5 tidak ikut dijumlahkan. \\\n",
    "    Simpan hasil penjumlahan di variabel **jawaban_5**."
   ]
  },
  {
   "cell_type": "code",
   "execution_count": 9,
   "metadata": {},
   "outputs": [
    {
     "name": "stdout",
     "output_type": "stream",
     "text": [
      "350\n"
     ]
    }
   ],
   "source": [
    "#lengkapi kode di bawah ini\n",
    "jawaban_5 = 0\n",
    "\n",
    "...\n",
    "\n",
    "print(jawaban_5)"
   ]
  },
  {
   "cell_type": "markdown",
   "metadata": {},
   "source": [
    "6. Diberikan sebuah barisan fibonacci $1,1,2,3,5,\\dots$. Buatlah program dengan inputnya adalah suatu bilangan bulat $n$, dan outputnya adalah rasio antara suku ke-$(n+1)$ dan suku ke-$n$ dari barisan fibonacci. Contoh:\n",
    "* Input: 2 -> Output: $\\frac{suku\\,ke-3}{suku\\,ke-2}=\\frac{2}{1} = 2.0$\n",
    "* Input: 3 -> Output: $\\frac{suku\\,ke-4}{suku\\,ke-3}=\\frac{3}{2} = 1.5$\\\n",
    "Untuk menguji program Anda, cari berapa rasio antara suku ke-6 dan suku ke-5.\\\n",
    "Expected output = 1.6"
   ]
  },
  {
   "cell_type": "code",
   "execution_count": 3,
   "metadata": {},
   "outputs": [
    {
     "name": "stdout",
     "output_type": "stream",
     "text": [
      "1.6\n"
     ]
    }
   ],
   "source": [
    "#lengkapi kode di bawah ini\n",
    "def fib_ratio(suku):\n",
    "    ...\n",
    "\n",
    "jawaban_6 = fib_ratio(5)\n",
    "print(jawaban_6)"
   ]
  },
  {
   "cell_type": "markdown",
   "metadata": {},
   "source": [
    "7. Tentukan irisan dari ketiga himpunan berikut:\\\n",
    "$A = \\{1,3,5,6,8,10,12,13,14,17,20,22,23,25,28\\}$\\\n",
    "$B = \\{2,4,5,7,8,11,12,14,15,18,20,23,25\\}$\\\n",
    "$C = \\{1,3,4,7,8,13,14,17,20,22,23,25,28,30\\}$\\\n",
    "Tulis jawaban Anda di variabel **jawaban_7**."
   ]
  },
  {
   "cell_type": "code",
   "execution_count": 3,
   "metadata": {},
   "outputs": [
    {
     "name": "stdout",
     "output_type": "stream",
     "text": [
      "{8, 14, 20, 23, 25}\n"
     ]
    }
   ],
   "source": [
    "A = {1,3,5,6,8,10,12,13,14,17,20,22,23,25,28}\n",
    "B = {2,4,5,7,8,11,12,14,15,18,20,23,25}\n",
    "C = {1,3,4,7,8,13,14,17,20,22,23,25,28,30}\n",
    "\n",
    "jawaban_7 = ...\n",
    "print(jawaban_7)"
   ]
  },
  {
   "cell_type": "markdown",
   "metadata": {},
   "source": [
    "8. Buatlah fungsi yang membalikkan urutan kata pada suatu kalimat. Contoh:\\\n",
    "```input: 'aku suka makan rendang', output: 'rendang makan suka aku'```\\\n",
    "Buat juga _defense_ untuk program Anda berupa:\n",
    "* pesan ```'Input harus berupa string'``` jika _user_ memasukkan tipe data selain _string_, dan\n",
    "* pesan ```'Banyak kata minimal 2 kata'``` jika banyak kata pada kalimat yang dimasukkan _user_ kurang dari 2 kata.\\\n",
    "    \n",
    "    Pada variabel **jawaban_8**, tulis hasil dari fungsi yang Anda buat jika inputnya adalah ```'always deliver more than expected'```.\\\n",
    "    **Hint:** gunakan metode ```.split(' ')``` untuk memperoleh _list_ kata-kata pada kalimat yang dimasukkan _user_."
   ]
  },
  {
   "cell_type": "code",
   "execution_count": 5,
   "metadata": {},
   "outputs": [
    {
     "name": "stdout",
     "output_type": "stream",
     "text": [
      "expected than more deliver always \n"
     ]
    }
   ],
   "source": [
    "#lengkapi kode di bawah ini\n",
    "def word_reverse(string):\n",
    "    ...\n",
    "\n",
    "    \n",
    "jawaban_8 = ...\n",
    "print(jawaban_8)"
   ]
  },
  {
   "cell_type": "markdown",
   "metadata": {},
   "source": [
    "9. Buatlah _class_ `RegularPolygon` yang memiliki atribut `no_of_sides` dan `side_length`. `no_of_sides` adalah _integer_ yang menyatakan banyak sisi yang dimiliki poligon dan `side_length` adalah panjang dari sisi poligon. Objek yang dibentuk oleh _class_ ini adalah poligon sama sisi.\\\n",
    "Buat _method_ pada `RegularPolygon` sebagai berikut:\n",
    "* `perimeter` menghitung keliling poligon. \n",
    "* `interior_angle` menghitung besar sudut interior poligon, yaitu $interior\\,angle = (n-2)\\times 180/n$ (dalam derajat)\n",
    "* `exterior_angle` menghitung besar sudut eksterior poligon, yaitu $exterior\\,angle = 360/n$ (dalam derajat)\n",
    "        \n",
    "    Kemudian, buat _class_ `Square` yang inherit dari `RegularPolygon`. Objek yang dibentuk oleh `Square` adalah bujursangkar. `Square` memiliki _method_:\n",
    "* `area` menghitung luas bujursangkar.\n",
    "* `diagonal` menghitung panjang diagonal bujursangkar. Panjang diagonal bujursangkar adalah $sisi\\sqrt{2}$\n",
    "\n",
    "    **Pada variabel jawaban_9, isi dengan _tuple_ dengan elemen berturut-turut adalah keliling, luas, sudut interior, sudut eksterior, dan diagonal dari bujur sangkar dengan panjang sisi 5, yaitu _tuple_ `(keliling, luas, sudut interior, sudut exterior, diagonal)`.**\n",
    "\n",
    "    **Hint**: \n",
    "    * set parameter `no_of_sides` menjadi bernilai 4 saat mendefinisikan `Square`\n",
    "    * $\\sqrt{a}$ = `a**0.5`"
   ]
  },
  {
   "cell_type": "code",
   "execution_count": 16,
   "metadata": {},
   "outputs": [
    {
     "name": "stdout",
     "output_type": "stream",
     "text": [
      "(20, 25, 90.0, 90.0, 7.0710678118654755)\n"
     ]
    }
   ],
   "source": [
    "#lengkapi kode di bawah ini\n",
    "...\n",
    "\n",
    "bujursangkar = Square(5)\n",
    "\n",
    "keliling = bujursangkar.perimeter()\n",
    "luas = bujursangkar.area()\n",
    "sudut_int = bujursangkar.interior_angle()\n",
    "sudut_ext = bujursangkar.exterior_angle()\n",
    "diagonal = bujursangkar.diagonal()\n",
    "\n",
    "jawaban_9 = (keliling,luas,sudut_int,sudut_ext,diagonal)\n",
    "print(jawaban_9)"
   ]
  },
  {
   "cell_type": "markdown",
   "metadata": {},
   "source": [
    "10. Diketahui bakteri spesies P membelah diri menjadi dua individu setiap satu jam sekali. Sebuah laboratorium melakukan percobaan dengan bakteri P. Setiap empat jam, 30% dari bakteri dimatikan. Contoh skema banyak bakteri A pada percobaan tersebut adalah sebagai berikut:\n",
    "- Misalkan mula-mula terdapat 100 bakteri.\n",
    "- Satu jam pertama, bakteri membelah diri sehingga sekarang menjadi 200 bakteri.\n",
    "- Satu jam berikutnya, bakteri membelah diri lagi sehingga menjadi 400 bakteri.\n",
    "- Satu jam berikutnya, bakteri membelah diri lagi menjadi 800 bakteri.\n",
    "- Satu jam berikutnya, bakteri membelah diri lagi menjadi 1600 bakteri. Kemudian, 30% dari bakteri dimatikan. Sehingga, pada saat ini akan ada $1600 - 30\\%(1600) = 1120$ bakteri.\n",
    "- Satu jam berikutnya, bakter membelah diri menjadi $1120\\times 2 = 2240$ bakteri.\n",
    "Dan seterusnya.\\\n",
    "Jika setelah dimatikan banyak bakteri menjadi tidak _integer_, bulatkan ke bawah agar menjadi _integer_. Contoh:\n",
    "Jika banyak bakteri setelah dimatikan menjadi $40.6$, bulatkan menjadi $40$.\\\n",
    "Buatlah _generator_ `bakteri(init,hour)` yang meng-_generate_ banyak bakteri di tiap jam (mulai dari jam ke-1) dengan banyak bakteri awal adalah `init` dan lama pengamatan `hour` (dalam jam).\n",
    "\n",
    "    **Pada variabel jawaban_10, buatlah _list_ yang berisi banyak bakteri di setiap jam pada 10 jam pertama pengamatan. Diketahui banyak bakteri awal adalah 10 bakteri.**"
   ]
  },
  {
   "cell_type": "code",
   "execution_count": 5,
   "metadata": {},
   "outputs": [
    {
     "name": "stdout",
     "output_type": "stream",
     "text": [
      "[20, 40, 80, 112, 224, 448, 896, 1254, 2508, 5017]\n"
     ]
    }
   ],
   "source": [
    "#lengkapi kode di bawah ini\n",
    "...\n",
    "\n",
    "\n",
    "jawaban_10 = [int(i) for i in bakteri(10,10)]\n",
    "print(jawaban_10)"
   ]
  }
 ],
 "metadata": {
  "kernelspec": {
   "display_name": "Python 3",
   "language": "python",
   "name": "python3"
  },
  "language_info": {
   "codemirror_mode": {
    "name": "ipython",
    "version": 3
   },
   "file_extension": ".py",
   "mimetype": "text/x-python",
   "name": "python",
   "nbconvert_exporter": "python",
   "pygments_lexer": "ipython3",
   "version": "3.6.1"
  }
 },
 "nbformat": 4,
 "nbformat_minor": 4
}
