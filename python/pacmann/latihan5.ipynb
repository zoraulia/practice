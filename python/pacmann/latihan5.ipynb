{
 "cells": [
  {
   "cell_type": "markdown",
   "metadata": {},
   "source": [
    "1. Pak Tono adalah seorang kepala keluarga. Sebagai kepala keluarga yang baik, Pak Tono harus pintar-pintar mengatur keuangan bulanan untuk keluarganya. Secara `default` berikut adalah rincian alokasi dana:\n",
    "    * Kebutuhan sehari-hari: 50%\n",
    "    * Kebutuhan hiburan keluarga: 20%\n",
    "    * Ditabung: 30%\n",
    "\n",
    "Buatlah fungsi untuk membantu Pak Tono menghitung banyaknya uang yang harus ditabung!\n",
    "\n",
    "Input\n",
    "```\n",
    "pemasukan = 10000\n",
    "print(fungsi_anda(10000))\n",
    "print(fungsi_anda(10000, 50))\n",
    "```\n",
    "\n",
    "output\n",
    "```\n",
    "3000\n",
    "5000\n",
    "```"
   ]
  },
  {
   "cell_type": "code",
   "execution_count": 14,
   "metadata": {},
   "outputs": [
    {
     "name": "stdin",
     "output_type": "stream",
     "text": [
      " 10000\n"
     ]
    },
    {
     "name": "stdout",
     "output_type": "stream",
     "text": [
      "3000.0\n",
      "5000.0\n"
     ]
    }
   ],
   "source": [
    "def alokasi_dana(pemasukan, tabung=30):\n",
    "    besar_tabung = (pemasukan*tabung/100)\n",
    "    return besar_tabung\n",
    "\n",
    "pemasukan = int(input())\n",
    "\n",
    "print(alokasi_dana(pemasukan))\n",
    "print(alokasi_dana(pemasukan, tabung=50))"
   ]
  },
  {
   "cell_type": "markdown",
   "metadata": {},
   "source": [
    "2. Besar diskon pada sebuah toko berbanding lurus dengan jumlah barang yang dibeli. Untuk 1 barang diberi diskon sebesar `n%`, 2 barang `2*n%`, 3 barang `3*n%` dan seterusnya. Sampai diskon maksimal adalah `8*n%`. Dengan nilai default `n=7`.\n",
    "\n",
    "    Buatlah fungsi dengan `docstring` untuk menghitung harga akhir diskon dari harga total belanja:\n",
    "    \n",
    "    Input: Harga satuan barang, jumlah barang, diskon default=7\n",
    "    ```\n",
    "    print(fungsi_anda(10000,2))\n",
    "    print(fungsi_anda(10000,3,5))\n",
    "    ```\n",
    "\n",
    "    output: Harga total setelah diskon.\n",
    "    ```\n",
    "    Harga setelah diskon adalah 17200\n",
    "    Harga setelah diskon adalah 25500\n",
    "    ```"
   ]
  },
  {
   "cell_type": "code",
   "execution_count": null,
   "metadata": {},
   "outputs": [],
   "source": [
    "# Agita\n",
    "def total_payable(item_price, qty, base_discount=7):\n",
    "    \"\"\"\n",
    "    Function to calculate total payable after discount based on quantity.\n",
    "    \n",
    "    Args:\n",
    "        item_price (int): Price for item\n",
    "        qty (int): Quantity of item purchased\n",
    "        base_discount (int): Base discount in percentage. Defaults to 7.\n",
    "    \n",
    "    Returns:\n",
    "        total_payable: Total payable after discount based on quantity in a sentence\n",
    "    \"\"\"\n",
    "    if qty < 8:\n",
    "        total_payable = (qty * item_price) - ((qty * item_price) * ((qty * base_discount)/100))\n",
    "    else:\n",
    "        total_payable = (qty * item_price) - ((qty * item_price) * ((8 * base_discount)/100))\n",
    "    return (\"Harga setelah diskon adalah \" + str(int(total_payable)))\n",
    "                   \n",
    "print(total_payable(10000,2))\n",
    "print(total_payable(10000,3,5))"
   ]
  },
  {
   "cell_type": "code",
   "execution_count": null,
   "metadata": {},
   "outputs": [],
   "source": [
    "# Vidy\n",
    "def toko(harga, jumlah, diskon_satuan=7):\n",
    "    \"\"\"\n",
    "    Fungsi ini untuk mengkalkulasi total pembayaran setelah diskon\n",
    "    \n",
    "    Args:\n",
    "        harga: harga dari item\n",
    "        jumlah: banyaknya barang yang di beli\n",
    "        diskon_satuan: diskon dalam persentase, nilai default=7\n",
    "    \n",
    "    Returns:\n",
    "        harga_akhir: harga akhir setelah diskon\n",
    "    \"\"\"\n",
    "    \n",
    "    harga_total = harga*jumlah\n",
    "    diskon = jumlah*diskon_satuan/100 if jumlah <= 8 else 8*jumlah/100\n",
    "    harga_akhir = harga_total * (1-diskon)\n",
    "    return f\"Harga setelah diskon adalah {harga_akhir}\"\n",
    "    \n",
    "print(toko(10000,2))\n",
    "print(toko(10000,3,5))"
   ]
  },
  {
   "cell_type": "code",
   "execution_count": 15,
   "metadata": {},
   "outputs": [
    {
     "name": "stdout",
     "output_type": "stream",
     "text": [
      "Harga setelah diskon adalah 17200\n",
      "Harga setelah diskon adalah 25500\n"
     ]
    }
   ],
   "source": [
    "def harga_diskon (harga, jumlah, diskon=7):\n",
    "    \"\"\"\n",
    "    Fungsi untuk menghitung harga diskon.\n",
    "    Args:\n",
    "        harga (int): harga barang sebelum diskon\n",
    "        jumlah (int): jumlah barang\n",
    "        diskon(int): besar diskon dalam persen dengan perhitungan jumlah*diskon dan maksimal 8*diskon. default to 7.\n",
    "    returns:\n",
    "        harga_akhir: harga setelah diskon\n",
    "    \"\"\"\n",
    "    if jumlah <= 8:\n",
    "        harga_akhir = int(harga*jumlah*(1-(jumlah*diskon/100)))\n",
    "    else:\n",
    "       harga_akhir = int(harga*jumlah*(1-(8*diskon/100)))\n",
    "    return f'Harga setelah diskon adalah {harga_akhir}'\n",
    "\n",
    "print(harga_diskon(10000,2))\n",
    "print(harga_diskon(10000,3,5))"
   ]
  },
  {
   "cell_type": "markdown",
   "metadata": {},
   "source": [
    "3. Buatlah fungsi untuk mengecek apakah suatu string adalah palindrom. Jelaskan cara kerja fungsi di dalam `docstring`.\n",
    "    * Input: string - \"kayak\"\n",
    "    * Output: boolean - TRUE"
   ]
  },
  {
   "cell_type": "code",
   "execution_count": null,
   "metadata": {},
   "outputs": [],
   "source": [
    "# Agita\n",
    "def is_palindrome(text):\n",
    "    \"\"\"\n",
    "    Function to check if a text is a palindrom.\n",
    "    \n",
    "    Args:\n",
    "        text (str): Text input to be checked\n",
    "    \n",
    "    Returns:\n",
    "        output: Returns True is text input is a palindrome.\n",
    "    \"\"\"\n",
    "    for i in range(0,int(len(text)/2)):\n",
    "        if text[i] != text[len(text)-i-1]:\n",
    "            return False\n",
    "    return True\n",
    "\n",
    "        \n",
    "text_input = input(\"This is a program to check if a string is a palindrome. Please enter a text to check (e.g. kayak): \")\n",
    "\n",
    "if is_palindrome(text_input) == True:\n",
    "    print(text_input + \" is a palindrome.\")\n",
    "else:\n",
    "    print(text_input + \" is not a palindrome.\")"
   ]
  },
  {
   "cell_type": "code",
   "execution_count": 17,
   "metadata": {},
   "outputs": [
    {
     "name": "stdout",
     "output_type": "stream",
     "text": [
      "True\n",
      "True\n",
      "True\n",
      "False\n",
      "False\n"
     ]
    }
   ],
   "source": [
    "# Vidy\n",
    "def check_palindrome(text):\n",
    "    \"\"\"\n",
    "    Fungsi untuk mengecek apakah suatu teks palindrom atau tidak.\n",
    "    Fungsi akan mengecek apakah teks asli, dan teks yang telah di-reverse sama.\n",
    "\n",
    "    Args:\n",
    "        text (str): teks yang ingin dicek\n",
    "    \n",
    "    Returns:\n",
    "        is_palindrome (bool): Apakah teks adalah palindrom atau tidak\n",
    "    \"\"\"\n",
    "    is_palindrome = text == text[::-1]\n",
    "    return is_palindrome\n",
    "\n",
    "print(check_palindrome('kayak'))\n",
    "print(check_palindrome('kasur rusak'))\n",
    "print(check_palindrome('wadidaw'))\n",
    "print(check_palindrome('mobil'))\n",
    "print(check_palindrome('polisi'))"
   ]
  },
  {
   "cell_type": "markdown",
   "metadata": {},
   "source": [
    "materi extended slicing: https://docs.python.org/2.3/whatsnew/section-slices.html "
   ]
  },
  {
   "cell_type": "markdown",
   "metadata": {},
   "source": [
    "4. Buatlah fungsi dengan `docstring` untuk menghasilkan output sebagai berikut. Input yang diambil adalah nilai maksimum `n`\n",
    "\n",
    "```\n",
    "1\n",
    "1 2\n",
    ".\n",
    ".\n",
    "1 2 3 . . . n\n",
    "```"
   ]
  },
  {
   "cell_type": "code",
   "execution_count": 19,
   "metadata": {},
   "outputs": [
    {
     "name": "stdin",
     "output_type": "stream",
     "text": [
      " 7\n"
     ]
    },
    {
     "name": "stdout",
     "output_type": "stream",
     "text": [
      "1 \n",
      "1 2 \n",
      "1 2 3 \n",
      "1 2 3 4 \n",
      "1 2 3 4 5 \n",
      "1 2 3 4 5 6 \n",
      "1 2 3 4 5 6 7 \n"
     ]
    }
   ],
   "source": [
    "def segitiga_angka(n):\n",
    "    \"\"\"\n",
    "    Fungsi untuk menghasilkan segitiga angka\n",
    "\n",
    "    Args:\n",
    "        n (int): jumlah row\n",
    "    \n",
    "    Returns:\n",
    "        None - Tidak return langsung print\n",
    "    \"\"\"\n",
    "    for row in range(1, n+1):\n",
    "        for column in range(1, row + 1):\n",
    "            print(column, end=' ')\n",
    "        print(\"\")\n",
    "\n",
    "n = int(input())\n",
    "segitiga_angka(n)"
   ]
  },
  {
   "cell_type": "markdown",
   "metadata": {},
   "source": [
    "5. Buatlah lambda function untuk menghitung $y = 3x^2 - 4x + 17$"
   ]
  },
  {
   "cell_type": "code",
   "execution_count": 20,
   "metadata": {},
   "outputs": [
    {
     "name": "stdout",
     "output_type": "stream",
     "text": [
      "72\n"
     ]
    }
   ],
   "source": [
    "fungsi = lambda x: 3*x**2 - 4*x + 17\n",
    "print(fungsi(5))"
   ]
  },
  {
   "cell_type": "markdown",
   "metadata": {},
   "source": [
    "6. Bu Surti adalah seorang pemilik warung. Suatu hari Bu Surti ingin membuat diskon untuk barang belanjanya. Jika harga barang dibawah 50000 akan diberi diskon 5%, selain itu diberi diskon 10%.\n",
    "\n",
    "    Buatlah fungsi `lambda` untuk membantu Bu Surti:\n",
    "    * Input: Harga belanja\n",
    "    * Output: Harga setelah diskon"
   ]
  },
  {
   "cell_type": "code",
   "execution_count": 21,
   "metadata": {},
   "outputs": [
    {
     "name": "stdin",
     "output_type": "stream",
     "text": [
      " 10000\n"
     ]
    },
    {
     "name": "stdout",
     "output_type": "stream",
     "text": [
      "9500.0\n"
     ]
    }
   ],
   "source": [
    "after_discount = lambda x: x*(95/100) if x<50000 else x*(90/100)\n",
    "\n",
    "x = int(input())\n",
    "print(after_discount(x))"
   ]
  }
 ],
 "metadata": {
  "kernelspec": {
   "display_name": "Python 3",
   "language": "python",
   "name": "python3"
  },
  "language_info": {
   "codemirror_mode": {
    "name": "ipython",
    "version": 3
   },
   "file_extension": ".py",
   "mimetype": "text/x-python",
   "name": "python",
   "nbconvert_exporter": "python",
   "pygments_lexer": "ipython3",
   "version": "3.8.5"
  }
 },
 "nbformat": 4,
 "nbformat_minor": 4
}
