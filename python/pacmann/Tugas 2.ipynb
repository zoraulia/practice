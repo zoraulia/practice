{
 "cells": [
  {
   "cell_type": "markdown",
   "metadata": {},
   "source": [
    "# Tugas Python 2\n",
    "\n",
    "* Silakan download dan kerjakan soal berikut dimanapun (laptop pribadi/google colab/etc.)\n",
    "* Setelah selesai mengerjakan, upload file ini di tempat yang telah disediakan pada platform.\n",
    "* Peserta **wajib** memberi nama file seperti berikut: {username}-python-2.ipynb\n",
    "* **Contoh: johndoe1-t123-python-2.ipynb**\n",
    "* Username dapat dilihat di dalam akun anda.\n",
    "* Jika format nama tidak sesuai dengan ketentuan, maka tugas **tidak akan dinilai**.\n",
    "* Mohon **jangan mengubah** nama variabel yang telah diberikan.\n",
    "* Pada titik-titik yang diberikan masukkanlah variabel/kode yang sesuai.\n",
    "* Namun anda diperbolehkan untuk menambah kode apapun apapun.\n",
    "---"
   ]
  },
  {
   "cell_type": "markdown",
   "metadata": {},
   "source": [
    "## Contoh Menjawab"
   ]
  },
  {
   "cell_type": "markdown",
   "metadata": {},
   "source": [
    "**Contoh Jawaban Benar**"
   ]
  },
  {
   "cell_type": "markdown",
   "metadata": {},
   "source": [
    "0. Suatu organisasi memiliki jumlah anggota 120. Ketika akan memulai rapat, jumlah peserta harus minimal $0.5n + 1$. Pada suatu hari, jumlah peserta yang hadir adalah 50. Tentukan rapat dilaksanakan atau tidak."
   ]
  },
  {
   "cell_type": "code",
   "execution_count": null,
   "metadata": {},
   "outputs": [],
   "source": [
    "minimal = ... #ganti titik-titik dengan minimum jumlah peserta\n",
    "peserta_sekarang = 50\n",
    "\n",
    "#ganti semua titik-titik dengan kode yang tepat\n",
    "...:\n",
    "    jawaban_0 = 'Jadi rapat.'\n",
    "...:\n",
    "    jawaban_0 = 'Tidak jadi rapat.'"
   ]
  },
  {
   "cell_type": "code",
   "execution_count": 1,
   "metadata": {},
   "outputs": [
    {
     "name": "stdout",
     "output_type": "stream",
     "text": [
      "Tidak jadi rapat.\n"
     ]
    }
   ],
   "source": [
    "anggota = 120\n",
    "minimal = 0.5*anggota + 1\n",
    "peserta_sekarang = 50\n",
    "\n",
    "if peserta_sekarang >= minimal:\n",
    "    jawaban_0 = 'Jadi rapat.'\n",
    "else:\n",
    "    jawaban_0 = 'Tidak jadi rapat.'\n",
    "\n",
    "print(jawaban_0) # ini tidak wajib, bisa digunakan jika anda ingin mengecek jawaban anda"
   ]
  },
  {
   "cell_type": "markdown",
   "metadata": {},
   "source": [
    "**Contoh Jawaban yang salah**. "
   ]
  },
  {
   "cell_type": "markdown",
   "metadata": {},
   "source": [
    "0. Tono mempunyai 2 layangan, Budi mempunyai 3 layangan. Berapakah jumlah layangan mereka?"
   ]
  },
  {
   "cell_type": "code",
   "execution_count": null,
   "metadata": {},
   "outputs": [],
   "source": [
    "jawaban_0 = ... # ganti titik titik dengan jawaban anda"
   ]
  },
  {
   "cell_type": "markdown",
   "metadata": {},
   "source": [
    "INI SALAH"
   ]
  },
  {
   "cell_type": "code",
   "execution_count": null,
   "metadata": {},
   "outputs": [],
   "source": [
    "jawaban_0 = print(2+3)"
   ]
  },
  {
   "cell_type": "markdown",
   "metadata": {},
   "source": [
    "INI SALAH"
   ]
  },
  {
   "cell_type": "code",
   "execution_count": null,
   "metadata": {},
   "outputs": [],
   "source": [
    "jawaban_0\n",
    "print(2+3)"
   ]
  },
  {
   "cell_type": "markdown",
   "metadata": {},
   "source": [
    "INI SALAH"
   ]
  },
  {
   "cell_type": "code",
   "execution_count": null,
   "metadata": {},
   "outputs": [],
   "source": [
    "jawaban_0 = \n",
    "layangan_budi = 3\n",
    "layangan_tono = 2\n",
    "print(2+3)"
   ]
  },
  {
   "cell_type": "markdown",
   "metadata": {},
   "source": [
    "INI TIDAK BOLEH"
   ]
  },
  {
   "cell_type": "code",
   "execution_count": null,
   "metadata": {},
   "outputs": [],
   "source": [
    "layangan_budi = 3\n",
    "layangan_tono = 2\n",
    "print(layangan_budi+layangan_tono)"
   ]
  },
  {
   "cell_type": "markdown",
   "metadata": {},
   "source": [
    "---\n",
    "---\n",
    "## Soal"
   ]
  },
  {
   "cell_type": "markdown",
   "metadata": {},
   "source": [
    "1. Untuk lulus mata kuliah statistika, perlu nilai akhir minimal 55. Gunakan operator _comparison_ untuk menentukan apakah Amir lulus mata kuliah tersebut atau tidak, bila diberikan nilai akhir Amir adalah 70."
   ]
  },
  {
   "cell_type": "code",
   "execution_count": null,
   "metadata": {},
   "outputs": [],
   "source": [
    "nilai_amir = 70\n",
    "nilai_minimal = 55\n",
    "\n",
    "jawaban_1 = ... #ganti titik-titik dengan jawaban Anda"
   ]
  },
  {
   "cell_type": "markdown",
   "metadata": {},
   "source": [
    "2. Tentukan nilai kebenaran dari pernyataan berikut (True/False).\\\n",
    "$(13>12)$ OR ($11<10$ AND $9==8$)"
   ]
  },
  {
   "cell_type": "code",
   "execution_count": null,
   "metadata": {},
   "outputs": [],
   "source": [
    "jawaban_2 = ... #ganti titik-titik dengan jawaban Anda"
   ]
  },
  {
   "cell_type": "markdown",
   "metadata": {},
   "source": [
    "3. Tentukan apakah 123456789 habis dibagi 11 atau tidak."
   ]
  },
  {
   "cell_type": "code",
   "execution_count": 7,
   "metadata": {},
   "outputs": [],
   "source": [
    "bilangan = 123456789\n",
    "\n",
    "if ... #ganti titik-titik dengan kondisi yang harus dipenuhi\n",
    "    jawaban_3 = 'Habis dibagi 11'\n",
    "else:\n",
    "    jawaban_3 = 'Tidak habis dibagi 11'"
   ]
  },
  {
   "cell_type": "markdown",
   "metadata": {},
   "source": [
    "4. Sistem keamanan yang dipasang di suatu bendungan akan memberikan alarm bahaya ketika tinggi air mencapai lebih dari 950 cm. Apabila tinggi air hari ini adalah 945 cm, tentukan apakah sistem akan memberikan alarm atau tidak."
   ]
  },
  {
   "cell_type": "code",
   "execution_count": null,
   "metadata": {},
   "outputs": [],
   "source": [
    "hari_ini = ... #ganti titik-titik dengan tinggi air hari ini\n",
    "batasan = 950\n",
    "\n",
    "#ganti semua titik-titik dengan kode yang tepat\n",
    "...:\n",
    "    jawaban_4 = 'Bahaya!'\n",
    "...:\n",
    "    jawaban_4 = 'Tidak bahaya.'"
   ]
  },
  {
   "cell_type": "markdown",
   "metadata": {},
   "source": [
    "5. Pak Man berbelanja di sebuah minimarket. Pak Man membeli 2 kg telur, 2 kotak susu, dan 5 bungkus mie instan. Harga masing-masing barang diberikan oleh tabel berikut.\n",
    "\n",
    "|Barang|Harga|\n",
    "|------|-----|\n",
    "|Telur|Rp 17000/kg|\n",
    "|Susu|Rp 28000/kotak|\n",
    "|Mie instan|Rp 2000/bungkus|\n",
    "\n",
    "Pak Man membawa uang Rp 100.000. Cek apakah uang Pak Man pas untuk membayar belanjaannya atau tidak."
   ]
  },
  {
   "cell_type": "code",
   "execution_count": null,
   "metadata": {},
   "outputs": [],
   "source": [
    "total_belanja = ... #ganti titik-titik dengan total belanja Pak Man\n",
    "uang_pakman = 100000\n",
    "\n",
    "#ganti titik-titik dengan kode yang tepat\n",
    "...:\n",
    "    jawaban_5 = 'Uang lebih.'\n",
    "...:\n",
    "    jawaban_5 = 'Uang pas.'\n",
    "...:\n",
    "    jawaban_5 = 'Uang kurang.'"
   ]
  },
  {
   "cell_type": "markdown",
   "metadata": {},
   "source": [
    "6. Arin mengikuti ujian mata kuliah Pemrograman. Jika nilai ujiannya di bawah 75, ia harus mengikuti perbaikan. Sebaliknya, jika nilai ujiannya 75 atau lebih, ia tidak perlu melakukan apa-apa. Ternyata, nilainya adalah 74. Apakah Arin memerlukan perbaikan ujian? Lengkapi _syntax_ di bawah ini."
   ]
  },
  {
   "cell_type": "code",
   "execution_count": null,
   "metadata": {},
   "outputs": [],
   "source": [
    "nilai_arin = ... #ganti titik-titik dengan nilai Arin\n",
    "nilai_minimal = 75\n",
    "\n",
    "#ganti semua titik-titik dengan kode yang tepat\n",
    "...:\n",
    "    pass\n",
    "...:\n",
    "    jawaban_6 = 'Perlu perbaikan.'"
   ]
  },
  {
   "cell_type": "markdown",
   "metadata": {},
   "source": [
    "7. Pada suatu agensi model, seleksi kandidat model dilakukan berdasarkan tinggi badan. Rata-rata tinggi model di agensi tersebut adalah 165 cm. Agensi menginginkan model yang memiliki tinggi yang seragam dengan rata-rata, namun mereka masih mau menerima model dengan toleransi tinggi 5 cm dari rata-rata. Artinya, kandidat yang diterima adalah kandidat dengan tinggi minimal 5 cm di bawah rata-rata sampai maksimal 5 cm di atas rata-rata. Apakah kandidat dengan tinggi 167 cm akan diterima agensi tersebut?"
   ]
  },
  {
   "cell_type": "code",
   "execution_count": null,
   "metadata": {},
   "outputs": [],
   "source": [
    "tinggi_model = 167\n",
    "\n",
    "#ganti semua titik-titik dengan kode yang benar\n",
    "...:\n",
    "    jawaban_7 = 'Diterima'\n",
    "...:\n",
    "    jawaban_7 = 'Tidak diterima'"
   ]
  },
  {
   "cell_type": "markdown",
   "metadata": {},
   "source": [
    "8. Suatu sekolah menyeleksi calon siswa baru berdasarkan nilai tes Matematika dan Bahasa Inggris. Calon siswa diterima di sekolah tersebut apabila nilai tes keduanya tidak ada yang kurang dari 75. Calon siswa yang diterima akan dibagi ke dalam tiga kelas: Kelas A, Kelas B, dan Kelas C. Kriterianya adalah sebagai berikut:\n",
    "* Kelas A: nilai Matematika > 85 dan nilai Bahasa Inggris $\\geq$ 80\n",
    "* Kelas B: nilai Matematika > 80 dan nilai Bahasa Inggris $\\geq$ 77.5\n",
    "* Sisanya akan masuk ke kelas C\\\n",
    "\\\n",
    "Rudi mendapatkan nilai tes Matematika 84 dan tes Bahasa Inggris 77.5. Apakah Rudi diterima sebagai siswa sekolah tersebut? Jika ya, masuk ke kelas manakah dia?"
   ]
  },
  {
   "cell_type": "code",
   "execution_count": 14,
   "metadata": {},
   "outputs": [],
   "source": [
    "nilai_mtk = ... #ganti titik-titik dengan nilai Matematika Rudi\n",
    "nilai_ing = ... #ganti titik-titik dengan nilai Bahasa Inggris Rudi\n",
    "\n",
    "#ganti semua titik-titik dengan kode yang benar.\n",
    "...:\n",
    "    ...:\n",
    "        jawaban_8 = 'Kelas A'\n",
    "    ...:\n",
    "        jawaban_8 = 'Kelas B'\n",
    "    ...:\n",
    "        jawaban_8 = 'Kelas C'\n",
    "...:\n",
    "    jawaban_8 = 'Tidak diterima'"
   ]
  },
  {
   "cell_type": "markdown",
   "metadata": {},
   "source": [
    "9. Keluarkan semua bilangan kelipatan 8 yang nilai kuadratnya di bawah 600."
   ]
  },
  {
   "cell_type": "code",
   "execution_count": null,
   "metadata": {},
   "outputs": [],
   "source": [
    "i = 1\n",
    "jawaban_9 = ... #ganti dengan angka yang tepat\n",
    "\n",
    "#ganti titik-titik dengan kode yang tepat\n",
    "while (8*i)**2 < jawaban_9:\n",
    "    ...\n",
    "    i+=1"
   ]
  },
  {
   "cell_type": "markdown",
   "metadata": {},
   "source": [
    "10. Hitung jumlah kuadrat dari bilangan bulat mulai dari 1 sampai 10.\\\n",
    "$$1^2 + 2^2 + \\dots + 10^2$$"
   ]
  },
  {
   "cell_type": "code",
   "execution_count": 1,
   "metadata": {},
   "outputs": [],
   "source": [
    "jawaban_10 = 0\n",
    "\n",
    "#ganti semua titik-titik dengan kode yang tepat\n",
    "for ...:\n",
    "    jawaban_10+=..."
   ]
  },
  {
   "cell_type": "markdown",
   "metadata": {},
   "source": [
    "11. Keluarkan semua bilangan mulai dari 10 sampai 50, loncat 4.\\\n",
    "$$10, 14, 18, \\dots$$"
   ]
  },
  {
   "cell_type": "code",
   "execution_count": null,
   "metadata": {},
   "outputs": [],
   "source": [
    "jawaban_11 = ... #ganti titik-titik di samping dengan bilangan awalnya.\n",
    "\n",
    "#tulis kodenya dibawah ini\n",
    "..."
   ]
  },
  {
   "cell_type": "markdown",
   "metadata": {},
   "source": [
    "12. Jabarkan huruf dari kata 'onomatopoeia', namun hentikan penjabaran ketika program sudah mengeluarkan huruf 't'. _Expected output_:\n",
    "```\n",
    "o\n",
    "n\n",
    "o\n",
    "m\n",
    "a\n",
    "t\n",
    "```"
   ]
  },
  {
   "cell_type": "code",
   "execution_count": null,
   "metadata": {},
   "outputs": [],
   "source": [
    "kata = 'onomatopoeia'\n",
    "\n",
    "#ganti titik-titik dengan kode yang tepat\n",
    "for jawaban_12 in kata:\n",
    "    ..."
   ]
  },
  {
   "cell_type": "markdown",
   "metadata": {},
   "source": [
    "13. Keluarkan semua bilangan asli kurang dari 21, namun bilangan kelipatan 4 tidak diikutsertakan."
   ]
  },
  {
   "cell_type": "code",
   "execution_count": null,
   "metadata": {},
   "outputs": [],
   "source": [
    "#ganti semua titik-titik dengan kode yang tepat\n",
    "jawaban_13 = 0\n",
    "\n",
    "while ...:\n",
    "    ...\n",
    "    if ...:\n",
    "        ...\n",
    "    ..."
   ]
  },
  {
   "cell_type": "markdown",
   "metadata": {},
   "source": [
    "14. Berapa jumlah semua bilangan asli kurang dari atau sama dengan 50, namun bilangan kelipatan 3 tidak diikutsertakan? Dengan kata lain, hitunglah $1+2+4+5+7+8+\\dots+50$."
   ]
  },
  {
   "cell_type": "code",
   "execution_count": 33,
   "metadata": {},
   "outputs": [],
   "source": [
    "jawaban_14 = 0\n",
    "\n",
    "#ganti titik-titik dengan kode yang tepat\n",
    "...:\n",
    "    ...:\n",
    "        ...\n",
    "    jawaban_14+=..."
   ]
  },
  {
   "cell_type": "markdown",
   "metadata": {},
   "source": [
    "15. Keluarkan semua bilangan asli yang nilai kuadratnya lebih dari 20, dengan syarat:\n",
    "* bilangan yang habis dibagi 3 atau 4 tidak ikut dikeluarkan, dan\n",
    "* jika nilai kuadratnya sudah melewati 625, maka program berhenti."
   ]
  },
  {
   "cell_type": "code",
   "execution_count": null,
   "metadata": {},
   "outputs": [],
   "source": [
    "#ganti titik-titik dengan kode yang tepat\n",
    "for jawaban_15 in range(...,...):\n",
    "    if ...:\n",
    "        ...\n",
    "    ..."
   ]
  }
 ],
 "metadata": {
  "kernelspec": {
   "display_name": "Python 3",
   "language": "python",
   "name": "python3"
  },
  "language_info": {
   "codemirror_mode": {
    "name": "ipython",
    "version": 3
   },
   "file_extension": ".py",
   "mimetype": "text/x-python",
   "name": "python",
   "nbconvert_exporter": "python",
   "pygments_lexer": "ipython3",
   "version": "3.8.5"
  }
 },
 "nbformat": 4,
 "nbformat_minor": 4
}
