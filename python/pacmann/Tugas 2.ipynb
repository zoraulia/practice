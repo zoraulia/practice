{
 "cells": [
  {
   "cell_type": "markdown",
   "source": [
    "# Tugas Python 2\n",
    "\n",
    "* Silakan download dan kerjakan soal berikut dimanapun (laptop pribadi/google colab/etc.)\n",
    "* Setelah selesai mengerjakan, upload file ini di tempat yang telah disediakan pada platform.\n",
    "* Peserta **wajib** memberi nama file seperti berikut: {username}-python-2.ipynb\n",
    "* **Contoh: johndoe1-t123-python-2.ipynb**\n",
    "* Username dapat dilihat di dalam akun anda.\n",
    "* Jika format nama tidak sesuai dengan ketentuan, maka tugas **tidak akan dinilai**.\n",
    "* Mohon **jangan mengubah** nama variabel yang telah diberikan.\n",
    "* Pada titik-titik yang diberikan masukkanlah variabel/kode yang sesuai.\n",
    "* Namun anda diperbolehkan untuk menambah kode apapun apapun.\n",
    "---"
   ],
   "metadata": {}
  },
  {
   "cell_type": "markdown",
   "source": [
    "## Contoh Menjawab"
   ],
   "metadata": {}
  },
  {
   "cell_type": "markdown",
   "source": [
    "**Contoh Jawaban Benar**"
   ],
   "metadata": {}
  },
  {
   "cell_type": "markdown",
   "source": [
    "0. Suatu organisasi memiliki jumlah anggota 120. Ketika akan memulai rapat, jumlah peserta harus minimal $0.5n + 1$. Pada suatu hari, jumlah peserta yang hadir adalah 50. Tentukan rapat dilaksanakan atau tidak."
   ],
   "metadata": {}
  },
  {
   "cell_type": "code",
   "execution_count": null,
   "source": [
    "minimal = ... #ganti titik-titik dengan minimum jumlah peserta\r\n",
    "peserta_sekarang = 50\r\n",
    "\r\n",
    "#ganti semua titik-titik dengan kode yang tepat\r\n",
    "...:\r\n",
    "    jawaban_0 = 'Jadi rapat.'\r\n",
    "...:\r\n",
    "    jawaban_0 = 'Tidak jadi rapat.'"
   ],
   "outputs": [],
   "metadata": {}
  },
  {
   "cell_type": "code",
   "execution_count": 1,
   "source": [
    "anggota = 120\r\n",
    "minimal = 0.5*anggota + 1\r\n",
    "peserta_sekarang = 50\r\n",
    "\r\n",
    "if peserta_sekarang >= minimal:\r\n",
    "    jawaban_0 = 'Jadi rapat.'\r\n",
    "else:\r\n",
    "    jawaban_0 = 'Tidak jadi rapat.'\r\n",
    "\r\n",
    "print(jawaban_0) # ini tidak wajib, bisa digunakan jika anda ingin mengecek jawaban anda"
   ],
   "outputs": [
    {
     "output_type": "stream",
     "name": "stdout",
     "text": [
      "Tidak jadi rapat.\n"
     ]
    }
   ],
   "metadata": {}
  },
  {
   "cell_type": "markdown",
   "source": [
    "**Contoh Jawaban yang salah**. "
   ],
   "metadata": {}
  },
  {
   "cell_type": "markdown",
   "source": [
    "0. Tono mempunyai 2 layangan, Budi mempunyai 3 layangan. Berapakah jumlah layangan mereka?"
   ],
   "metadata": {}
  },
  {
   "cell_type": "code",
   "execution_count": null,
   "source": [
    "jawaban_0 = ... # ganti titik titik dengan jawaban anda"
   ],
   "outputs": [],
   "metadata": {}
  },
  {
   "cell_type": "markdown",
   "source": [
    "INI SALAH"
   ],
   "metadata": {}
  },
  {
   "cell_type": "code",
   "execution_count": null,
   "source": [
    "jawaban_0 = print(2+3)"
   ],
   "outputs": [],
   "metadata": {}
  },
  {
   "cell_type": "markdown",
   "source": [
    "INI SALAH"
   ],
   "metadata": {}
  },
  {
   "cell_type": "code",
   "execution_count": null,
   "source": [
    "jawaban_0\r\n",
    "print(2+3)"
   ],
   "outputs": [],
   "metadata": {}
  },
  {
   "cell_type": "markdown",
   "source": [
    "INI SALAH"
   ],
   "metadata": {}
  },
  {
   "cell_type": "code",
   "execution_count": null,
   "source": [
    "jawaban_0 = \r\n",
    "layangan_budi = 3\r\n",
    "layangan_tono = 2\r\n",
    "print(2+3)"
   ],
   "outputs": [],
   "metadata": {}
  },
  {
   "cell_type": "markdown",
   "source": [
    "INI TIDAK BOLEH"
   ],
   "metadata": {}
  },
  {
   "cell_type": "code",
   "execution_count": null,
   "source": [
    "layangan_budi = 3\r\n",
    "layangan_tono = 2\r\n",
    "print(layangan_budi+layangan_tono)"
   ],
   "outputs": [],
   "metadata": {}
  },
  {
   "cell_type": "markdown",
   "source": [
    "---\n",
    "---\n",
    "## Soal"
   ],
   "metadata": {}
  },
  {
   "cell_type": "markdown",
   "source": [
    "1. Untuk lulus mata kuliah statistika, perlu nilai akhir minimal 55. Gunakan operator _comparison_ untuk menentukan apakah Amir lulus mata kuliah tersebut atau tidak, bila diberikan nilai akhir Amir adalah 70."
   ],
   "metadata": {}
  },
  {
   "cell_type": "code",
   "execution_count": 1,
   "source": [
    "nilai_amir = 70\r\n",
    "nilai_minimal = 55\r\n",
    "\r\n",
    "jawaban_1 = nilai_amir >= nilai_minimal\r\n",
    "print(jawaban_1)"
   ],
   "outputs": [
    {
     "output_type": "stream",
     "name": "stdout",
     "text": [
      "True\n"
     ]
    }
   ],
   "metadata": {}
  },
  {
   "cell_type": "markdown",
   "source": [
    "2. Tentukan nilai kebenaran dari pernyataan berikut (True/False).\\\n",
    "$(13>12)$ OR ($11<10$ AND $9==8$)"
   ],
   "metadata": {}
  },
  {
   "cell_type": "code",
   "execution_count": 1,
   "source": [
    "jawaban_2 = (13>12) or (11<10 and 9==8)\r\n",
    "print(jawaban_2)"
   ],
   "outputs": [
    {
     "output_type": "stream",
     "name": "stdout",
     "text": [
      "True\n"
     ]
    }
   ],
   "metadata": {}
  },
  {
   "cell_type": "markdown",
   "source": [
    "3. Tentukan apakah 123456789 habis dibagi 11 atau tidak."
   ],
   "metadata": {}
  },
  {
   "cell_type": "code",
   "execution_count": 2,
   "source": [
    "bilangan = 123456789\r\n",
    "\r\n",
    "if bilangan%11==0:\r\n",
    "    jawaban_3 = 'Habis dibagi 11'\r\n",
    "else:\r\n",
    "    jawaban_3 = 'Tidak habis dibagi 11'\r\n",
    "\r\n",
    "print(jawaban_3)"
   ],
   "outputs": [
    {
     "output_type": "stream",
     "name": "stdout",
     "text": [
      "Tidak habis dibagi 11\n"
     ]
    }
   ],
   "metadata": {}
  },
  {
   "cell_type": "markdown",
   "source": [
    "4. Sistem keamanan yang dipasang di suatu bendungan akan memberikan alarm bahaya ketika tinggi air mencapai lebih dari 950 cm. Apabila tinggi air hari ini adalah 945 cm, tentukan apakah sistem akan memberikan alarm atau tidak."
   ],
   "metadata": {}
  },
  {
   "cell_type": "code",
   "execution_count": 3,
   "source": [
    "hari_ini = 945\r\n",
    "batasan = 950\r\n",
    "\r\n",
    "if hari_ini > batasan:\r\n",
    "    jawaban_4 = 'Bahaya!'\r\n",
    "else:\r\n",
    "    jawaban_4 = 'Tidak bahaya.'\r\n",
    "\r\n",
    "print(jawaban_4)"
   ],
   "outputs": [
    {
     "output_type": "stream",
     "name": "stdout",
     "text": [
      "Tidak bahaya.\n"
     ]
    }
   ],
   "metadata": {}
  },
  {
   "cell_type": "markdown",
   "source": [
    "5. Pak Man berbelanja di sebuah minimarket. Pak Man membeli 2 kg telur, 2 kotak susu, dan 5 bungkus mie instan. Harga masing-masing barang diberikan oleh tabel berikut.\n",
    "\n",
    "|Barang|Harga|\n",
    "|------|-----|\n",
    "|Telur|Rp 17000/kg|\n",
    "|Susu|Rp 28000/kotak|\n",
    "|Mie instan|Rp 2000/bungkus|\n",
    "\n",
    "Pak Man membawa uang Rp 100.000. Cek apakah uang Pak Man pas untuk membayar belanjaannya atau tidak."
   ],
   "metadata": {}
  },
  {
   "cell_type": "code",
   "execution_count": 4,
   "source": [
    "total_belanja = 2*17000 + 2*28000 + 5*2000\r\n",
    "uang_pakman = 100000\r\n",
    "\r\n",
    "if uang_pakman>total_belanja:\r\n",
    "    jawaban_5 = 'Uang lebih.'\r\n",
    "elif uang_pakman==total_belanja:\r\n",
    "    jawaban_5 = 'Uang pas.'\r\n",
    "else:\r\n",
    "    jawaban_5 = 'Uang kurang.'\r\n",
    "\r\n",
    "print(jawaban_5)"
   ],
   "outputs": [
    {
     "output_type": "stream",
     "name": "stdout",
     "text": [
      "Uang pas.\n"
     ]
    }
   ],
   "metadata": {}
  },
  {
   "cell_type": "markdown",
   "source": [
    "6. Arin mengikuti ujian mata kuliah Pemrograman. Jika nilai ujiannya di bawah 75, ia harus mengikuti perbaikan. Sebaliknya, jika nilai ujiannya 75 atau lebih, ia tidak perlu melakukan apa-apa. Ternyata, nilainya adalah 74. Apakah Arin memerlukan perbaikan ujian? Lengkapi _syntax_ di bawah ini."
   ],
   "metadata": {}
  },
  {
   "cell_type": "code",
   "execution_count": 5,
   "source": [
    "nilai_arin = 74\r\n",
    "nilai_minimal = 75\r\n",
    "\r\n",
    "if nilai_arin>=75:\r\n",
    "    pass\r\n",
    "else:\r\n",
    "    jawaban_6 = 'Perlu perbaikan.'\r\n",
    "\r\n",
    "print(jawaban_6)"
   ],
   "outputs": [
    {
     "output_type": "stream",
     "name": "stdout",
     "text": [
      "Perlu perbaikan.\n"
     ]
    }
   ],
   "metadata": {}
  },
  {
   "cell_type": "markdown",
   "source": [
    "7. Pada suatu agensi model, seleksi kandidat model dilakukan berdasarkan tinggi badan. Rata-rata tinggi model di agensi tersebut adalah 165 cm. Agensi menginginkan model yang memiliki tinggi yang seragam dengan rata-rata, namun mereka masih mau menerima model dengan toleransi tinggi 5 cm dari rata-rata. Artinya, kandidat yang diterima adalah kandidat dengan tinggi minimal 5 cm di bawah rata-rata sampai maksimal 5 cm di atas rata-rata. Apakah kandidat dengan tinggi 167 cm akan diterima agensi tersebut?"
   ],
   "metadata": {}
  },
  {
   "cell_type": "code",
   "execution_count": 9,
   "source": [
    "tinggi_model = 167\r\n",
    "tinggi_mean = 165\r\n",
    "toleransi = 5\r\n",
    "\r\n",
    "#ganti semua titik-titik dengan kode yang benar\r\n",
    "if (tinggi_model <= tinggi_mean+toleransi) and (tinggi_model >= tinggi_mean-toleransi):\r\n",
    "    jawaban_7 = 'Diterima'\r\n",
    "else:\r\n",
    "    jawaban_7 = 'Tidak diterima'\r\n",
    "\r\n",
    "print(jawaban_7)"
   ],
   "outputs": [
    {
     "output_type": "stream",
     "name": "stdout",
     "text": [
      "Diterima\n"
     ]
    }
   ],
   "metadata": {}
  },
  {
   "cell_type": "markdown",
   "source": [
    "8. Suatu sekolah menyeleksi calon siswa baru berdasarkan nilai tes Matematika dan Bahasa Inggris. Calon siswa diterima di sekolah tersebut apabila nilai tes keduanya tidak ada yang kurang dari 75. Calon siswa yang diterima akan dibagi ke dalam tiga kelas: Kelas A, Kelas B, dan Kelas C. Kriterianya adalah sebagai berikut:\n",
    "* Kelas A: nilai Matematika > 85 dan nilai Bahasa Inggris $\\geq$ 80\n",
    "* Kelas B: nilai Matematika > 80 dan nilai Bahasa Inggris $\\geq$ 77.5\n",
    "* Sisanya akan masuk ke kelas C\\\n",
    "\\\n",
    "Rudi mendapatkan nilai tes Matematika 84 dan tes Bahasa Inggris 77.5. Apakah Rudi diterima sebagai siswa sekolah tersebut? Jika ya, masuk ke kelas manakah dia?"
   ],
   "metadata": {}
  },
  {
   "cell_type": "code",
   "execution_count": 14,
   "source": [
    "nilai_mtk = ... #ganti titik-titik dengan nilai Matematika Rudi\r\n",
    "nilai_ing = ... #ganti titik-titik dengan nilai Bahasa Inggris Rudi\r\n",
    "\r\n",
    "#ganti semua titik-titik dengan kode yang benar.\r\n",
    "...:\r\n",
    "    ...:\r\n",
    "        jawaban_8 = 'Kelas A'\r\n",
    "    ...:\r\n",
    "        jawaban_8 = 'Kelas B'\r\n",
    "    ...:\r\n",
    "        jawaban_8 = 'Kelas C'\r\n",
    "...:\r\n",
    "    jawaban_8 = 'Tidak diterima'"
   ],
   "outputs": [],
   "metadata": {}
  },
  {
   "cell_type": "markdown",
   "source": [
    "9. Keluarkan semua bilangan kelipatan 8 yang nilai kuadratnya di bawah 600."
   ],
   "metadata": {}
  },
  {
   "cell_type": "code",
   "execution_count": null,
   "source": [
    "i = 1\r\n",
    "jawaban_9 = ... #ganti dengan angka yang tepat\r\n",
    "\r\n",
    "#ganti titik-titik dengan kode yang tepat\r\n",
    "while (8*i)**2 < jawaban_9:\r\n",
    "    ...\r\n",
    "    i+=1"
   ],
   "outputs": [],
   "metadata": {}
  },
  {
   "cell_type": "markdown",
   "source": [
    "10. Hitung jumlah kuadrat dari bilangan bulat mulai dari 1 sampai 10.\\\n",
    "$$1^2 + 2^2 + \\dots + 10^2$$"
   ],
   "metadata": {}
  },
  {
   "cell_type": "code",
   "execution_count": 1,
   "source": [
    "jawaban_10 = 0\r\n",
    "\r\n",
    "#ganti semua titik-titik dengan kode yang tepat\r\n",
    "for ...:\r\n",
    "    jawaban_10+=..."
   ],
   "outputs": [],
   "metadata": {}
  },
  {
   "cell_type": "markdown",
   "source": [
    "11. Keluarkan semua bilangan mulai dari 10 sampai 50, loncat 4.\\\n",
    "$$10, 14, 18, \\dots$$"
   ],
   "metadata": {}
  },
  {
   "cell_type": "code",
   "execution_count": null,
   "source": [
    "jawaban_11 = ... #ganti titik-titik di samping dengan bilangan awalnya.\r\n",
    "\r\n",
    "#tulis kodenya dibawah ini\r\n",
    "..."
   ],
   "outputs": [],
   "metadata": {}
  },
  {
   "cell_type": "markdown",
   "source": [
    "12. Jabarkan huruf dari kata 'onomatopoeia', namun hentikan penjabaran ketika program sudah mengeluarkan huruf 't'. _Expected output_:\n",
    "```\n",
    "o\n",
    "n\n",
    "o\n",
    "m\n",
    "a\n",
    "t\n",
    "```"
   ],
   "metadata": {}
  },
  {
   "cell_type": "code",
   "execution_count": null,
   "source": [
    "kata = 'onomatopoeia'\r\n",
    "\r\n",
    "#ganti titik-titik dengan kode yang tepat\r\n",
    "for jawaban_12 in kata:\r\n",
    "    ..."
   ],
   "outputs": [],
   "metadata": {}
  },
  {
   "cell_type": "markdown",
   "source": [
    "13. Keluarkan semua bilangan asli kurang dari 21, namun bilangan kelipatan 4 tidak diikutsertakan."
   ],
   "metadata": {}
  },
  {
   "cell_type": "code",
   "execution_count": null,
   "source": [
    "#ganti semua titik-titik dengan kode yang tepat\r\n",
    "jawaban_13 = 0\r\n",
    "\r\n",
    "while ...:\r\n",
    "    ...\r\n",
    "    if ...:\r\n",
    "        ...\r\n",
    "    ..."
   ],
   "outputs": [],
   "metadata": {}
  },
  {
   "cell_type": "markdown",
   "source": [
    "14. Berapa jumlah semua bilangan asli kurang dari atau sama dengan 50, namun bilangan kelipatan 3 tidak diikutsertakan? Dengan kata lain, hitunglah $1+2+4+5+7+8+\\dots+50$."
   ],
   "metadata": {}
  },
  {
   "cell_type": "code",
   "execution_count": 33,
   "source": [
    "jawaban_14 = 0\r\n",
    "\r\n",
    "#ganti titik-titik dengan kode yang tepat\r\n",
    "...:\r\n",
    "    ...:\r\n",
    "        ...\r\n",
    "    jawaban_14+=..."
   ],
   "outputs": [],
   "metadata": {}
  },
  {
   "cell_type": "markdown",
   "source": [
    "15. Keluarkan semua bilangan asli yang nilai kuadratnya lebih dari 20, dengan syarat:\n",
    "* bilangan yang habis dibagi 3 atau 4 tidak ikut dikeluarkan, dan\n",
    "* jika nilai kuadratnya sudah melewati 625, maka program berhenti."
   ],
   "metadata": {}
  },
  {
   "cell_type": "code",
   "execution_count": null,
   "source": [
    "#ganti titik-titik dengan kode yang tepat\r\n",
    "for jawaban_15 in range(...,...):\r\n",
    "    if ...:\r\n",
    "        ...\r\n",
    "    ..."
   ],
   "outputs": [],
   "metadata": {}
  },
  {
   "cell_type": "markdown",
   "source": [
    "16. Write loops that loops over the list and adds all the strings together to form one large combined string"
   ],
   "metadata": {}
  },
  {
   "cell_type": "code",
   "execution_count": 2,
   "source": [
    "sounds = [\"super\", \"cali\", \"fragil\", \"istic\", \"expi\", \"ali\", \"docious\"]"
   ],
   "outputs": [],
   "metadata": {}
  },
  {
   "cell_type": "code",
   "execution_count": 3,
   "source": [
    "result = \"\"\r\n",
    "for item in sounds:\r\n",
    "    result += item.upper()\r\n",
    "\r\n",
    "result"
   ],
   "outputs": [
    {
     "output_type": "execute_result",
     "data": {
      "text/plain": [
       "'SUPERCALIFRAGILISTICEXPIALIDOCIOUS'"
      ]
     },
     "metadata": {},
     "execution_count": 3
    }
   ],
   "metadata": {}
  },
  {
   "cell_type": "code",
   "execution_count": 13,
   "source": [
    "[x[::-1].lower() for x in [\"Elie\", \"Tim\", \"Matt\"]]"
   ],
   "outputs": [
    {
     "output_type": "execute_result",
     "data": {
      "text/plain": [
       "['eile', 'mit', 'ttam']"
      ]
     },
     "metadata": {},
     "execution_count": 13
    }
   ],
   "metadata": {}
  }
 ],
 "metadata": {
  "kernelspec": {
   "name": "python3",
   "display_name": "Python 3.8.5 64-bit ('base': conda)"
  },
  "language_info": {
   "codemirror_mode": {
    "name": "ipython",
    "version": 3
   },
   "file_extension": ".py",
   "mimetype": "text/x-python",
   "name": "python",
   "nbconvert_exporter": "python",
   "pygments_lexer": "ipython3",
   "version": "3.8.5"
  },
  "interpreter": {
   "hash": "314ea981c085db46ccef735dba59695dbecece85a3e4aa8984de4261ea0b2923"
  }
 },
 "nbformat": 4,
 "nbformat_minor": 4
}