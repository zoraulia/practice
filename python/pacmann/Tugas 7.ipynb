{
 "cells": [
  {
   "cell_type": "markdown",
   "metadata": {},
   "source": [
    "# Tugas Python 7\n",
    "\n",
    "* Tugas ini bertujuan untuk me-refresh pemahaman anda terhadap materi yang diberikan.\n",
    "* Silakan download dan kerjakan soal berikut dimanapun (laptop pribadi/google colab/etc.)\n",
    "* Setelah selesai mengerjakan, upload file ini di tempat yang telah disediakan pada platform.\n",
    "* Beri nama file seperti berikut: {username}-python-7.ipynb\n",
    "* Contoh: johndoe1-python-7.ipynb\n",
    "* Username dapat dilihat di dalam akun anda.\n",
    "* Mohon jangan mengubah nama variabel yang telah diberikan.\n",
    "* Namun anda diperbolehkan untuk menambah variabel apapun.\n",
    "---"
   ]
  },
  {
   "cell_type": "markdown",
   "metadata": {},
   "source": [
    "1. Adi sedang berbelanja barang di supermarket, dengan harga terlampir di bawah ini. Adi membeli 1 potong ayam, 4 ekor ikan kembung, 3 ikat kangkung, dan 2 botol susu. Lalu Adi mendapat diskon sebesar 20% dari total harga yang dibayarkan \n",
    "\n",
    "    Tuliskan biaya yang harus dibayar Adi pada variabel jawaban_1 sebagai operasi di bawah ini dan jalankan perhitungannya.\n",
    "\n",
    "| barang      | harga  |\n",
    "|-------------|--------|\n",
    "| ayam        | 25000  |\n",
    "| ikan kembung| 15000 |\n",
    "| sayur kangkung | 10000  |\n",
    "| susu        | 20000  |"
   ]
  },
  {
   "cell_type": "code",
   "execution_count": 4,
   "metadata": {},
   "outputs": [
    {
     "name": "stdout",
     "output_type": "stream",
     "text": [
      "124000.0\n"
     ]
    }
   ],
   "source": [
    "jawaban_1 = ...\n",
    "print(jawaban_1)"
   ]
  },
  {
   "cell_type": "markdown",
   "metadata": {},
   "source": [
    "2. Suatu sekolah menyeleksi calon siswa baru berdasarkan nilai tes Matematika dan Bahasa Inggris. Calon siswa diterima di sekolah tersebut apabila nilai tes keduanya tidak ada yang kurang dari 75. Calon siswa yang diterima akan dibagi ke dalam tiga kelas: Kelas A, Kelas B, dan Kelas C. Kriterianya adalah sebagai berikut:\n",
    "* Kelas A: nilai Matematika > 85 dan nilai Bahasa Inggris $\\geq$ 80\n",
    "* Kelas B: nilai Matematika > 80 dan nilai Bahasa Inggris $\\geq$ 77.5\n",
    "* Sisanya akan masuk ke kelas C\\\n",
    "\\\n",
    "Rudi mendapatkan nilai tes Matematika 85 dan tes Bahasa Inggris 80. Apakah Rudi diterima sebagai siswa sekolah tersebut? Jika ya, masuk ke kelas manakah dia?"
   ]
  },
  {
   "cell_type": "code",
   "execution_count": 5,
   "metadata": {},
   "outputs": [
    {
     "name": "stdout",
     "output_type": "stream",
     "text": [
      "Kelas B\n"
     ]
    }
   ],
   "source": [
    "nilai_mtk = ... #ganti titik-titik dengan nilai Matematika Rudi\n",
    "nilai_ing = ... #ganti titik-titik dengan nilai Bahasa Inggris Rudi\n",
    "\n",
    "#ganti semua titik-titik dengan kode yang benar.\n",
    "if ...:\n",
    "    if ...:\n",
    "        jawaban_2 = 'Kelas A'\n",
    "    elif ...:\n",
    "        jawaban_2 = 'Kelas B'\n",
    "    else:\n",
    "        jawaban_2 = 'Kelas C'\n",
    "else:\n",
    "    jawaban_2 = 'Tidak diterima'\n",
    "\n",
    "print(jawaban_2)"
   ]
  },
  {
   "cell_type": "markdown",
   "metadata": {},
   "source": [
    "3. Buatlah program untuk menghitung jumlah semua bilangan asli kurang dari atau sama dengan 70, namun bilangan kelipatan 4 tidak diikutsertakan. Simpan hasil perhitungan Anda dalam variabel jawaban_3."
   ]
  },
  {
   "cell_type": "code",
   "execution_count": 7,
   "metadata": {},
   "outputs": [
    {
     "name": "stdout",
     "output_type": "stream",
     "text": [
      "1873\n"
     ]
    }
   ],
   "source": [
    "jawaban_3 = 0\n",
    "\n",
    "#ganti titik-titik dengan kode yang tepat\n",
    "...\n",
    "\n",
    "print(jawaban_3)"
   ]
  },
  {
   "cell_type": "markdown",
   "metadata": {},
   "source": [
    "4. Suatu jasa pengiriman menetapkan ongkos kirim barang sebagai berikut: jika berat barang kurang dari 1 kg akan dikenai ongkos Rp 8000, jika lebih dari itu akan dikenai ongkos Rp 9000 plus tambahan sebesar Rp 2000/kg. Jika berat barang berupa pecahan, maka saat menghitung ongkos berat barang akan dibulatkan ke bawah (misalkan berat barang 1.6 kg maka akan dihitung 1 kg. Sehingga ongkos kirim barang tersebut adalah $9000 + 2000(1) = 11000$). Buatlah fungsi yang menghitung ongkos kirim suatu barang untuk jasa ekspedisi tersebut.\\\n",
    "Uji program Anda untuk menghitung ongkos kirim suatu barang dengan berat 4.25 kg."
   ]
  },
  {
   "cell_type": "code",
   "execution_count": 2,
   "metadata": {},
   "outputs": [
    {
     "name": "stdout",
     "output_type": "stream",
     "text": [
      "17000\n"
     ]
    }
   ],
   "source": [
    "def ongkos_kirim(berat):\n",
    "    return ...\n",
    "\n",
    "jawaban_4 = ongkos_kirim(4.25)\n",
    "print(jawaban_4)"
   ]
  },
  {
   "cell_type": "markdown",
   "metadata": {},
   "source": [
    "5. Diberikan data dua orang mahasiswa universitas Z berikut:\n",
    "|Nama|Fakultas|Semester|Total SKS|\n",
    "|------|-----|-----|-----|\n",
    "|Andi|Teknik|6|122|\n",
    "|Budi|Psikologi|6|120|\n",
    "\n",
    "    dimana Semester adalah semester keberapa mahasiswa tersebut saat ini dan Total SKS adalah banyaknya SKS yang diperoleh sampai saat ini. Tabel di atas telah diubah ke dalam bentuk _dictionary_ pada program di bawah.\\\n",
    "Untuk mengambil matakuliah Tugas Akhir, seorang mahasiswa wajib memperoleh minimal 120 SKS. Cek apakah Andi dan Budi dapat mengambil matakuliah Tugas Akhir atau tidak. Jawaban akan berupa _tuple_ berisi dua elemen Boolean, yang berturut-turut menyatakan apakah syarat pengambilan matakuliah Tugas Akhir sudah dipenuhi oleh Andi dan oleh Budi.\\\n",
    "    **Contoh**: Jika Andi tidak memenuhi syarat dan Budi memenuhi syarat, maka jawabannya adalah `(False, True)`."
   ]
  },
  {
   "cell_type": "code",
   "execution_count": 1,
   "metadata": {},
   "outputs": [
    {
     "name": "stdout",
     "output_type": "stream",
     "text": [
      "(True, True)\n"
     ]
    }
   ],
   "source": [
    "mahasiswa = {\"Andi\":{\"Fakultas\":..., \"Semester\":..., \"Total SKS\":...},\n",
    "            \"Budi\":{...:\"Psikologi\", ...:6, ...:120}}\n",
    "\n",
    "andi = ...\n",
    "budi = ...\n",
    "\n",
    "jawaban_5 = (andi,budi)\n",
    "print(jawaban_5)"
   ]
  },
  {
   "cell_type": "markdown",
   "metadata": {},
   "source": [
    "6. Gunakan konsep pemrograman rekursif untuk menghitung jumlah $n$ suku pertama deret harmonik. Deret harmonik adalah deret sbb:\n",
    "$$H(n) = 1 + \\frac{1}{2} + \\frac{1}{3} + \\frac{1}{4} + \\frac{1}{5} + \\dots + \\frac{1}{n}$$\n",
    "Kemudian keluarkan jumlah 4 suku pertama deret harmonik.\\\n",
    "_Expected output_: 2.083333333333333.\\\n",
    "    **Pada variabel jawaban_6, isi dengan jumlah 6 suku pertama deret harmonik.**"
   ]
  },
  {
   "cell_type": "code",
   "execution_count": 5,
   "metadata": {},
   "outputs": [
    {
     "name": "stdout",
     "output_type": "stream",
     "text": [
      "2.083333333333333\n",
      "2.4499999999999997\n"
     ]
    }
   ],
   "source": [
    "def harmonic(suku):\n",
    "    ...\n",
    "\n",
    "jawaban_6 = harmonic(6)\n",
    "print(harmonic(4))\n",
    "print(jawaban_6)"
   ]
  },
  {
   "cell_type": "markdown",
   "metadata": {},
   "source": [
    "7. Budi ingin membuat sebuah program untuk menghitung banyak elemen bernilai genap dari _list_ berisi sekumpulan bilangan. Contoh dari _input_ dan output yang benar adalah sebagai berikut:\\\n",
    "```input: [1,3,4,5,9,10], output: 2```\\\n",
    "Di bawah ini adalah algoritma yang Budi buat. Ketika Budi mencoba programnya dengan _input_ seperti contoh di atas, program memberikan output yang benar. Namun, ketika Budi mencoba list yang lain, yaitu ```[6,8,11,14,17,18]```, program tidak memberikan output yang benar (seharusnya 4, namun program memberikan output 3). Bahkan, ketika Budi memasukkan list ```[4,6,7,10]```, program Budi _error_. Perbaiki program Budi agar output program yang ia buat menjadi benar dan tidak ada _error_.\\\n",
    "    **Tentukan banyak elemen genap pada list [4,6,7,10,14]. Tulis jawaban Anda pada variabel jawaban_7**."
   ]
  },
  {
   "cell_type": "code",
   "execution_count": 4,
   "metadata": {},
   "outputs": [
    {
     "name": "stdout",
     "output_type": "stream",
     "text": [
      "4\n"
     ]
    }
   ],
   "source": [
    "def count_even_elements(list_bilangan):\n",
    "    ...\n",
    "\n",
    "\n",
    "jawaban_7 = count_even_elements([4,6,7,10,14])\n",
    "print(jawaban_7)"
   ]
  },
  {
   "cell_type": "markdown",
   "metadata": {},
   "source": [
    "8. Buatlah _class_ `Rekening` dengan atribut `saldo`, yaitu saldo yang dimiliki oleh rekening tersebut. Nilai awal/_default_ dari `saldo` adalah 0. `Rekening` memiliki tiga _method_:\n",
    "* `__str__` : menampilkan sisa saldo rekening.\n",
    "* `tarik` : menarik sejumlah uang dari saldo rekening sehingga saldo rekening berkurang. _Method_ ini mengembalikan nilai berupa sisa saldo setelah penarikan uang.\n",
    "* `deposit` : menambahkan sejumlah uang ke saldo rekening sehingga saldo rekening bertambah. _Method_ ini mengembalikan nilai berupa sisa saldo setelah uang ditambahkan.\n",
    "\n",
    "    Buatlah juga _class_ `RekeningKhusus`, yaitu rekening yang mengharuskan pemegang rekening memiliki saldo minimum di dalam rekening tersebut. Pemegang rekening tidak bisa menarik uang jika setelah ditarik sisa saldo rekening tersebut di bawah minimum.\n",
    "* Buatlah `RekeningKhusus` yang _inherit_ dari `Rekening`, dan tambahkan atribut `saldo_minimum`.\n",
    "* _Override_ _method_ `tarik` sehingga jika sisa saldo setelah penarikan uang di bawah saldo minimum maka akan keluar pesan `'Saldo tidak boleh di bawah saldo minimum'`.\\\n",
    "\n",
    "    **Pertanyaan: Amir adalah pemegang rekening khusus dengan saldo minimum Rp25.000. Saldo awal Amir adalah Rp200.000. Kemudian ia menambahkan uang sebesar Rp100.000. Kemudian ia menarik uang Rp250.000 untuk belanja. Print nilai dari variabel jawaban_8 jika ia mencoba menarik lagi uangnya sebesar Rp 25.000.**"
   ]
  },
  {
   "cell_type": "code",
   "execution_count": 7,
   "metadata": {},
   "outputs": [
    {
     "name": "stdout",
     "output_type": "stream",
     "text": [
      "25000\n"
     ]
    }
   ],
   "source": [
    "#tulis kode Anda di bawah ini\n",
    "...\n",
    "\n",
    "rek = RekeningKhusus(200000,25000)\n",
    "rek.deposit(100000)\n",
    "rek.tarik(250000)\n",
    "jawaban_8 = rek.tarik(25000)\n",
    "print(jawaban_8)"
   ]
  }
 ],
 "metadata": {
  "kernelspec": {
   "display_name": "Python 3",
   "language": "python",
   "name": "python3"
  },
  "language_info": {
   "codemirror_mode": {
    "name": "ipython",
    "version": 3
   },
   "file_extension": ".py",
   "mimetype": "text/x-python",
   "name": "python",
   "nbconvert_exporter": "python",
   "pygments_lexer": "ipython3",
   "version": "3.8.5"
  }
 },
 "nbformat": 4,
 "nbformat_minor": 4
}
