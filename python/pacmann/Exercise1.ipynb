{
 "cells": [
  {
   "cell_type": "markdown",
   "metadata": {
    "id": "dn9nIzYNdtof"
   },
   "source": [
    "# 1\n",
    "Buat program dimana kondisi benarnya adalah\n",
    "- Kurang dari nilai minimum dan lebih dari nilai maximum (definisikan sendiri max dan min)\n",
    "- Dapat dibagi 5 dan dapat dibagi 7\n",
    "- Jika benar maka cetak benar dan jika salah cetak salah\n",
    "- Contoh input:<br>\n",
    "min = 100<br>\n",
    "max = 200<br>\n",
    "bilangan = 50<br>\n",
    "- Output:<br>\n",
    "Salah"
   ]
  },
  {
   "cell_type": "code",
   "execution_count": 1,
   "metadata": {
    "colab": {
     "base_uri": "https://localhost:8080/"
    },
    "id": "CK9BmVXLdtog",
    "outputId": "96085736-34fd-4e36-a695-9c9636119f54"
   },
   "outputs": [
    {
     "name": "stdout",
     "output_type": "stream",
     "text": [
      "benar\n"
     ]
    }
   ],
   "source": [
    "#Input\n",
    "min = 200 \n",
    "max = 300\n",
    "bilangan = 245\n",
    "\n",
    "#Tulis Kode dibawah\n",
    "if bilangan > min and bilangan < max:\n",
    "  if bilangan %5==0 and bilangan %7==0:\n",
    "    print(\"benar\")\n",
    "  else:\n",
    "    print(\"salah banget\")\n",
    "else:\n",
    "  print(\"salah\")"
   ]
  },
  {
   "cell_type": "markdown",
   "metadata": {
    "id": "VbfX46jodtoh"
   },
   "source": [
    "# 2\n",
    "Buat konversi suhu\n",
    "* Persamaan celcius dan fahrenheit:<br>\n",
    "    * C/5 = (f-32)/9\n",
    "* Persamaan celcius dan Reamur:<br>\n",
    "    * C/5 = R/4\n",
    "* Persamaan Reamur dan fahrenheit:<br>\n",
    "    * R/4 = (f-32)/9\n",
    "* Persamaan kelvin ke celcius(BONUS):<br>\n",
    "    * K = C+273\n",
    "\n",
    "* Contoh Input:<br>\n",
    "100R\n",
    "\n",
    "\n",
    "* Contoh Output:<br>\n",
    "Celcius : 50.0C<br>\n",
    "Fahrenheit : 122.0F<br>\n",
    "Kelvin : 323.0K<br>\n",
    "\n",
    "* BONUS Jika Bisa Membuat Konversi Suhu Tidak Case Sensitive\n"
   ]
  },
  {
   "cell_type": "code",
   "execution_count": null,
   "metadata": {
    "colab": {
     "base_uri": "https://localhost:8080/"
    },
    "id": "YZhaL9Rsdtoi",
    "outputId": "e1064e9b-e021-4724-dc9c-392288005e7f"
   },
   "outputs": [
    {
     "data": {
      "text/plain": [
       "Ellipsis"
      ]
     },
     "execution_count": 1,
     "metadata": {
      "tags": []
     },
     "output_type": "execute_result"
    }
   ],
   "source": [
    "#input\n",
    "inp = '100R'\n",
    "satuan=inp[-1]\n",
    "suhu=float(inp[:-1])\n",
    "\n",
    "#Tulis Kode dibawah\n",
    "if satuan.lower()=='C':\n",
    " c=4/5*suhu\n",
    " f=4/9*suhu+32\n",
    "\n",
    "..."
   ]
  },
  {
   "cell_type": "markdown",
   "metadata": {
    "id": "h60LQgIpdtoi"
   },
   "source": [
    "# 3\n",
    "Buat program untuk mengecek kuadran dari titik tuju dan butuh berapa langkah dari titik asal ke titik tuju\n",
    "* Asumsi titik (0,0) adalah kuadran 1<br>\n",
    "* Kuadran dengan nilai 0 baik di x atau y diserahkan asumsi. Contoh:<br>\n",
    "    * (3,0) -> dapat menjadi kuadran 1 atau 4 terserah peserta<br>\n",
    "    * (0,-5) -> dapat menjadi kuadran 3 atau 4 terserah peserta <br>\n",
    "![kartesius.png](data:image/png;base64,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)<br>\n",
    "* Penulisan koordinat adalah (x,y)\n",
    "* Contoh Input(1):\n",
    "    * Titik Asal = (3,4)\n",
    "    * Titik Tujuan = (5,-7)\n",
    "* Output(1) :\n",
    "    * Kuadran tujuan : kuadran 4\n",
    "    * Langkah : 2 langkah ke kanan dan 11 langkah ke bawah\n",
    "\n",
    "* Contoh Input(2):\n",
    "    * Titik Asal = (3,4)\n",
    "    * Titik Tujuan = (-5,7)\n",
    "* Output(2) :\n",
    "    * Kuadran tujuan : kuadran 2\n",
    "    * Langkah : 8 langkah ke kiri dan 3 langkah ke atas\n",
    "\n",
    "* Contoh Input(3):\n",
    "    * Titik Asal = (3,4)\n",
    "    * Titik Tujuan = (4,4)\n",
    "* Output(3) :\n",
    "    * Kuadran tujuan : kuadran 1\n",
    "    * Langkah : 1 langkah ke atas\n",
    "    \n",
    "**Penulisan output dibebaskan asalkan tau mana kuadran dan arah kanan,kiri,atas,bawah**<br>\n",
    "\n",
    "**Penulisan input dibebaskan**\n"
   ]
  },
  {
   "cell_type": "code",
   "execution_count": null,
   "metadata": {
    "colab": {
     "base_uri": "https://localhost:8080/",
     "height": 135
    },
    "id": "mlJ4znxkdtoi",
    "outputId": "4265c350-9194-4ab0-e037-e0cb3b459691"
   },
   "outputs": [
    {
     "ename": "SyntaxError",
     "evalue": "ignored",
     "output_type": "error",
     "traceback": [
      "\u001b[0;36m  File \u001b[0;32m\"<fstring>\"\u001b[0;36m, line \u001b[0;32m1\u001b[0m\n\u001b[0;31m    (abs(x2-x1) langkah ke kanan)\u001b[0m\n\u001b[0m                      ^\u001b[0m\n\u001b[0;31mSyntaxError\u001b[0m\u001b[0;31m:\u001b[0m invalid syntax\n"
     ]
    }
   ],
   "source": [
    "#Hint\n",
    "#Jika mengikuti contoh input diatas maka akses untuk titik x dan y adalah sebagai berikut:<br>\n",
    "asal = (3,4)\n",
    "x = asal[0]\n",
    "y = asal[1]\n",
    "\n",
    "#Jika mengikuti contoh output diatas maka salah satu cara mudahnya adalah:\n",
    "# abs digunakan untuk membuat nilai absolut dari suatu angka\n",
    "# contoh abs(-1) = 1\n",
    "if (kondisi):\n",
    "    datar = f\"{abs(x2-x1) langkah ke kanan}\"\n",
    "if (kondisi):\n",
    "    vertikal = f\"{abs(y2-y1) langkah ke atas}\"\n",
    "    \n",
    "print(\"Langkah : \" + datar+ \" \"+ vertikal)"
   ]
  },
  {
   "cell_type": "code",
   "execution_count": null,
   "metadata": {
    "id": "6V8i1Y4Qdtoj"
   },
   "outputs": [],
   "source": [
    "#Input\n",
    "asal = (1,4)\n",
    "tujuan=(3,-7)\n",
    "\n",
    "x1 = asal[0]\n",
    "y1 = asal[1]\n",
    "\n",
    "x2 = tujuan[0]\n",
    "y2 = tujuan[1]\n",
    "\n",
    "#Tulis kode dibawah\n",
    "if x2>0 and y2>=0:\n",
    "  kuadran=\"1\"\n",
    "elif x2<0 and y2>0:\n",
    "  kuadran='2'\n",
    "elif x2<0 and y2<0:\n",
    "  kuadran='3'  \n",
    "elif x2>0 and y2<0:\n",
    "  kuadran='4'\n",
    "\n",
    "y=y2-y1\n",
    "x=x2-x1\n",
    "\n",
    "if x>=0:\n",
    "  langkahy=(abs(x), \"langkah ke kanan\")\n",
    "elif x<0:\n",
    "  langkahy=(abs(x), \"langkah ke kiri\")\n",
    "else:\n",
    "  langkahy=''\n",
    "\n",
    "if y>=0:\n",
    "  langkahy=(abs(y), \"langkah ke kanan\")\n",
    "elif y<0:\n",
    "  langkahy=(abs(y), \"langkah ke kiri\")\n",
    "else:\n",
    "  langkahx=''\n",
    "\n",
    "print(f'Kuadran tujuan {kuadran}')\n",
    "print(f'Langkah: {langkahx} {langkahy}')"
   ]
  },
  {
   "cell_type": "markdown",
   "metadata": {
    "id": "qmvyx3ERdtoj"
   },
   "source": [
    "# 4\n",
    "Buat program untuk menghitung berapa lama waktu(jam,menit,detik) yang tersisa sebelum jam x dengan ketentuan seperti berikut:\n",
    "* Asumsi waktu_target < 24 jam dari waktu sekarang\n",
    "* Input perlu dilakukan pengecekan satu persatu<br>\n",
    "    * Range jam : 0-23\n",
    "    * Range menit dan detik : 0-59\n",
    "* Format input dan output adalah HH:MM:DD \n",
    "* Contoh input:<br>\n",
    "    * waktu_sekarang = \"07:30:20\"<br>\n",
    "    * waktu_target = \"06:20:30\"<br>\n",
    "* Output:<br>\n",
    "    * waktu tersisa : \"22:50:10\"\n",
    "------------------------------------------------------\n",
    "* Contoh Input salah:<br>\n",
    "    * waktu_sekarang = 07:70:20<br>\n",
    "    * waktu_target = 06:20:30<br>\n",
    "* Output:<br>\n",
    "    * \"Input salah\"<br>"
   ]
  },
  {
   "cell_type": "code",
   "execution_count": null,
   "metadata": {
    "id": "d6-Rl_Xbdtok"
   },
   "outputs": [],
   "source": [
    "#Input\n",
    "... = \"\"\n",
    "... = \"\"\n",
    "\n",
    "#Pengambilan jam menit detik dari input\n",
    "... = int(...[:2])#jam\n",
    "... = int(...[3:5])#menit\n",
    "... = int(...[6:])#detik\n",
    "\n",
    "#Lanjutkan kode"
   ]
  }
 ],
 "metadata": {
  "colab": {
   "name": "Exercise.ipynb",
   "provenance": []
  },
  "kernelspec": {
   "display_name": "Python 3",
   "language": "python",
   "name": "python3"
  },
  "language_info": {
   "codemirror_mode": {
    "name": "ipython",
    "version": 3
   },
   "file_extension": ".py",
   "mimetype": "text/x-python",
   "name": "python",
   "nbconvert_exporter": "python",
   "pygments_lexer": "ipython3",
   "version": "3.8.5"
  }
 },
 "nbformat": 4,
 "nbformat_minor": 4
}
