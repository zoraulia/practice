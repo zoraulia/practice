{
 "cells": [
  {
   "cell_type": "markdown",
   "metadata": {
    "id": "RsaJEpw1-S_0"
   },
   "source": [
    "# Tugas Python 3\n",
    "\n",
    "* Silakan download dan kerjakan soal berikut dimanapun (laptop pribadi/google colab/etc.)\n",
    "* Setelah selesai mengerjakan, upload file ini di tempat yang telah disediakan pada platform.\n",
    "* Beri nama file seperti berikut: {username}-python-3.ipynb\n",
    "* Contoh: johndoe1-python-3.ipynb\n",
    "* Username dapat dilihat di dalam akun anda.\n",
    "* Mohon jangan mengubah nama variabel yang telah diberikan.\n",
    "* Namun anda diperbolehkan untuk menambah variabel apapun.\n",
    "* Tolong pastikan semua cell dapat dijalankan.\n",
    "* Jika tidak tahu jawabannya isilah titik-titik dengan apapun dan pastikan kode **Tidak Error**, agar dapat dibaca oleh script grader.\n",
    "---"
   ]
  },
  {
   "cell_type": "markdown",
   "metadata": {
    "id": "NNvO6-yY-S_3"
   },
   "source": [
    "1. Buatlah program yang menerima input dan mengeluarkan output sebagai berikut:\n",
    "* Input: panjang, lebar, dan tinggi sebuah balok\n",
    "* Output: luas permukaan balok tersebut\\\n",
    "\\\n",
    "Uji coba program Anda dengan menghitung luas permukaan balok dengan panjang 7.5 cm, lebar 3.5 cm, dan tinggi 2.25 cm.\\\n",
    "Expected result: 102.0\n",
    "> note: Jika tidak mengerti isilah titik-titik dengan apapun. Pastikan kode bisa berjalan dan pastikan tidak ada infinite loop!"
   ]
  },
  {
   "cell_type": "code",
   "execution_count": null,
   "metadata": {
    "id": "GFyJO_L--S_4"
   },
   "outputs": [],
   "source": [
    "#ganti semua titik-titik dengan kode yang tepat\n",
    "def jawaban_1(panjang,lebar,tinggi):\n",
    "    ...\n",
    "\n",
    "print(jawaban_1(7.5,3.5,2.25))"
   ]
  },
  {
   "cell_type": "markdown",
   "metadata": {
    "id": "HhHyDxAX-S_9"
   },
   "source": [
    "2. Universitas X menerapkan sistem uang kuliah tunggal (UKT) untuk membayar kuliah, dimana terdapat tiga golongan. Setiap golongan akan membayar uang kuliah per semesternya sebagai berikut:\n",
    "|Golongan|Uang Kuliah per Semester|\n",
    "|------|-----|\n",
    "|I|Rp 2.000.000|\n",
    "|II|Rp 3.500.000|\n",
    "|III|Rp 5.000.000|\n",
    "\n",
    "Untuk melunasi uang semesteran, mahasiswa dapat memilih dua pilihan pembayaran: langsung lunas atau mencicil. Apabila mahasiswa memilih langsung lunas, maka uang semesteran hanya dibayar sekali. Apabila mahasiswa memilih mencicil, maka uang semesteran akan dicicil sebanyak dua kali dengan besar cicilan pertama sama dengan besar cicilan kedua.\\\n",
    "Buatlah program yang menerima input berupa golongan dan pilihan pembayaran, dan outputnya adalah besar pembayaran (bila memilih langsung lunas) atau besar cicilan (bila memilih mencicil).\n",
    "\n",
    "Apabila Budi merupakan mahasiswa golongan II dan ia memilih membayar uang semesterannya dengan mencicil, berapa cicilannya? Tipe data jawaban harus berupa integer.\n",
    "\n",
    "Expected output: 1750000\n",
    "> note: Jika tidak mengerti isilah titik-titik dengan apapun. Pastikan kode bisa berjalan dan pastikan tidak ada infinite loop!"
   ]
  },
  {
   "cell_type": "code",
   "execution_count": null,
   "metadata": {
    "id": "azzIHmWQ-S_9"
   },
   "outputs": [],
   "source": [
    "#ganti semua titik-titik dengan kode yang tepat\n",
    "def jawaban_2(...):\n",
    "    if ...:\n",
    "        ...:\n",
    "            return 2000000\n",
    "        ...:\n",
    "            return ...\n",
    "    elif ...:\n",
    "        ...:\n",
    "            return 3500000\n",
    "        ...:\n",
    "            return ...\n",
    "    else:\n",
    "        ...:\n",
    "            return ...\n",
    "        ...:\n",
    "            return ...\n",
    "\n",
    "print(jawaban_2('II','C'))"
   ]
  },
  {
   "cell_type": "markdown",
   "metadata": {
    "id": "YJR76eYv-TAA"
   },
   "source": [
    "3. Dengan menggunakan konsep fungsi epsilon, aproksimasi solusi dari $x^3 - 8 = 0$ dengan nilai $\\varepsilon = 0.05$ dan _increment_ 0.001. Print hasilnya dengan pembulatan 3 angka di belakang koma. \n",
    "\n",
    "Expected output: $1.996$\n",
    "> note: Jika tidak mengerti isilah titik-titik dengan apapun. Pastikan kode bisa berjalan dan pastikan tidak ada infinite loop!"
   ]
  },
  {
   "cell_type": "code",
   "execution_count": null,
   "metadata": {
    "id": "KA5qAe4m-TAA"
   },
   "outputs": [],
   "source": [
    "#ganti semua titik-titik dengan kode yang tepat\n",
    "jawaban_3 = 0\n",
    "epsilon = #isilah nilai epsilon\n",
    "increment = #isilah nilai increment\n",
    "while ... >= ...:\n",
    "    ...\n",
    "print(f'{...} is the solution of x**3 - 8 = 0')"
   ]
  },
  {
   "cell_type": "markdown",
   "metadata": {
    "id": "nb4xzM3u-TAD"
   },
   "source": [
    "4. Diberikan sebuah barisan fibonacci $1,1,2,3,5,\\dots$. Buatlah program untuk mengeluarkan rasio dua suku berurutan dari barisan fibonacci, atau dengan kata lain $\\frac{1}{1}, \\frac{2}{1}, \\frac{3}{2}, \\frac{5}{3}, \\dots$. Inputnya adalah banyak suku barisan rasio, outputnya adalah barisan rasio yang dimaksud.\\\n",
    "Untuk menguji program Anda, cari berapa rasio antara suku ke-12 dan suku ke-11.\\\n",
    "Expected output = 1.6179775280898876\n",
    "> note: Jika tidak mengerti isilah titik-titik dengan apapun. Pastikan kode bisa berjalan dan pastikan tidak ada infinite loop!"
   ]
  },
  {
   "cell_type": "code",
   "execution_count": null,
   "metadata": {
    "id": "YQeF2wNj-TAD"
   },
   "outputs": [],
   "source": [
    "#ganti semua titik-titik dengan kode yang tepat\n",
    "def jawaban_4(...):\n",
    "    ...\n",
    "\n",
    "print(jawaban_4(11))"
   ]
  },
  {
   "cell_type": "markdown",
   "metadata": {
    "id": "W1g5yQi6-TAH"
   },
   "source": [
    "5. Suatu jasa pengiriman menetapkan ongkos kirim barang sebagai berikut: jika berat barang kurang dari 1 kg akan dikenai ongkos Rp 8000, jika lebih dari itu akan dikenai ongkos Rp 8000 plus tambahan sebesar Rp 1500/kg. Jika berat barang berupa pecahan, maka saat menghitung ongkos berat barang akan dibulatkan ke bawah (misalkan berat barang 1.6 kg maka akan dihitung 1 kg. Sehingga ongkos kirim barang tersebut adalah $8000 + 1500(1) = 9500$). Buatlah fungsi yang menghitung ongkos kirim suatu barang untuk jasa ekspedisi tersebut.\\\n",
    "Uji program Anda untuk menghitung ongkos kirim suatu meja seberat 2.6 kg.\n",
    "* **Hint**: untuk membulatkan bilangan ke bawah, Anda bisa mengubah bilangan tersebut menjadi tipe data integer dengan fungsi `int()`\n",
    "* **Expected output**: 11000\n",
    "> note: Jika tidak mengerti isilah titik-titik dengan apapun. Pastikan kode bisa berjalan dan pastikan tidak ada infinite loop!"
   ]
  },
  {
   "cell_type": "code",
   "execution_count": null,
   "metadata": {
    "id": "mlIObtOk-TAH"
   },
   "outputs": [],
   "source": [
    "#ganti semua titik-titik dengan kode yang tepat\n",
    "def jawaban_5(berat):\n",
    "    ...\n",
    "\n",
    "print(jawaban_5(2.6))"
   ]
  },
  {
   "cell_type": "markdown",
   "metadata": {
    "id": "zjZL3rTr-TAK"
   },
   "source": [
    "6. Dengan menggunakan fungsi lambda, definisikan fungsi berikut:\\\n",
    "$$f(x) = \\begin{cases}\n",
    "0.1x &  x\\leq 0\\\\\n",
    "x & x > 0\n",
    "\\end{cases}$$\n",
    "\n",
    "* Fungsi akan mengembalikan nilai $0.1x$ jika nilai $x$ kurang dari sama dengan 0\n",
    "* Fungsi akan mengembalikan nilai $x$ jika nilai $x$ lebih dari 0.\n",
    "\n",
    "Kemudian, carilah nilai dari $f(-2.5)$ dengan menggunakan fungsi lambda yang telah Anda buat.\n",
    "> note: Jika tidak mengerti isilah titik-titik dengan apapun. Pastikan kode bisa berjalan dan pastikan tidak ada infinite loop!"
   ]
  },
  {
   "cell_type": "code",
   "execution_count": null,
   "metadata": {
    "id": "xMPIxtZP-TAK"
   },
   "outputs": [],
   "source": [
    "#ganti semua titik-titik dengan kode yang tepat\n",
    "jawaban_6 = ...\n",
    "\n",
    "print(jawaban_6(-2.5))"
   ]
  },
  {
   "cell_type": "markdown",
   "metadata": {
    "id": "I-l5Mf1F-TAN"
   },
   "source": [
    "7. Diketahui bahwa jika kita menabung di bank sebesar $M$ dan setiap tahunnya akan dikenakan bunga majemuk $i$, maka besar tabungan kita pada tahun ke-n adalah $M(1+i)^n$. **Dengan menggunakan fungsi lambda**, buatlah fungsi untuk menghitung besar tabungan kita pada tahun ke-n bila diberikan input besar tabungan awal $M$ dan tingkat bunga $i$.\n",
    "Gunakan fungsi yang Anda buat untuk menghitung besar tabungan pada tahun ke-2 apabila besar tabungan awal adalah Rp 10.000.000 dan tingkat bunga 5% ($i = 0.05$).\n",
    "> note: Jika tidak mengerti isilah titik-titik dengan apapun. Pastikan kode bisa berjalan dan pastikan tidak ada infinite loop!"
   ]
  },
  {
   "cell_type": "code",
   "execution_count": null,
   "metadata": {
    "id": "_Lckt0YO-TAO"
   },
   "outputs": [],
   "source": [
    "#ganti semua titik-titik dengan kode yang tepat\n",
    "jawaban_7 = ...\n",
    "\n",
    "print(jawaban_7(10000000,0.05,2))"
   ]
  }
 ],
 "metadata": {
  "colab": {
   "collapsed_sections": [],
   "name": "Tugas 3.ipynb",
   "provenance": []
  },
  "kernelspec": {
   "display_name": "Python 3",
   "language": "python",
   "name": "python3"
  },
  "language_info": {
   "codemirror_mode": {
    "name": "ipython",
    "version": 3
   },
   "file_extension": ".py",
   "mimetype": "text/x-python",
   "name": "python",
   "nbconvert_exporter": "python",
   "pygments_lexer": "ipython3",
   "version": "3.8.5"
  }
 },
 "nbformat": 4,
 "nbformat_minor": 4
}
