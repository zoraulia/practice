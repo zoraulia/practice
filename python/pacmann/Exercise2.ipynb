{
 "cells": [
  {
   "cell_type": "markdown",
   "metadata": {},
   "source": [
    "1. Cetak hasil perkalian 7, dari 1 sampai 10."
   ]
  },
  {
   "cell_type": "code",
   "execution_count": null,
   "metadata": {},
   "outputs": [],
   "source": []
  },
  {
   "cell_type": "markdown",
   "metadata": {},
   "source": [
    "2. Buatlah Piramida Angka Seperti Berikut:"
   ]
  },
  {
   "cell_type": "markdown",
   "metadata": {},
   "source": [
    "1 \n",
    "1 2 \n",
    "1 2 3 \n",
    "1 2 3 4 \n",
    "1 2 3 4 5 \n",
    "1 2 3 4 5 6 \n",
    "1 2 3 4 5 \n",
    "1 2 3 4 \n",
    "1 2 3 \n",
    "1 2 \n",
    "1 "
   ]
  },
  {
   "cell_type": "code",
   "execution_count": null,
   "metadata": {},
   "outputs": [],
   "source": []
  },
  {
   "cell_type": "markdown",
   "metadata": {},
   "source": [
    "3. Rubah urutan angka 97643 menjadi kebalikannya. Expected :34679"
   ]
  },
  {
   "cell_type": "code",
   "execution_count": null,
   "metadata": {},
   "outputs": [],
   "source": []
  },
  {
   "cell_type": "markdown",
   "metadata": {},
   "source": [
    "4. Setelah 2 tahun, Tejo dan Surti akhirnya menikah, namun karna satu dan lain hal biaya pernikahan melebihi budget yang di rencanakan. Karena itu, mereka harus berhemat untuk membayar selisih. \n",
    "\n",
    "agar hemat, etiap berangkat kerja Tejo membawa bekal yang di buat oleh Surti dengan menu yang berbeda setiap 3 hari. Menu yang di bawa yaitu:\n",
    "\n",
    "| Hari           | Bekal  |\n",
    "|----------------|--------|\n",
    "| Pertama        | Nasi + ayam  |\n",
    "| Kedua          | Nasi + Ikan |\n",
    "| Ketiga | Nasi + Tahu & Tempe  |\n",
    "\n",
    "Selama satu bulan tentukan pada Tanggal berapa dan minggu keberapa saja tejo membawa bekal nasi + Tahu & Tempe? \n",
    "- Asumsikan hari pertama = hari Senin = Tanggal 1\n",
    "- Pada hari minggu Tejo Libur"
   ]
  },
  {
   "cell_type": "code",
   "execution_count": null,
   "metadata": {},
   "outputs": [],
   "source": []
  }
 ],
 "metadata": {
  "kernelspec": {
   "display_name": "Python 3",
   "language": "python",
   "name": "python3"
  },
  "language_info": {
   "codemirror_mode": {
    "name": "ipython",
    "version": 3
   },
   "file_extension": ".py",
   "mimetype": "text/x-python",
   "name": "python",
   "nbconvert_exporter": "python",
   "pygments_lexer": "ipython3",
   "version": "3.8.5"
  }
 },
 "nbformat": 4,
 "nbformat_minor": 4
}
