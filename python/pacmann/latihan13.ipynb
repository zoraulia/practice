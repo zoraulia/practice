{
 "cells": [
  {
   "cell_type": "markdown",
   "metadata": {},
   "source": [
    "1. Diberikan fungsi `vector_dot_product` sebagai berikut. Tentukan kompleksitas(banyaknya) operasi pada fungsi tersebut !"
   ]
  },
  {
   "cell_type": "code",
   "execution_count": null,
   "metadata": {},
   "outputs": [],
   "source": [
    "def vector_dot_product(vec1,vec2):\n",
    "    sum = 0\n",
    "    for i in range(len(vec1)):\n",
    "        sum += vec1[i]*vec2[i]\n",
    "    return sum\n",
    "\n",
    "vec_1 = [1,4,6]\n",
    "vec_2 = [2,3,7]\n",
    "vector_dot_product(vec_1,vec_2)"
   ]
  },
  {
   "cell_type": "markdown",
   "metadata": {},
   "source": [
    "2. Diberikan fungsi untuk inverse matriks `2x2`. Dengan menggunakan `timeit` dengan `number=1000000`, carilah berapa lama **total waktu** untuk menjalankan kode tersebut. Tips: jangan masukkan `print` kedalam `timeit`."
   ]
  },
  {
   "cell_type": "code",
   "execution_count": null,
   "metadata": {},
   "outputs": [],
   "source": [
    "def inverse(matrix):\n",
    "\n",
    "    determinant = matrix[0][0] * matrix[1][1] - matrix[0][1] * matrix [1][0]\n",
    "    if determinant != 0:\n",
    "        adjoint = [[matrix[1][1], -matrix[0][1]], [-matrix[1][0], matrix[0][0]]]\n",
    "        return [[(1 / determinant) * v for v in w] for w in adjoint]\n",
    "\n",
    "mat = [[1,5],[3,8]]\n",
    "inverse(mat)"
   ]
  },
  {
   "cell_type": "markdown",
   "metadata": {},
   "source": [
    "3. Diberikan fungsi untuk menyelesaikan persamaan linear sebagai berikut:\n",
    "\n",
    "$x - 2y + 3z = 9$\n",
    "\n",
    "$-x + 3y - z = -6$\n",
    "\n",
    "$2x - 5y + 5z = 17$\n",
    "\n",
    "Ukurlah waktu yang diperlukan dengan `timeit.repeat` dengan number = 100000 dan repeat = 5"
   ]
  },
  {
   "cell_type": "code",
   "execution_count": null,
   "metadata": {},
   "outputs": [],
   "source": [
    "def det(matrix):\n",
    "    p = sum([matrix[0][(j) % 3] * matrix[1][(j + 1) % 3] * matrix[2][(j + 2) % 3] for j in range(3)])\n",
    "    q = sum([matrix[0][(j - 1) % 3] * matrix[1][(j - 2) % 3] * matrix[2][(j - 3) % 3] for j in range(3)])\n",
    "\n",
    "    return p - q\n",
    "\n",
    "def solve(a,b):\n",
    "    determinant = det(a)\n",
    "    result = []\n",
    "    for ii in range(len(a)):\n",
    "        result.append(det([[b[i][0] if j == ii else a[i][j] for j in range(3)] for i in range(3)]) / determinant)\n",
    "    return result\n",
    "\n",
    "a = [[1, -2, 3], [-1, 3, -1], [2, -5, 5]]\n",
    "b = [[9], [-6], [17]]\n",
    "x,y,z = solve(a,b)\n",
    "print(x,y,z)"
   ]
  },
  {
   "cell_type": "code",
   "execution_count": null,
   "metadata": {},
   "outputs": [],
   "source": []
  }
 ],
 "metadata": {
  "kernelspec": {
   "display_name": "Python 3",
   "language": "python",
   "name": "python3"
  },
  "language_info": {
   "codemirror_mode": {
    "name": "ipython",
    "version": 3
   },
   "file_extension": ".py",
   "mimetype": "text/x-python",
   "name": "python",
   "nbconvert_exporter": "python",
   "pygments_lexer": "ipython3",
   "version": "3.8.5"
  }
 },
 "nbformat": 4,
 "nbformat_minor": 4
}
