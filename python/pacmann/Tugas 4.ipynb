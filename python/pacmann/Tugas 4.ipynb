{
 "cells": [
  {
   "cell_type": "markdown",
   "metadata": {},
   "source": [
    "# Tugas Python 4\n",
    "\n",
    "* Silakan download dan kerjakan soal berikut dimanapun (laptop pribadi/google colab/etc.)\n",
    "* Setelah selesai mengerjakan, upload file ini di tempat yang telah disediakan pada platform.\n",
    "* Beri nama file seperti berikut: {username}-python-4.ipynb\n",
    "* Contoh: johndoe1-python-4.ipynb\n",
    "* Username dapat dilihat di dalam akun anda.\n",
    "* Mohon jangan mengubah nama variabel yang telah diberikan.\n",
    "* Namun anda diperbolehkan untuk menambah variabel apapun.\n",
    "---"
   ]
  },
  {
   "cell_type": "markdown",
   "metadata": {},
   "source": [
    "1. Ambil elemen ke-5 dari _tuple_ di bawah ini.\n",
    "> ekspektasi jawaban: `'jumps'`"
   ]
  },
  {
   "cell_type": "code",
   "execution_count": null,
   "metadata": {},
   "outputs": [],
   "source": [
    "tuple_1 = (\"the\",\"quick\",\"brown\",\"fox\",\"jumps\",\"over\",\"the\",\"lazy\",\"dog\")\n",
    "\n",
    "jawaban_1 = ... #ganti titik-titik dengan kode yang tepat."
   ]
  },
  {
   "cell_type": "markdown",
   "metadata": {},
   "source": [
    "2. Ambil empat elemen pertama dari _tuple_ di bawah ini.\n",
    "> ekspektasi jawaban: `(1.5, 24, 3.523, 7.6)`"
   ]
  },
  {
   "cell_type": "code",
   "execution_count": null,
   "metadata": {},
   "outputs": [],
   "source": [
    "tuple_2 = (1.5,24,3.523,7.6,95,40.5,34)\n",
    "\n",
    "jawaban_2 = ... #ganti titik-titik dengan kode yang tepat."
   ]
  },
  {
   "cell_type": "markdown",
   "metadata": {},
   "source": [
    "3. Ambil tiga elemen terakhir dari _tuple_ di bawah ini.\n",
    "> ekspektasi jawaban: `(0.15, 2.11, -0.95)`"
   ]
  },
  {
   "cell_type": "code",
   "execution_count": null,
   "metadata": {},
   "outputs": [],
   "source": [
    "tuple_3 = (-1.92, 0.35, -0.03, -1.46, 1.58, -0.72, 2.61, 0.15, 2.11, -0.95)\n",
    "\n",
    "jawaban_3 = ... #ganti titik-titik dengan kode yang tepat."
   ]
  },
  {
   "cell_type": "markdown",
   "metadata": {},
   "source": [
    "4. Dengan menggunakan _unpacking_, hitung nilai dari $a+2b-3c+4d$, dimana $a,b,c,d$ berturut-turut merupakan elemen pada _tuple_ di bawah ini.\n",
    "> ekspektasi jawaban: `50`"
   ]
  },
  {
   "cell_type": "code",
   "execution_count": null,
   "metadata": {},
   "outputs": [],
   "source": [
    "tuple_4 = (12,-8,-10,6)\n",
    "\n",
    "#ganti titik-titik dengan kode yang tepat.\n",
    "(a,b,c,d) = ...\n",
    "\n",
    "jawaban_4 = ..."
   ]
  },
  {
   "cell_type": "markdown",
   "metadata": {},
   "source": [
    "5. Ambil elemen kedua hingga kelima dari _list_ di bawah ini.\n",
    "> ekspektasi jawaban: `[649.81, 'Bandung', 167.3, 'Bekasi']`"
   ]
  },
  {
   "cell_type": "code",
   "execution_count": null,
   "metadata": {},
   "outputs": [],
   "source": [
    "list_1 = [\"Jakarta\",649.81,\"Bandung\",167.30,\"Bekasi\",210.49,\"Bogor\",118.5]\n",
    "\n",
    "jawaban_5 = ... #ganti titik-titik dengan kode yang tepat."
   ]
  },
  {
   "cell_type": "markdown",
   "metadata": {},
   "source": [
    "6. _List_ di bawah ini seharusnya berisi bilangan prima berurutan yang kurang dari 20. Ubah elemen yang salah."
   ]
  },
  {
   "cell_type": "code",
   "execution_count": null,
   "metadata": {},
   "outputs": [],
   "source": [
    "primes_below_20 = [2,4,5,7,11,13,17,19]\n",
    "\n",
    "jawaban_6 = ... #tuliskan indeks elemen yang salah\n",
    "primes_below_20[jawaban_6] = ... #ganti elemen yang salah"
   ]
  },
  {
   "cell_type": "markdown",
   "metadata": {},
   "source": [
    "7. Ambil elemen \"suka\" dari nested list berikut."
   ]
  },
  {
   "cell_type": "code",
   "execution_count": null,
   "metadata": {},
   "outputs": [],
   "source": [
    "list_2 = [[\"aku\",\"suka\"],[\"makan\",\"rendang\"]]\n",
    "\n",
    "jawaban_7 = ... #ganti titik-titik dengan kode yang tepat."
   ]
  },
  {
   "cell_type": "markdown",
   "metadata": {},
   "source": [
    "8. Tambahkan elemen 24 ke akhir _list_ berikut."
   ]
  },
  {
   "cell_type": "code",
   "execution_count": null,
   "metadata": {},
   "outputs": [],
   "source": [
    "list_3 = [8,16]\n",
    "#ganti titik-titik dengan kode yang tepat.\n",
    "...\n",
    "jawaban_8 = list_3"
   ]
  },
  {
   "cell_type": "markdown",
   "metadata": {},
   "source": [
    "9. Hapus elemen yang bernilai 15 dari _set_ berikut."
   ]
  },
  {
   "cell_type": "code",
   "execution_count": null,
   "metadata": {},
   "outputs": [],
   "source": [
    "set_1 = {6,12,15,18}\n",
    "#ganti titik-titik dengan kode yang tepat.\n",
    "...\n",
    "jawaban_9 = set_1"
   ]
  },
  {
   "cell_type": "markdown",
   "metadata": {},
   "source": [
    "10. Gabungkan dua _set_ berikut tanpa ada elemen yang berulang.\n",
    "> ekspektasi jawaban: `{3, 4, 5, 8, 10, 11}`"
   ]
  },
  {
   "cell_type": "code",
   "execution_count": null,
   "metadata": {},
   "outputs": [],
   "source": [
    "set_A = {3,4,8,10}\n",
    "set_B = {4,5,8,11}\n",
    "\n",
    "jawaban_10 = ... #ganti titik-titik dengan kode yang tepat."
   ]
  },
  {
   "cell_type": "markdown",
   "metadata": {},
   "source": [
    "11. Tentukan apakah set_B adalah subset dari set_A. Tipe data jawaban harus berupa Boolean.\n",
    "> ekspektasi jawaban: `True`"
   ]
  },
  {
   "cell_type": "code",
   "execution_count": null,
   "metadata": {},
   "outputs": [],
   "source": [
    "set_A = {2,4,8,16,32,64,128}\n",
    "set_B = {4,16,64}\n",
    "\n",
    "jawaban_11 = ... #ganti titik-titik dengan kode yang tepat."
   ]
  },
  {
   "cell_type": "markdown",
   "metadata": {},
   "source": [
    "12. Buatlah _dictionary_ untuk data berikut:\n",
    "* Nama: Mangga muda\n",
    "* Warna Kulit: Hijau\n",
    "* Warna Daging: Kuning\n",
    "* Rasa: Asam\\\n",
    "Kemudian keluarkan _value_ dari _key_ \"Warna Kulit\"."
   ]
  },
  {
   "cell_type": "code",
   "execution_count": null,
   "metadata": {},
   "outputs": [],
   "source": [
    "data = {\"Nama\": \"Mangga muda\", \"Warna Kulit\": \"Hijau\", \"Warna Daging\": \"Kuning\", \"Rasa\": \"Asam\"}\n",
    "\n",
    "jawaban_12 = ... #ganti titik-titik dengan kode yang tepat."
   ]
  },
  {
   "cell_type": "markdown",
   "metadata": {},
   "source": [
    "13. Hapus elemen \"Naga\" pada _dictionary_ di bawah ini."
   ]
  },
  {
   "cell_type": "code",
   "execution_count": null,
   "metadata": {},
   "outputs": [],
   "source": [
    "pets = {\"Kucing\":\"Cat\", \"Anjing\":\"Dog\", \"Ikan mas hias\":\"Goldfish\", \"Naga\":\"Dragon\"}\n",
    "#ganti titik-titik dengan kode yang tepat.\n",
    "...\n",
    "jawaban_13 = pets"
   ]
  },
  {
   "cell_type": "markdown",
   "metadata": {},
   "source": [
    "14. Diberikan data dua orang mahasiswa universitas Z berikut:\n",
    "|Nama|Fakultas|Semester|Total SKS|\n",
    "|------|-----|-----|-----|\n",
    "|Andi|Teknik|6|126|\n",
    "|Budi|Psikologi|6|118|\n",
    "\n",
    "dimana Semester adalah semester keberapa mahasiswa tersebut saat ini dan Total SKS adalah banyaknya SKS yang diperoleh sampai saat ini. Tabel di atas telah diubah ke dalam bentuk _dictionary_ pada program di bawah.\\\n",
    "Untuk mengambil matakuliah Tugas Akhir, seorang mahasiswa wajib memperoleh minimal 120 SKS. Cek apakah Andi dan Budi dapat mengambil matakuliah Tugas Akhir atau tidak. Jawaban akan berupa _tuple_ berisi dua elemen Boolean, yang berturut-turut menyatakan apakah syarat pengambilan matakuliah Tugas Akhir sudah dipenuhi oleh Andi dan oleh Budi.\\\n",
    "**Hint:** gunakan operator _comparison_."
   ]
  },
  {
   "cell_type": "code",
   "execution_count": null,
   "metadata": {},
   "outputs": [],
   "source": [
    "mahasiswa = {\"Andi\":{\"Fakultas\":\"Teknik\",\"Semester\":6,\"Total SKS\":126},\n",
    "            \"Budi\":{\"Fakultas\":\"Psikologi\",\"Semester\":6,\"Total SKS\":118}}\n",
    "\n",
    "#tuliskan syarat Total SKS masing-masing mahasiswa untuk pengambilan tugas akhir\n",
    "andi = ... \n",
    "budi = ...\n",
    "\n",
    "jawaban_14 = (andi,budi)"
   ]
  },
  {
   "cell_type": "markdown",
   "metadata": {},
   "source": [
    "15. Gunakan konsep pemrograman rekursif untuk menghitung jumlah $n$ suku pertama deret harmonik. Deret harmonik adalah deret sbb:\n",
    "$$H(n) = 1 + \\frac{1}{2} + \\frac{1}{3} + \\frac{1}{4} + \\frac{1}{5} + \\dots + \\frac{1}{n}$$\n",
    "Kemudian keluarkan jumlah 4 suku pertama deret harmonik.\\\n",
    "_Expected output_: 2.083333333333333.\n",
    "**Pada variabel jawaban_15, isi dengan hasil penjumlahan 6 suku pertama deret harmonik.**"
   ]
  },
  {
   "cell_type": "code",
   "execution_count": null,
   "metadata": {},
   "outputs": [],
   "source": [
    "#ganti titik-titik dengan kode yang tepat.\n",
    "def harmonic(suku):\n",
    "    if suku == 1:\n",
    "        return ...\n",
    "    else:\n",
    "        return ...\n",
    "\n",
    "print(harmonic(4))\n",
    "jawaban_15 = ..."
   ]
  }
 ],
 "metadata": {
  "kernelspec": {
   "display_name": "Python 3",
   "language": "python",
   "name": "python3"
  },
  "language_info": {
   "codemirror_mode": {
    "name": "ipython",
    "version": 3
   },
   "file_extension": ".py",
   "mimetype": "text/x-python",
   "name": "python",
   "nbconvert_exporter": "python",
   "pygments_lexer": "ipython3",
   "version": "3.8.5"
  }
 },
 "nbformat": 4,
 "nbformat_minor": 4
}
