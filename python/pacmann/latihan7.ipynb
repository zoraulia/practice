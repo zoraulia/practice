{
 "cells": [
  {
   "cell_type": "markdown",
   "metadata": {},
   "source": [
    "1. Buatlah set berisi elemen yang sama dari kedua buah set\n",
    "    * output = {30,40,50}"
   ]
  },
  {
   "cell_type": "code",
   "execution_count": 6,
   "metadata": {},
   "outputs": [
    {
     "name": "stdout",
     "output_type": "stream",
     "text": [
      "{40, 50, 30}\n"
     ]
    }
   ],
   "source": [
    "set1 = {10, 20, 30, 40, 50}\n",
    "set2 = {30, 40, 50, 60, 70}\n",
    "\n",
    "setku = set1.intersection(set2)\n",
    "print(setku)"
   ]
  },
  {
   "cell_type": "markdown",
   "metadata": {},
   "source": [
    "2. Gabungkanlah 2 set tanpa ada duplikat\n",
    "    * output = {10,20,30,40,50,60,70}"
   ]
  },
  {
   "cell_type": "code",
   "execution_count": 8,
   "metadata": {},
   "outputs": [
    {
     "name": "stdout",
     "output_type": "stream",
     "text": [
      "{70, 40, 10, 50, 20, 60, 30}\n"
     ]
    }
   ],
   "source": [
    "set1 = {10, 20, 30, 40, 50}\n",
    "set2 = {30, 40, 50, 60, 70}\n",
    "\n",
    "setku = set1.union(set2)\n",
    "print(setku)"
   ]
  },
  {
   "cell_type": "markdown",
   "metadata": {},
   "source": [
    "3. Ambil nilai nama dari tiap elemen pada dictionary berikut"
   ]
  },
  {
   "cell_type": "code",
   "execution_count": 15,
   "metadata": {},
   "outputs": [
    {
     "name": "stdout",
     "output_type": "stream",
     "text": [
      "john\n",
      "mike\n"
     ]
    }
   ],
   "source": [
    "test_dict = {\"08133333213\": {\"nama\": \"john\", \"usia\": 50}, \"081656512365\": {\"nama\": \"mike\", \"usia\": 30}}\n",
    "for x in test_dict:\n",
    "    print(test_dict[x]['nama'])"
   ]
  },
  {
   "cell_type": "markdown",
   "metadata": {},
   "source": [
    "4. buat dictionary yang memiliki elemen dengan key dan value berupa angka dan frekuensi kemunculannya.\n",
    "- Output: {\"kadal\": 2, \"kambing\": 3, \"kuda\": 4, \"kerbau\": 2}"
   ]
  },
  {
   "cell_type": "code",
   "execution_count": 1,
   "metadata": {},
   "outputs": [
    {
     "name": "stdout",
     "output_type": "stream",
     "text": [
      "{'kadal': 2, 'kambing': 3, 'kuda': 4, 'kerbau': 2}\n"
     ]
    }
   ],
   "source": [
    "list_dict = [\"kadal\",\"kambing\",\"kuda\",\"kerbau\",\"kuda\",\"kerbau\",\"kambing\",\"kuda\",\"kadal\",\"kambing\",\"kuda\"]\n",
    "\n",
    "list_count = {}\n",
    "for i in list_dict:\n",
    "    if i in list_count:\n",
    "        list_count[i] += 1\n",
    "    else:\n",
    "        list_count[i] = 1\n",
    "print(list_count)"
   ]
  },
  {
   "cell_type": "markdown",
   "metadata": {},
   "source": [
    "5. Buatlah fungsi rekursif yang menerima input N, dan menghitung jumlah bilangan ganjil dari 1 sampai N\n",
    "contoh:\n",
    "- N = 3, output = 1 + 3 = 4\n",
    "- N = 5, output = 1 + 3 + 5 = 8"
   ]
  },
  {
   "cell_type": "code",
   "execution_count": null,
   "metadata": {},
   "outputs": [],
   "source": []
  },
  {
   "cell_type": "markdown",
   "metadata": {},
   "source": [
    "6. Buatlah fungsi rekursif yang menerima sebuah string berupa angka, yang kemudian mengecek apakah string tersebut merupakan palindrome.\n",
    "\n",
    "Palindrome = urutan dari depan dan dari belakang sama\n",
    "\n",
    "contoh: \n",
    "- input = \"1221\", output = True\n",
    "- input = \"12312\", output = False"
   ]
  },
  {
   "cell_type": "code",
   "execution_count": null,
   "metadata": {},
   "outputs": [],
   "source": []
  }
 ],
 "metadata": {
  "kernelspec": {
   "display_name": "Python 3",
   "language": "python",
   "name": "python3"
  },
  "language_info": {
   "codemirror_mode": {
    "name": "ipython",
    "version": 3
   },
   "file_extension": ".py",
   "mimetype": "text/x-python",
   "name": "python",
   "nbconvert_exporter": "python",
   "pygments_lexer": "ipython3",
   "version": "3.8.5"
  }
 },
 "nbformat": 4,
 "nbformat_minor": 4
}
