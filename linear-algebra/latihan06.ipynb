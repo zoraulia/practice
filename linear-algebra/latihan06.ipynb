{
 "cells": [
  {
   "cell_type": "code",
   "execution_count": 4,
   "source": [
    "import numpy as np"
   ],
   "outputs": [],
   "metadata": {}
  },
  {
   "cell_type": "markdown",
   "source": [
    "## **1. Linear Independence**"
   ],
   "metadata": {}
  },
  {
   "cell_type": "markdown",
   "source": [
    "### **Latihan**\r\n",
    "\r\n",
    "Tentukan apakah vektor-vektor di bawah ini *linear independence/dependence*"
   ],
   "metadata": {}
  },
  {
   "cell_type": "code",
   "execution_count": 6,
   "source": [
    "a1 = np.array([0.2, -7.0, 8.6])\r\n",
    "a2 = np.array([-0.1, 2.0, -1.0])\r\n",
    "a3 = np.array([0.0, -1.0, 2.2])\r\n",
    "\r\n",
    "# Buat beta\r\n",
    "b1 = 2\r\n",
    "b2 = 4\r\n",
    "b3 = -6\r\n",
    "\r\n",
    "# Hitung kombinasi linear (pers. (1))\r\n",
    "hasil = b1*a1 + b2*a2 + b3*a3\r\n",
    "print(f\"hasil = {hasil}\")"
   ],
   "outputs": [
    {
     "output_type": "stream",
     "name": "stdout",
     "text": [
      "hasil = [ 0.00000000e+00  0.00000000e+00 -1.77635684e-15]\n"
     ]
    }
   ],
   "metadata": {}
  },
  {
   "cell_type": "markdown",
   "source": [
    "Vektor di atas merupakan vektor linear dependence"
   ],
   "metadata": {}
  },
  {
   "cell_type": "code",
   "execution_count": 7,
   "source": [
    "a1 = np.array([1, 0, 0])\r\n",
    "a2 = np.array([0, -1, 1])\r\n",
    "a3 = np.array([-1, 1, 1])\r\n",
    "\r\n",
    "# Buat beta\r\n",
    "b1 = 0\r\n",
    "b2 = 0\r\n",
    "b3 = 0\r\n",
    "\r\n",
    "# Hitung kombinasi linear (pers. (1))\r\n",
    "hasil = b1*a1 + b2*a2 + b3*a3\r\n",
    "print(f\"hasil = {hasil}\")"
   ],
   "outputs": [
    {
     "output_type": "stream",
     "name": "stdout",
     "text": [
      "hasil = [0 0 0]\n"
     ]
    }
   ],
   "metadata": {}
  },
  {
   "cell_type": "markdown",
   "source": [
    "Vektor di atas merupakan vektor linear independence karena b1 = b2 = b3 = 0"
   ],
   "metadata": {}
  },
  {
   "cell_type": "markdown",
   "source": [
    "## **2. Basis**"
   ],
   "metadata": {}
  },
  {
   "cell_type": "markdown",
   "source": [
    "### **Latihan**\r\n",
    "\r\n",
    "Vektor a1 dan a2 adalah basis. Apakah vektor b = (1, 1) dapat direpresentasikan sebagai kombinasi linear dari basis {a, b}?"
   ],
   "metadata": {}
  },
  {
   "cell_type": "code",
   "execution_count": 8,
   "source": [
    "a1 = np.array([1.2, -2.6])\r\n",
    "a2 = np.array([-0.3, -3.7])\r\n",
    "\r\n",
    "# tulis nilai alpha1 dan alpha2 mengacu pada pers. (2)\r\n",
    "alpha1 = 170/261\r\n",
    "alpha2 = -190/261\r\n",
    "\r\n",
    "# hasil\r\n",
    "b = alpha1*a1 + alpha2*a2\r\n",
    "print(f\"hasil = {b}\")"
   ],
   "outputs": [
    {
     "output_type": "stream",
     "name": "stdout",
     "text": [
      "hasil = [1. 1.]\n"
     ]
    }
   ],
   "metadata": {}
  },
  {
   "cell_type": "markdown",
   "source": [
    "## **3. Orthonormal Vectors**"
   ],
   "metadata": {}
  },
  {
   "cell_type": "markdown",
   "source": [
    "### **Latihan**"
   ],
   "metadata": {}
  },
  {
   "cell_type": "code",
   "execution_count": 11,
   "source": [
    "x = np.array([1, 2, 3])\r\n",
    "\r\n",
    "e1 = np.array([0, 0, -1])\r\n",
    "e2 = np.array([1/(2)**0.5, 1/(2)**0.5, 0])\r\n",
    "e3 = np.array([1/(2)**0.5, -1/(2)**0.5, 0])\r\n",
    "\r\n",
    "E = np.array((e1, e2, e3))\r\n",
    "\r\n",
    "b = np.linalg.inv(E)@x\r\n",
    "\r\n",
    "# Cari koefisien dari x pada basis orthonormal\r\n",
    "beta1 = b[0]\r\n",
    "beta2 = b[1]\r\n",
    "beta3 = b[2]\r\n",
    "\r\n",
    "print([beta1, beta2, beta3])"
   ],
   "outputs": [
    {
     "output_type": "stream",
     "name": "stdout",
     "text": [
      "[3.5355339059327378, -0.7071067811865477, -1.0]\n"
     ]
    }
   ],
   "metadata": {}
  }
 ],
 "metadata": {
  "orig_nbformat": 4,
  "language_info": {
   "name": "python",
   "version": "3.8.5",
   "mimetype": "text/x-python",
   "codemirror_mode": {
    "name": "ipython",
    "version": 3
   },
   "pygments_lexer": "ipython3",
   "nbconvert_exporter": "python",
   "file_extension": ".py"
  },
  "kernelspec": {
   "name": "python3",
   "display_name": "Python 3.8.5 64-bit ('base': conda)"
  },
  "interpreter": {
   "hash": "314ea981c085db46ccef735dba59695dbecece85a3e4aa8984de4261ea0b2923"
  }
 },
 "nbformat": 4,
 "nbformat_minor": 2
}