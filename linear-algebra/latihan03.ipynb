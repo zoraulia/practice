{
 "cells": [
  {
   "cell_type": "markdown",
   "source": [
    "---\r\n",
    "**Soal**\r\n",
    "\r\n",
    "1. Buatlah memakai **method** dan **lambda** dari affine function berikut: $f(\\mathbf{x}) = x_{1} + 2x_{2} + 3$. Cek nilai dari $f(3, 2)$"
   ],
   "metadata": {}
  },
  {
   "cell_type": "code",
   "execution_count": null,
   "source": [
    "# tulis a dan b\r\n",
    "a = \r\n",
    "b = "
   ],
   "outputs": [],
   "metadata": {}
  },
  {
   "cell_type": "code",
   "execution_count": null,
   "source": [
    "# tulis dengan method\r\n",
    "def f_method(x, a, b):\r\n",
    "    ..."
   ],
   "outputs": [],
   "metadata": {}
  },
  {
   "cell_type": "code",
   "execution_count": null,
   "source": [
    "# tulis dengan lambda\r\n",
    "f_lambda = lambda x, a, b: ..."
   ],
   "outputs": [],
   "metadata": {}
  },
  {
   "cell_type": "code",
   "execution_count": null,
   "source": [
    "# periksa\r\n",
    "x = np.array([3, 2])\r\n",
    "\r\n",
    "print('f(3, 2)_method =', f_method(x, a, b))\r\n",
    "print('f(3, 2)_lambda =', f_lambda(x, a, b))"
   ],
   "outputs": [],
   "metadata": {}
  },
  {
   "cell_type": "code",
   "execution_count": null,
   "source": [
    "# jawab\r\n",
    "# tulis a dan b\r\n",
    "a = np.array([1, 2])\r\n",
    "b = 3\r\n",
    "\r\n",
    "# tulis dengan method\r\n",
    "def f_method(x, a, b):\r\n",
    "    y = np.inner(x, a) + b\r\n",
    "    return y\r\n",
    "    \r\n",
    "# tulis dengan lambda\r\n",
    "f_lambda = lambda x, a, b: np.inner(x, a) + b\r\n",
    "\r\n",
    "# periksa\r\n",
    "x = np.array([3, 2])\r\n",
    "\r\n",
    "print('f(3, 2)_method =', f_method(x, a, b))\r\n",
    "print('f(3, 2)_lambda =', f_lambda(x, a, b))"
   ],
   "outputs": [],
   "metadata": {}
  }
 ],
 "metadata": {
  "orig_nbformat": 4,
  "language_info": {
   "name": "python",
   "version": "3.8.5",
   "mimetype": "text/x-python",
   "codemirror_mode": {
    "name": "ipython",
    "version": 3
   },
   "pygments_lexer": "ipython3",
   "nbconvert_exporter": "python",
   "file_extension": ".py"
  },
  "kernelspec": {
   "name": "python3",
   "display_name": "Python 3.8.5 64-bit ('base': conda)"
  },
  "interpreter": {
   "hash": "314ea981c085db46ccef735dba59695dbecece85a3e4aa8984de4261ea0b2923"
  }
 },
 "nbformat": 4,
 "nbformat_minor": 2
}