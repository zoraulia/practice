{
 "cells": [
  {
   "cell_type": "markdown",
   "source": [
    "---\r\n",
    "**Soal**\r\n",
    "\r\n",
    "1. Buatlah memakai **method** dan **lambda** dari affine function berikut: $f(\\mathbf{x}) = x_{1} + 2x_{2} + 3$. Cek nilai dari $f(3, 2)$"
   ],
   "metadata": {}
  },
  {
   "cell_type": "code",
   "execution_count": 2,
   "source": [
    "import numpy as np"
   ],
   "outputs": [],
   "metadata": {}
  },
  {
   "cell_type": "code",
   "execution_count": 3,
   "source": [
    "# tulis a dan b\r\n",
    "a = np.array([1,2])\r\n",
    "b = 3"
   ],
   "outputs": [],
   "metadata": {}
  },
  {
   "cell_type": "code",
   "execution_count": 4,
   "source": [
    "# tulis dengan method\r\n",
    "def f_method(x, a, b):\r\n",
    "    y = np.inner(x, a) + b\r\n",
    "    return y"
   ],
   "outputs": [],
   "metadata": {}
  },
  {
   "cell_type": "code",
   "execution_count": 5,
   "source": [
    "# tulis dengan lambda\r\n",
    "f_lambda = lambda x, a, b: x[0] + a[1]*x[1] + b"
   ],
   "outputs": [],
   "metadata": {}
  },
  {
   "cell_type": "code",
   "execution_count": 6,
   "source": [
    "# periksa\r\n",
    "x = np.array([3, 2])\r\n",
    "\r\n",
    "print('f(3, 2)_method =', f_method(x, a, b))\r\n",
    "print('f(3, 2)_lambda =', f_lambda(x, a, b))"
   ],
   "outputs": [
    {
     "output_type": "stream",
     "name": "stdout",
     "text": [
      "f(3, 2)_method = 10\n",
      "f(3, 2)_lambda = 10\n"
     ]
    }
   ],
   "metadata": {}
  },
  {
   "cell_type": "code",
   "execution_count": 7,
   "source": [
    "# jawab\r\n",
    "# tulis a dan b\r\n",
    "a = np.array([1, 2])\r\n",
    "b = 3\r\n",
    "\r\n",
    "# tulis dengan method\r\n",
    "def f_method(x, a, b):\r\n",
    "    y = np.inner(x, a) + b\r\n",
    "    return y\r\n",
    "    \r\n",
    "# tulis dengan lambda\r\n",
    "f_lambda = lambda x, a, b: np.inner(x, a) + b\r\n",
    "\r\n",
    "# periksa\r\n",
    "x = np.array([3, 2])\r\n",
    "\r\n",
    "print('f(3, 2)_method =', f_method(x, a, b))\r\n",
    "print('f(3, 2)_lambda =', f_lambda(x, a, b))"
   ],
   "outputs": [
    {
     "output_type": "stream",
     "name": "stdout",
     "text": [
      "f(3, 2)_method = 10\n",
      "f(3, 2)_lambda = 10\n"
     ]
    }
   ],
   "metadata": {}
  },
  {
   "cell_type": "markdown",
   "source": [
    "Soal 2."
   ],
   "metadata": {}
  },
  {
   "cell_type": "code",
   "execution_count": 8,
   "source": [
    "# Real function\r\n",
    "f_real = lambda x: x[0] + np.exp(x[1] - x[0])\r\n",
    "\r\n",
    "# Turunan\r\n",
    "grad_f_real = lambda z: np.array([1 - np.exp(z[1]-z[0]),\r\n",
    "                                  np.exp(z[1]-z[0])])\r\n",
    "\r\n",
    "\r\n",
    "# Taylor Approximation\r\n",
    "f_hat = lambda x, z: f_real(z) + np.inner(grad_f_real(z), (x - z))"
   ],
   "outputs": [],
   "metadata": {}
  },
  {
   "cell_type": "code",
   "execution_count": 9,
   "source": [
    "# Input z\r\n",
    "z = np.array([1, 2]) # titik yang ingin dievaluasi\r\n",
    "\r\n",
    "# Cek fungsi\r\n",
    "print(\"f_real =\", f_real(z))\r\n",
    "print(\"f_hat  =\", f_hat(z, z))\r\n",
    "print(\"error  =\", abs(f_real(z) - f_hat(z, z))*100/f_real(z), \"%\")"
   ],
   "outputs": [
    {
     "output_type": "stream",
     "name": "stdout",
     "text": [
      "f_real = 3.718281828459045\n",
      "f_hat  = 3.718281828459045\n",
      "error  = 0.0 %\n"
     ]
    }
   ],
   "metadata": {}
  },
  {
   "cell_type": "code",
   "execution_count": 10,
   "source": [
    "# Input titik lain\r\n",
    "titik_lain = np.array([0.96, 1.98])\r\n",
    "\r\n",
    "# Cek fungsi\r\n",
    "print(\"f_real =\", f_real(titik_lain))\r\n",
    "print(\"f_hat  =\", f_hat(titik_lain, z))\r\n",
    "print(\"error  =\", abs(f_real(titik_lain) - f_hat(titik_lain, z))*100/f_real(titik_lain), \"%\")"
   ],
   "outputs": [
    {
     "output_type": "stream",
     "name": "stdout",
     "text": [
      "f_real = 3.7331947639642977\n",
      "f_hat  = 3.732647465028226\n",
      "error  = 0.014660337075217262 %\n"
     ]
    }
   ],
   "metadata": {}
  },
  {
   "cell_type": "code",
   "execution_count": null,
   "source": [],
   "outputs": [],
   "metadata": {}
  }
 ],
 "metadata": {
  "orig_nbformat": 4,
  "language_info": {
   "name": "python",
   "version": "3.8.5",
   "mimetype": "text/x-python",
   "codemirror_mode": {
    "name": "ipython",
    "version": 3
   },
   "pygments_lexer": "ipython3",
   "nbconvert_exporter": "python",
   "file_extension": ".py"
  },
  "kernelspec": {
   "name": "python3",
   "display_name": "Python 3.8.5 64-bit ('base': conda)"
  },
  "interpreter": {
   "hash": "314ea981c085db46ccef735dba59695dbecece85a3e4aa8984de4261ea0b2923"
  }
 },
 "nbformat": 4,
 "nbformat_minor": 2
}