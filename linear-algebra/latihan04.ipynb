{
 "cells": [
  {
   "cell_type": "code",
   "execution_count": 1,
   "source": [
    "import numpy as np\r\n",
    "import math\r\n",
    "import matplotlib.pyplot as plt"
   ],
   "outputs": [],
   "metadata": {}
  },
  {
   "cell_type": "markdown",
   "source": [
    "# **No. 1**"
   ],
   "metadata": {}
  },
  {
   "cell_type": "markdown",
   "source": [
    "Ada data temperature dari kota A dan B selama 15 hari."
   ],
   "metadata": {}
  },
  {
   "cell_type": "code",
   "execution_count": 2,
   "source": [
    "# Temperature kota A dan B\r\n",
    "temp_A = [36, 37, 36, 34, 39, 33, 30, 30, 32, 31, 31, 32, 32, 33, 35]\r\n",
    "temp_B = [41, 35, 28, 29, 25, 36, 36, 32, 38, 40, 40, 34, 31, 28, 30]\r\n",
    "\r\n",
    "hari = [i+1 for i in range(15)]"
   ],
   "outputs": [],
   "metadata": {}
  },
  {
   "cell_type": "markdown",
   "source": [
    "**Cari mean dan standard deviation-nya.**"
   ],
   "metadata": {}
  },
  {
   "cell_type": "code",
   "execution_count": null,
   "source": [
    "# kota A\r\n",
    "mean_A = ...\r\n",
    "stddev_A = ...\r\n",
    "print(f'Mean temperature A                : {mean_A:.2f}')\r\n",
    "print(f'Standard Deviation temperature A  : {stddev_A:.2f}')\r\n",
    "\r\n",
    "\r\n",
    "print('')\r\n",
    "\r\n",
    "\r\n",
    "# kota B\r\n",
    "mean_B = ...\r\n",
    "stddev_B = ...\r\n",
    "print(f'Mean temperature B                : {mean_B:.2f}')\r\n",
    "print(f'Standard Deviation temperature B  : {stddev_B:.2f}')"
   ],
   "outputs": [],
   "metadata": {}
  },
  {
   "cell_type": "markdown",
   "source": [
    "**Kota mana yang memiliki temperature yang lebih stabil?**"
   ],
   "metadata": {}
  },
  {
   "cell_type": "markdown",
   "source": [
    "**Pada hari ke berapa dikatakan memiliki temperature yang tidak normal?**"
   ],
   "metadata": {}
  },
  {
   "cell_type": "code",
   "execution_count": null,
   "source": [
    "# Plot perbandingan temperatur di 2 kota\r\n",
    "plt.scatter(hari, temp_A, c='r')\r\n",
    "plt.scatter(hari, temp_B, c='b')\r\n",
    "plt.plot(hari, temp_A, '--r', label='Temperatur A')\r\n",
    "plt.plot(hari, temp_B, 'b', label='Temperatur B')\r\n",
    "plt.xlabel('Hari')\r\n",
    "plt.ylabel('Temperatur')\r\n",
    "plt.xticks(hari)\r\n",
    "plt.legend()\r\n",
    "plt.grid()\r\n",
    "plt.show()"
   ],
   "outputs": [],
   "metadata": {}
  },
  {
   "cell_type": "code",
   "execution_count": null,
   "source": [
    "# Plot temperatur kota A\r\n",
    "plt.scatter(hari, temp_A, c='r')\r\n",
    "plt.plot(hari, temp_A, 'r', label='Temperatur A')\r\n",
    "plt.plot(hari, mean_A*np.ones(15), '--b', label='Mean')\r\n",
    "plt.plot(hari, (mean_A + stddev_A)*np.ones(15), 'g')\r\n",
    "plt.plot(hari, (mean_A - stddev_A)*np.ones(15), 'g')\r\n",
    "plt.xlabel('Hari')\r\n",
    "plt.ylabel('Temperatur')\r\n",
    "plt.xticks(hari)\r\n",
    "plt.legend()\r\n",
    "plt.grid()\r\n",
    "plt.show()"
   ],
   "outputs": [],
   "metadata": {}
  },
  {
   "cell_type": "markdown",
   "source": [
    "Hari ke: [???] memiliki nilai diluar deviasi standar (batasan normal) untuk kota A"
   ],
   "metadata": {}
  },
  {
   "cell_type": "code",
   "execution_count": null,
   "source": [
    "# Plot temperatur kota B\r\n",
    "plt.scatter(hari, temp_B, c='r')\r\n",
    "plt.plot(hari, temp_B, 'r', label='Temperatur B')\r\n",
    "plt.plot(hari, mean_B*np.ones(15), '--b', label='Mean')\r\n",
    "plt.plot(hari, (mean_B + stddev_B)*np.ones(15), 'g')\r\n",
    "plt.plot(hari, (mean_B - stddev_B)*np.ones(15), 'g')\r\n",
    "plt.xlabel('Hari')\r\n",
    "plt.ylabel('Temperatur')\r\n",
    "plt.xticks(hari)\r\n",
    "plt.legend()\r\n",
    "plt.grid()\r\n",
    "plt.show()"
   ],
   "outputs": [],
   "metadata": {}
  },
  {
   "cell_type": "markdown",
   "source": [
    "Hari ke: [???] memiliki nilai diluar deviasi standar (batasan normal) untuk kota B"
   ],
   "metadata": {}
  },
  {
   "cell_type": "markdown",
   "source": [
    "# **No. 2**"
   ],
   "metadata": {}
  },
  {
   "cell_type": "markdown",
   "source": [
    "**Sentence 1** : “AI is our friends, and it has been friendly”\r\n",
    "\r\n",
    "**Sentence 2** : “AI and humans have always been friendly”\r\n",
    "\r\n",
    "**Soal** : Ayo hitung kemiripan (similarity) dari 2 kalimat diatas menggunakan cosine similarity!"
   ],
   "metadata": {}
  },
  {
   "cell_type": "code",
   "execution_count": null,
   "source": [
    "text_1 = \"AI is our friend and it has been friendly\"\r\n",
    "text_2 = \"AI and humans has always been friendly\""
   ],
   "outputs": [],
   "metadata": {}
  },
  {
   "cell_type": "markdown",
   "source": [
    "**Hitung term frequency (frekuensi munculnya kata) menggunakan Bag Words!**"
   ],
   "metadata": {}
  },
  {
   "cell_type": "code",
   "execution_count": null,
   "source": [
    "# cari unique words dari text 1 dan text 2\r\n",
    "bag_words = np.array(['AI', 'is', 'friend', 'human', 'always', 'and', 'been', 'our', 'it', 'has'])\r\n",
    "text_1_bw = ...\r\n",
    "text_2_bw = ..."
   ],
   "outputs": [],
   "metadata": {}
  },
  {
   "cell_type": "markdown",
   "source": [
    "**Lakukan normalisasi pada Bag Words!**"
   ],
   "metadata": {}
  },
  {
   "cell_type": "code",
   "execution_count": null,
   "source": [
    "# normalisasi\r\n",
    "norm_text_1 = ...\r\n",
    "norm_text_2 = ...\r\n",
    "\r\n",
    "print(f'normalize text-1: {np.round(norm_text_1, 3)}')\r\n",
    "print(f'normalize text-2: {np.round(norm_text_2, 3)}')"
   ],
   "outputs": [],
   "metadata": {}
  },
  {
   "cell_type": "markdown",
   "source": [
    "**Hitung cosine similarity-nya.**"
   ],
   "metadata": {}
  },
  {
   "cell_type": "code",
   "execution_count": null,
   "source": [
    "pembilang = ...\r\n",
    "penyebut = ...\r\n",
    "\r\n",
    "cosine_sim = ...\r\n",
    "\r\n",
    "print(f'cosine similarity: {cosine_sim:.2f}')"
   ],
   "outputs": [],
   "metadata": {}
  }
 ],
 "metadata": {
  "orig_nbformat": 4,
  "language_info": {
   "name": "python",
   "version": "3.8.5",
   "mimetype": "text/x-python",
   "codemirror_mode": {
    "name": "ipython",
    "version": 3
   },
   "pygments_lexer": "ipython3",
   "nbconvert_exporter": "python",
   "file_extension": ".py"
  },
  "kernelspec": {
   "name": "python3",
   "display_name": "Python 3.8.5 64-bit ('base': conda)"
  },
  "interpreter": {
   "hash": "314ea981c085db46ccef735dba59695dbecece85a3e4aa8984de4261ea0b2923"
  }
 },
 "nbformat": 4,
 "nbformat_minor": 2
}