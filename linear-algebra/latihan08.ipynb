{
 "cells": [
  {
   "cell_type": "code",
   "execution_count": 1,
   "source": [
    "import cv2\r\n",
    "import numpy as np\r\n",
    "import math\r\n",
    "import matplotlib.pyplot as plt\r\n",
    "import pandas as pd"
   ],
   "outputs": [],
   "metadata": {}
  },
  {
   "cell_type": "markdown",
   "source": [
    "# **Soal 1**"
   ],
   "metadata": {}
  },
  {
   "cell_type": "code",
   "execution_count": null,
   "source": [
    "# Jalankan: fungsi plot\r\n",
    "def plot_kotak(vertices):\r\n",
    "    plt.figure(figsize=(4, 4))\r\n",
    "    n = len(vertices)\r\n",
    "\r\n",
    "    for i in range(n-1):\r\n",
    "        plt.plot(vertices[i:i+2,0], vertices[i:i+2,1], c='b')\r\n",
    "    plt.plot([vertices[-1,0], vertices[0,0]], \r\n",
    "             [vertices[-1,1], vertices[0,1]], \r\n",
    "             c='b')\r\n",
    "    \r\n",
    "    plt.scatter(vertices[:,0], vertices[:,1], c='r')\r\n",
    "    \r\n",
    "    plt.grid()\r\n",
    "    plt.xticks(np.arange(0,13))\r\n",
    "    plt.yticks(np.arange(0,13))\r\n",
    "    plt.xlim([-.5, 12])\r\n",
    "    plt.ylim([-.5, 12])\r\n",
    "    plt.show()"
   ],
   "outputs": [],
   "metadata": {}
  },
  {
   "cell_type": "markdown",
   "source": [
    "**Input original vertices**"
   ],
   "metadata": {}
  },
  {
   "cell_type": "code",
   "execution_count": null,
   "source": [
    "# Tulis\r\n",
    "ori_vertices = ...\r\n",
    "\r\n",
    "# Plot\r\n",
    "plot_kotak(ori_vertices)"
   ],
   "outputs": [],
   "metadata": {}
  },
  {
   "cell_type": "markdown",
   "source": [
    "**Input matriks rotasi dan cari vertices baru**"
   ],
   "metadata": {}
  },
  {
   "cell_type": "code",
   "execution_count": null,
   "source": [
    "# Matriks transformasi\r\n",
    "...\r\n",
    "\r\n",
    "# Cari vertices baru\r\n",
    "transformed_vertices = ...\r\n",
    "\r\n",
    "# Plot\r\n",
    "plot_kotak(transformed_vertices)"
   ],
   "outputs": [],
   "metadata": {}
  },
  {
   "cell_type": "markdown",
   "source": [
    "# **Soal 2**"
   ],
   "metadata": {}
  },
  {
   "cell_type": "markdown",
   "source": [
    "**Buat graph**"
   ],
   "metadata": {}
  },
  {
   "cell_type": "code",
   "execution_count": null,
   "source": [
    "# Buat graph\r\n",
    "A = ..."
   ],
   "outputs": [],
   "metadata": {}
  },
  {
   "cell_type": "markdown",
   "source": [
    "**Cari input keran**"
   ],
   "metadata": {}
  },
  {
   "cell_type": "code",
   "execution_count": null,
   "source": [
    "# Cari input keran\r\n",
    "..."
   ],
   "outputs": [],
   "metadata": {}
  },
  {
   "cell_type": "markdown",
   "source": [
    "# **Soal 3**"
   ],
   "metadata": {}
  },
  {
   "cell_type": "markdown",
   "source": [
    "**Input**"
   ],
   "metadata": {}
  },
  {
   "cell_type": "code",
   "execution_count": null,
   "source": [
    "img = np.array([[1, 2, 3, 4],\r\n",
    "                [5, 6, 7, 8],\r\n",
    "                [9, 10, 11, 12],\r\n",
    "                [13, 14, 15, 16]])\r\n",
    "\r\n",
    "kernel = np.array([[1, 0, 0],\r\n",
    "                   [0, 2, 0],\r\n",
    "                   [0, 0, 3]])"
   ],
   "outputs": [],
   "metadata": {}
  },
  {
   "cell_type": "markdown",
   "source": [
    "**Cari output**"
   ],
   "metadata": {}
  },
  {
   "cell_type": "code",
   "execution_count": null,
   "source": [
    "# Cari output\r\n",
    "...\r\n",
    "\r\n",
    "# plot\r\n",
    "plt.imshow(img)\r\n",
    "plt.show()\r\n",
    "\r\n",
    "plt.imshow(fin_img)\r\n",
    "plt.show()"
   ],
   "outputs": [],
   "metadata": {}
  },
  {
   "cell_type": "markdown",
   "source": [
    "# **Soal 4**"
   ],
   "metadata": {}
  },
  {
   "cell_type": "markdown",
   "source": [
    "**Load Data**"
   ],
   "metadata": {}
  },
  {
   "cell_type": "code",
   "execution_count": null,
   "source": [
    "# Open data\r\n",
    "df = pd.read_csv('dataset/ANZ.AX.csv')\r\n",
    "print(df.head(10))\r\n",
    "\r\n",
    "plt.plot(df['Close'])\r\n",
    "plt.xlabel('Day')\r\n",
    "plt.ylabel('Closed-Price')\r\n",
    "plt.show()\r\n",
    "print('Panjang data =', len(df))"
   ],
   "outputs": [],
   "metadata": {}
  },
  {
   "cell_type": "markdown",
   "source": [
    "**Cari moving average**"
   ],
   "metadata": {}
  },
  {
   "cell_type": "code",
   "execution_count": null,
   "source": [
    "# Cari moving average\r\n",
    "# cari short period = 5\r\n",
    "# cari long period = 20\r\n",
    "# tentukan kapan harus sell/buy\r\n",
    "n_short = 5\r\n",
    "n_long = 20\r\n",
    "sma_short = ...\r\n",
    "sma_long = ...\r\n",
    "\r\n",
    "# Plot\r\n",
    "plt.plot([i+n_short for i in range(len(sma_short))], sma_short, '--r', label='Short Period')\r\n",
    "plt.plot([i+n_long for i in range(len(sma_long))], sma_long, '-.g', label='Long Period')\r\n",
    "plt.plot(df['Close'], label='Closed value')\r\n",
    "plt.legend()\r\n",
    "plt.xlabel('Day')\r\n",
    "plt.ylabel('Closed-Price')\r\n",
    "plt.show()"
   ],
   "outputs": [],
   "metadata": {}
  }
 ],
 "metadata": {
  "orig_nbformat": 4,
  "language_info": {
   "name": "python",
   "version": "3.8.5",
   "mimetype": "text/x-python",
   "codemirror_mode": {
    "name": "ipython",
    "version": 3
   },
   "pygments_lexer": "ipython3",
   "nbconvert_exporter": "python",
   "file_extension": ".py"
  },
  "kernelspec": {
   "name": "python3",
   "display_name": "Python 3.8.5 64-bit ('base': conda)"
  },
  "interpreter": {
   "hash": "314ea981c085db46ccef735dba59695dbecece85a3e4aa8984de4261ea0b2923"
  }
 },
 "nbformat": 4,
 "nbformat_minor": 2
}