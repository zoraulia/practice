{
 "cells": [
  {
   "cell_type": "code",
   "execution_count": 1,
   "source": [
    "import numpy as np"
   ],
   "outputs": [],
   "metadata": {}
  },
  {
   "cell_type": "markdown",
   "source": [
    "# **Soal 1**"
   ],
   "metadata": {}
  },
  {
   "cell_type": "code",
   "execution_count": 2,
   "source": [
    "A = np.array([[1, 2, 3, 4],\r\n",
    "              [5, 6, 7, 8]])\r\n",
    "\r\n",
    "B = np.array([[1, 2], \r\n",
    "              [3, 4], \r\n",
    "              [5, 6],\r\n",
    "              [7, 8],\r\n",
    "              [1, 2],\r\n",
    "              [3, 4],\r\n",
    "              [5, 6],\r\n",
    "              [1, 2]])\r\n",
    "\r\n",
    "C = np.array([[1, 2, 3, 4, 5], \r\n",
    "              [5, 4, 3, 2, 1],\r\n",
    "              [1, 2, 3, 4, 5],\r\n",
    "              [1, 2, 3, 4, 5],\r\n",
    "              [5, 4, 3, 2, 1]])"
   ],
   "outputs": [],
   "metadata": {}
  },
  {
   "cell_type": "code",
   "execution_count": 13,
   "source": [
    "print(f'matrix A: \\n {A}')\r\n",
    "print(f'dimensions of A: {np.shape(A)}')\r\n",
    "print(f'matrix A: \\n {B}')\r\n",
    "print(f'dimensions of A: {np.shape(B)}')\r\n",
    "print(f'the sum of C matrix diagonal element: {np.sum(np.diag(C))}')\r\n",
    "# print(f'the sum of C matrix diagonal element: {np.trace(C)}')"
   ],
   "outputs": [
    {
     "output_type": "stream",
     "name": "stdout",
     "text": [
      "matrix A: \n",
      " [[1 2 3 4]\n",
      " [5 6 7 8]]\n",
      "dimensions of A: (2, 4)\n",
      "matrix A: \n",
      " [[1 2]\n",
      " [3 4]\n",
      " [5 6]\n",
      " [7 8]\n",
      " [1 2]\n",
      " [3 4]\n",
      " [5 6]\n",
      " [1 2]]\n",
      "dimensions of A: (8, 2)\n",
      "the sum of C matrix diagonal element: 13\n",
      "the sum of C matrix diagonal element: 13\n"
     ]
    }
   ],
   "metadata": {}
  },
  {
   "cell_type": "markdown",
   "source": [
    "# **Soal 2**"
   ],
   "metadata": {}
  },
  {
   "cell_type": "code",
   "execution_count": 14,
   "source": [
    "U = np.array([[1, 5, 2, 1],\r\n",
    "              [3, 1, 2, -1],\r\n",
    "              [5, 1, 2, 8]])\r\n",
    "\r\n",
    "V = np.array([[11, -5, 12, 1],\r\n",
    "              [3, 10, 12, -51],\r\n",
    "              [5, 1, 21, 81]])"
   ],
   "outputs": [],
   "metadata": {}
  },
  {
   "cell_type": "code",
   "execution_count": 15,
   "source": [
    "A = (U-V)/2\r\n",
    "print(A)"
   ],
   "outputs": [
    {
     "output_type": "stream",
     "name": "stdout",
     "text": [
      "[[ -5.    5.   -5.    0. ]\n",
      " [  0.   -4.5  -5.   25. ]\n",
      " [  0.    0.   -9.5 -36.5]]\n"
     ]
    }
   ],
   "metadata": {}
  },
  {
   "cell_type": "markdown",
   "source": [
    "# **Soal 3**"
   ],
   "metadata": {}
  },
  {
   "cell_type": "code",
   "execution_count": 23,
   "source": [
    "# weight list\r\n",
    "w_1_list = [1, 2, 3]\r\n",
    "w_2_list = [2, 3, 4]\r\n",
    "p_1_list = [1, 2]\r\n",
    "p_2_list = [3, 4]\r\n",
    "p_3_list = [5, 6]\r\n",
    "r_list = [5, 10]\r\n",
    "\r\n",
    "# input\r\n",
    "area = 30.0\r\n",
    "room = 2\r\n",
    "\r\n",
    "x = np.array([[area], [room]])"
   ],
   "outputs": [],
   "metadata": {}
  },
  {
   "cell_type": "code",
   "execution_count": 40,
   "source": [
    "W = np.stack((w_1_list, w_2_list))\r\n",
    "P = np.stack((p_1_list, p_2_list, p_3_list))\r\n",
    "R = np.array(r_list)\r\n",
    "\r\n",
    "W = W.T\r\n",
    "P = P.T\r\n",
    "\r\n",
    "HL_1 = W@x\r\n",
    "HL_2 = P@HL_1\r\n",
    "\r\n",
    "price = R@HL_2\r\n",
    "\r\n",
    "float(price)"
   ],
   "outputs": [
    {
     "output_type": "execute_result",
     "data": {
      "text/plain": [
       "12810.0"
      ]
     },
     "metadata": {},
     "execution_count": 40
    }
   ],
   "metadata": {}
  }
 ],
 "metadata": {
  "orig_nbformat": 4,
  "language_info": {
   "name": "python",
   "version": "3.8.5",
   "mimetype": "text/x-python",
   "codemirror_mode": {
    "name": "ipython",
    "version": 3
   },
   "pygments_lexer": "ipython3",
   "nbconvert_exporter": "python",
   "file_extension": ".py"
  },
  "kernelspec": {
   "name": "python3",
   "display_name": "Python 3.8.5 64-bit ('base': conda)"
  },
  "interpreter": {
   "hash": "314ea981c085db46ccef735dba59695dbecece85a3e4aa8984de4261ea0b2923"
  }
 },
 "nbformat": 4,
 "nbformat_minor": 2
}