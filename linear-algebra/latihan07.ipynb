{
 "cells": [
  {
   "cell_type": "code",
   "execution_count": null,
   "source": [
    "import numpy as np"
   ],
   "outputs": [],
   "metadata": {}
  },
  {
   "cell_type": "markdown",
   "source": [
    "# **Soal 1**"
   ],
   "metadata": {}
  },
  {
   "cell_type": "code",
   "execution_count": null,
   "source": [
    "A = np.array([[1, 2, 3, 4],\r\n",
    "              [5, 6, 7, 8]])\r\n",
    "\r\n",
    "B = np.array([[1, 2], \r\n",
    "              [3, 4], \r\n",
    "              [5, 6],\r\n",
    "              [7, 8],\r\n",
    "              [1, 2],\r\n",
    "              [3, 4],\r\n",
    "              [5, 6],\r\n",
    "              [1, 2]])\r\n",
    "\r\n",
    "C = np.array([[1, 2, 3, 4, 5], \r\n",
    "              [5, 4, 3, 2, 1],\r\n",
    "              [1, 2, 3, 4, 5],\r\n",
    "              [1, 2, 3, 4, 5],\r\n",
    "              [5, 4, 3, 2, 1]])"
   ],
   "outputs": [],
   "metadata": {}
  },
  {
   "cell_type": "markdown",
   "source": [
    "# **Soal 2**"
   ],
   "metadata": {}
  },
  {
   "cell_type": "code",
   "execution_count": null,
   "source": [
    "U = np.array([[1, 5, 2, 1],\r\n",
    "              [3, 1, 2, -1],\r\n",
    "              [5, 1, 2, 8]])\r\n",
    "\r\n",
    "V = np.array([[11, -5, 12, 1],\r\n",
    "              [3, 10, 12, -51],\r\n",
    "              [5, 1, 21, 81]])"
   ],
   "outputs": [],
   "metadata": {}
  },
  {
   "cell_type": "markdown",
   "source": [
    "# **Soal 3**"
   ],
   "metadata": {}
  },
  {
   "cell_type": "code",
   "execution_count": null,
   "source": [
    "# weight list\r\n",
    "w_1_list = [1, 2, 3]\r\n",
    "w_2_list = [2, 3, 4]\r\n",
    "p_1_list = [1, 2]\r\n",
    "p_2_list = [3, 4]\r\n",
    "p_3_list = [5, 6]\r\n",
    "r_list = [5, 10]\r\n",
    "\r\n",
    "# input\r\n",
    "area = 30.0\r\n",
    "room = 2"
   ],
   "outputs": [],
   "metadata": {}
  }
 ],
 "metadata": {
  "orig_nbformat": 4,
  "language_info": {
   "name": "python"
  }
 },
 "nbformat": 4,
 "nbformat_minor": 2
}