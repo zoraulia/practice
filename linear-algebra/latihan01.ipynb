{
 "cells": [
  {
   "cell_type": "code",
   "execution_count": 2,
   "source": [
    "import numpy as np"
   ],
   "outputs": [],
   "metadata": {}
  },
  {
   "cell_type": "markdown",
   "source": [
    "# **Soal 1**\r\n",
    "\r\n",
    "Diberikan $\\vec{x} = [20, 22, 24, 26, 28, 30, 32, 34, 36, 38, 40, 42]$\r\n",
    "\r\n",
    "Tugas anda adalah:\r\n",
    "- Buat vektor $\\vec{x}$\r\n",
    "- Negasikan elemen nomor 3-8\r\n",
    "\r\n",
    "**Output**:\r\n",
    "\r\n",
    "`x = [20, 22, -24, -26, -28, -30, -32, -34, 36, 38, 40, 42]`"
   ],
   "metadata": {}
  },
  {
   "cell_type": "code",
   "execution_count": 21,
   "source": [
    "# tulis jawaban disini\r\n",
    "x = np.array([20, 22, 24, 26, 28, 30, 32, 34, 36, 38, 40, 42])\r\n",
    "x[2:8] = -x[2:8]\r\n",
    "x"
   ],
   "outputs": [
    {
     "output_type": "execute_result",
     "data": {
      "text/plain": [
       "array([ 20,  22, -24, -26, -28, -30, -32, -34,  36,  38,  40,  42])"
      ]
     },
     "metadata": {},
     "execution_count": 21
    }
   ],
   "metadata": {}
  },
  {
   "cell_type": "markdown",
   "source": [
    "# **Soal 2**\r\n",
    "\r\n",
    "Kurangkan matriks berikut dengan rataan matriks pada setiap kolomnya\r\n",
    "\r\n",
    "$A = \\begin{bmatrix}\r\n",
    "0 & 2 & -3\\\\ \r\n",
    "4 & -5 & 6\\\\ \r\n",
    "-7 & -9 & -9\r\n",
    "\\end{bmatrix}$\r\n",
    "\r\n",
    "**Output**\r\n",
    "\r\n",
    "$A = \\begin{bmatrix}\r\n",
    "1 & 6 & -1\\\\ \r\n",
    "5 & -1 & 8\\\\ \r\n",
    "-6 & -5 & -7\r\n",
    "\\end{bmatrix}$"
   ],
   "metadata": {}
  },
  {
   "cell_type": "code",
   "execution_count": 19,
   "source": [
    "# tulis jawaban disini\r\n",
    "A = np.array([[0,2,-3],\r\n",
    "              [4,-5,6],\r\n",
    "              [-7,-9,-9]])\r\n",
    "rataan = np.mean(A, axis=0)\r\n",
    "A - rataan"
   ],
   "outputs": [
    {
     "output_type": "execute_result",
     "data": {
      "text/plain": [
       "array([[ 1.,  6., -1.],\n",
       "       [ 5., -1.,  8.],\n",
       "       [-6., -5., -7.]])"
      ]
     },
     "metadata": {},
     "execution_count": 19
    }
   ],
   "metadata": {}
  },
  {
   "cell_type": "markdown",
   "source": [
    "# **Soal 3**\r\n",
    "\r\n",
    "Perhatikan gambar berikut:\r\n",
    "\r\n",
    "<img src=\"https://jalammar.github.io/images/numpy/numpy-audio.png\" />"
   ],
   "metadata": {}
  },
  {
   "cell_type": "markdown",
   "source": [
    "Gambar di atas adalah cuplikan suatu audio files. Untuk **merepresentasikan** bagian dari cuplikan audio, seorang *data scientist* melakukan rataan pada bagian cuplikan tersebut. Berapakah rataanya?\r\n",
    "\r\n",
    "**Jawaban**\r\n",
    "\r\n",
    "`rataan = -12.67`"
   ],
   "metadata": {}
  },
  {
   "cell_type": "code",
   "execution_count": 25,
   "source": [
    "# tulis jawaban disini\r\n",
    "x = np.array([326,217,142,73,27,7,14,38,65,90,101,90,74,37,-12,-77,-154,-232,-304,-355,-433])\r\n",
    "np.round(np.mean(x), 2)"
   ],
   "outputs": [
    {
     "output_type": "execute_result",
     "data": {
      "text/plain": [
       "-12.67"
      ]
     },
     "metadata": {},
     "execution_count": 25
    }
   ],
   "metadata": {}
  },
  {
   "cell_type": "markdown",
   "source": [
    "# **Soal 4**\r\n",
    "\r\n",
    "Perhatikan gambar berikut:\r\n",
    "\r\n",
    "<img src=\"https://pythonprogramming.net/static/images/unsupervised-learning/unsupervised-machine-learning-clustering-mean-shift-and-kmeans.png\" />"
   ],
   "metadata": {}
  },
  {
   "cell_type": "markdown",
   "source": [
    "- Dr. House, seorang data scientist, ingin mengeneralisasi data-data di atas kedalam 2 cluster (kelompok), hijau & merah. \r\n",
    "- Titik pusat cluster hijau ada di titik $(0.5 , 0.5)$. \r\n",
    "- Dr. House, membuat aturan: apabila radius data **kurang dari** 2.5, titik tersebut **adalah anggota dari** cluster hijau.\r\n",
    "- Tentukan berapa banyak dari titik-titik berikut yang menjadi anggota dari cluster hijau?\r\n",
    "\r\n",
    "**Jawaban**\r\n",
    "\r\n",
    "`ada 8 dari 50 data yang masuk kedalam cluster hijau`"
   ],
   "metadata": {}
  },
  {
   "cell_type": "code",
   "execution_count": 27,
   "source": [
    "data_radius = np.array([2.93902597, 2.32845884, 4.2317439 , 3.02534808, 3.63749932,\r\n",
    "                        4.61933278, 4.98524114, 3.99796807, 4.38048703, 4.87845504,\r\n",
    "                        2.9508045 , 4.11956933, 2.31436273, 4.78638826, 2.0777331 ,\r\n",
    "                        4.43630206, 4.77922891, 2.71388678, 3.76918574, 2.61333636,\r\n",
    "                        3.54136574, 4.98287769, 3.69068662, 2.63383357, 3.39749719,\r\n",
    "                        3.405558  , 2.37304287, 4.79190484, 2.04602476, 4.81866315,\r\n",
    "                        2.67985826, 3.52430763, 4.80836544, 3.50406155, 2.8335968 ,\r\n",
    "                        2.43248808, 4.68155214, 4.52859485, 4.34511614, 4.33490431,\r\n",
    "                        4.86142995, 2.23527704, 4.39172846, 4.35611112, 2.71783356,\r\n",
    "                        2.9498481 , 3.74487916, 2.40915319, 4.03701979, 4.81372678])"
   ],
   "outputs": [],
   "metadata": {}
  },
  {
   "cell_type": "code",
   "execution_count": 32,
   "source": [
    "# tulis jawaban disini\r\n",
    "np.sum(data_radius < 2.5)"
   ],
   "outputs": [
    {
     "output_type": "execute_result",
     "data": {
      "text/plain": [
       "8"
      ]
     },
     "metadata": {},
     "execution_count": 32
    }
   ],
   "metadata": {}
  }
 ],
 "metadata": {
  "orig_nbformat": 4,
  "language_info": {
   "name": "python",
   "version": "3.8.5",
   "mimetype": "text/x-python",
   "codemirror_mode": {
    "name": "ipython",
    "version": 3
   },
   "pygments_lexer": "ipython3",
   "nbconvert_exporter": "python",
   "file_extension": ".py"
  },
  "kernelspec": {
   "name": "python3",
   "display_name": "Python 3.8.5 64-bit ('base': conda)"
  },
  "interpreter": {
   "hash": "314ea981c085db46ccef735dba59695dbecece85a3e4aa8984de4261ea0b2923"
  }
 },
 "nbformat": 4,
 "nbformat_minor": 2
}