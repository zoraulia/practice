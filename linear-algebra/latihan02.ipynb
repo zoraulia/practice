{
 "cells": [
  {
   "cell_type": "code",
   "execution_count": null,
   "source": [
    "import numpy as np"
   ],
   "outputs": [],
   "metadata": {}
  },
  {
   "cell_type": "markdown",
   "source": [
    "# **Traveling Salesman Problems (TSP)**"
   ],
   "metadata": {}
  },
  {
   "cell_type": "markdown",
   "source": [
    "**Data Koordinat**"
   ],
   "metadata": {}
  },
  {
   "cell_type": "markdown",
   "source": [
    "Point | Coordinates\r\n",
    ":-: | :-:\r\n",
    "1 | `(172.82, 416.83)`\r\n",
    "2 | `(175.42, 218.31)`\r\n",
    "3 | `(235.28, 153.43)`\r\n",
    "4 | `(324.33, 144.75)`\r\n",
    "5 | `(568.77, 80.53)`\r\n",
    "6 | `(881.05, 275.20)`\r\n",
    "7 |  `(922.24, 306.96)`\r\n",
    "8 |  `(599.66, 357.54)`\r\n",
    "9 |  `(679.05, 295.80)`\r\n",
    "10 | `(645.52, 236.42)`\r\n",
    "11 | `(548.03, 129.41)`\r\n",
    "12 | `(427.23, 258.12)`\r\n",
    "13 | `(326.22, 276.38)`"
   ],
   "metadata": {}
  },
  {
   "cell_type": "markdown",
   "source": [
    "1. Buat koordinat"
   ],
   "metadata": {}
  },
  {
   "cell_type": "code",
   "execution_count": null,
   "source": [
    "coor_1 = np.array([172.82, 416.83])\r\n",
    "coor_2 = np.array([175.42, 218.31])\r\n",
    "coor_10 = np.array([645.52, 236.42])\r\n",
    "coor_3 = np.array([235.28, 153.43])"
   ],
   "outputs": [],
   "metadata": {}
  },
  {
   "cell_type": "markdown",
   "source": [
    "2. Cari rute"
   ],
   "metadata": {}
  },
  {
   "cell_type": "code",
   "execution_count": null,
   "source": [
    "rute_1_2 = ((coor_1[0]-coor_2[0])**2 + (coor_1[1]-coor_2[1])**2)**0.5\r\n",
    "rute_2_10 = ((coor_2[0]-coor_10[0])**2 + (coor_2[1]-coor_10[1])**2)**0.5\r\n",
    "rute_10_3 = ((coor_10[0]-coor_3[0])**2 + (coor_10[1]-coor_3[1])**2)**0.5\r\n",
    "rute_3_1 = ((coor_3[0]-coor_1[0])**2 + (coor_3[1]-coor_1[1])**2)**0.5"
   ],
   "outputs": [],
   "metadata": {}
  },
  {
   "cell_type": "code",
   "execution_count": null,
   "source": [
    "print('rute_1_2 =', rute_1_2)\r\n",
    "print('rute_2_10 =', rute_2_10)\r\n",
    "print('rute_10_3 =', rute_10_3)\r\n",
    "print('rute_3_1 =', rute_3_1)"
   ],
   "outputs": [],
   "metadata": {}
  },
  {
   "cell_type": "markdown",
   "source": [
    "3. Cari jarak total"
   ],
   "metadata": {}
  },
  {
   "cell_type": "code",
   "execution_count": null,
   "source": [
    "jarak_total = rute_1_2 + rute_2_10 + rute_10_3 + rute_3_1\r\n",
    "print('Jarak total =', jarak_total)"
   ],
   "outputs": [],
   "metadata": {}
  }
 ],
 "metadata": {
  "orig_nbformat": 4,
  "language_info": {
   "name": "python"
  }
 },
 "nbformat": 4,
 "nbformat_minor": 2
}