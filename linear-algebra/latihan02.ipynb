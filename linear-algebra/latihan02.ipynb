{
 "cells": [
  {
   "cell_type": "code",
   "execution_count": 2,
   "source": [
    "import numpy as np"
   ],
   "outputs": [],
   "metadata": {}
  },
  {
   "cell_type": "markdown",
   "source": [
    "# **Traveling Salesman Problems (TSP)**"
   ],
   "metadata": {}
  },
  {
   "cell_type": "markdown",
   "source": [
    "**Data Koordinat**"
   ],
   "metadata": {}
  },
  {
   "cell_type": "markdown",
   "source": [
    "Point | Coordinates\r\n",
    ":-: | :-:\r\n",
    "1 | `(172.82, 416.83)`\r\n",
    "2 | `(175.42, 218.31)`\r\n",
    "3 | `(235.28, 153.43)`\r\n",
    "4 | `(324.33, 144.75)`\r\n",
    "5 | `(568.77, 80.53)`\r\n",
    "6 | `(881.05, 275.20)`\r\n",
    "7 |  `(922.24, 306.96)`\r\n",
    "8 |  `(599.66, 357.54)`\r\n",
    "9 |  `(679.05, 295.80)`\r\n",
    "10 | `(645.52, 236.42)`\r\n",
    "11 | `(548.03, 129.41)`\r\n",
    "12 | `(427.23, 258.12)`\r\n",
    "13 | `(326.22, 276.38)`"
   ],
   "metadata": {}
  },
  {
   "cell_type": "markdown",
   "source": [
    "## Cara 1"
   ],
   "metadata": {}
  },
  {
   "cell_type": "markdown",
   "source": [
    "Buat koordinat"
   ],
   "metadata": {}
  },
  {
   "cell_type": "code",
   "execution_count": 12,
   "source": [
    "coor_1  = A = np.array([172.82, 416.83])\r\n",
    "coor_2  = B = np.array([175.42, 218.31])\r\n",
    "coor_10 = C = np.array([645.52, 236.42])\r\n",
    "coor_3  = D = np.array([235.28, 153.43])"
   ],
   "outputs": [],
   "metadata": {}
  },
  {
   "cell_type": "markdown",
   "source": [
    "Cari rute"
   ],
   "metadata": {}
  },
  {
   "cell_type": "code",
   "execution_count": 4,
   "source": [
    "rute_1_2 = ((coor_1[0]-coor_2[0])**2 + (coor_1[1]-coor_2[1])**2)**0.5\r\n",
    "rute_2_10 = ((coor_2[0]-coor_10[0])**2 + (coor_2[1]-coor_10[1])**2)**0.5\r\n",
    "rute_10_3 = ((coor_10[0]-coor_3[0])**2 + (coor_10[1]-coor_3[1])**2)**0.5\r\n",
    "rute_3_1 = ((coor_3[0]-coor_1[0])**2 + (coor_3[1]-coor_1[1])**2)**0.5"
   ],
   "outputs": [],
   "metadata": {}
  },
  {
   "cell_type": "code",
   "execution_count": 5,
   "source": [
    "print('rute_1_2 =', rute_1_2)\r\n",
    "print('rute_2_10 =', rute_2_10)\r\n",
    "print('rute_10_3 =', rute_10_3)\r\n",
    "print('rute_3_1 =', rute_3_1)"
   ],
   "outputs": [
    {
     "output_type": "stream",
     "name": "stdout",
     "text": [
      "rute_1_2 = 198.53702526229205\n",
      "rute_2_10 = 470.4487029422018\n",
      "rute_10_3 = 418.5501137259432\n",
      "rute_3_1 = 270.7042881078909\n"
     ]
    }
   ],
   "metadata": {}
  },
  {
   "cell_type": "markdown",
   "source": [
    "Cari jarak total"
   ],
   "metadata": {}
  },
  {
   "cell_type": "code",
   "execution_count": 6,
   "source": [
    "jarak_total = rute_1_2 + rute_2_10 + rute_10_3 + rute_3_1\r\n",
    "print('Jarak total =', jarak_total)"
   ],
   "outputs": [
    {
     "output_type": "stream",
     "name": "stdout",
     "text": [
      "Jarak total = 1358.240130038328\n"
     ]
    }
   ],
   "metadata": {}
  },
  {
   "cell_type": "markdown",
   "source": [
    "## Cara 2"
   ],
   "metadata": {}
  },
  {
   "cell_type": "markdown",
   "source": [
    "Cari rute"
   ],
   "metadata": {}
  },
  {
   "cell_type": "code",
   "execution_count": 8,
   "source": [
    "rute_AB = np.linalg.norm(B-A)\r\n",
    "rute_BC = np.linalg.norm(C-B)\r\n",
    "rute_CD = np.linalg.norm(D-C)\r\n",
    "rute_DA = np.linalg.norm(A-D)"
   ],
   "outputs": [],
   "metadata": {}
  },
  {
   "cell_type": "markdown",
   "source": [
    "Cari jarak total"
   ],
   "metadata": {}
  },
  {
   "cell_type": "code",
   "execution_count": 10,
   "source": [
    "total_distance = rute_AB + rute_BC + rute_CD + rute_DA\r\n",
    "total_distance"
   ],
   "outputs": [
    {
     "output_type": "execute_result",
     "data": {
      "text/plain": [
       "1358.240130038328"
      ]
     },
     "metadata": {},
     "execution_count": 10
    }
   ],
   "metadata": {}
  },
  {
   "cell_type": "markdown",
   "source": [
    "## Cara 3"
   ],
   "metadata": {}
  },
  {
   "cell_type": "code",
   "execution_count": 14,
   "source": [
    "city = [A,B,C,D]\r\n",
    "np.roll(city,1,axis=0) # digeser satu, berdasarkan baris (axis=0)"
   ],
   "outputs": [
    {
     "output_type": "execute_result",
     "data": {
      "text/plain": [
       "array([[235.28, 153.43],\n",
       "       [172.82, 416.83],\n",
       "       [175.42, 218.31],\n",
       "       [645.52, 236.42]])"
      ]
     },
     "metadata": {},
     "execution_count": 14
    }
   ],
   "metadata": {}
  },
  {
   "cell_type": "code",
   "execution_count": 15,
   "source": [
    "np.linalg.norm(city - np.roll(city,1,axis=0))"
   ],
   "outputs": [
    {
     "output_type": "execute_result",
     "data": {
      "text/plain": [
       "713.5852729702316"
      ]
     },
     "metadata": {},
     "execution_count": 15
    }
   ],
   "metadata": {}
  },
  {
   "cell_type": "code",
   "execution_count": 16,
   "source": [
    "city = [A,B,C,D]\r\n",
    "rute = np.array([np.linalg.norm(city - np.roll(city,1,axis=0))])\r\n",
    "np.sum(rute)"
   ],
   "outputs": [
    {
     "output_type": "execute_result",
     "data": {
      "text/plain": [
       "713.5852729702316"
      ]
     },
     "metadata": {},
     "execution_count": 16
    }
   ],
   "metadata": {}
  },
  {
   "cell_type": "code",
   "execution_count": 17,
   "source": [
    "city = [A,B,C,D]\r\n",
    "rute = np.array([np.linalg.norm(city - np.roll(city,1,axis=0),axis=1)])\r\n",
    "totalrute = np.sum(rute)"
   ],
   "outputs": [],
   "metadata": {}
  },
  {
   "cell_type": "code",
   "execution_count": 18,
   "source": [
    "totalrute"
   ],
   "outputs": [
    {
     "output_type": "execute_result",
     "data": {
      "text/plain": [
       "1358.240130038328"
      ]
     },
     "metadata": {},
     "execution_count": 18
    }
   ],
   "metadata": {}
  }
 ],
 "metadata": {
  "orig_nbformat": 4,
  "language_info": {
   "name": "python",
   "version": "3.8.5",
   "mimetype": "text/x-python",
   "codemirror_mode": {
    "name": "ipython",
    "version": 3
   },
   "pygments_lexer": "ipython3",
   "nbconvert_exporter": "python",
   "file_extension": ".py"
  },
  "kernelspec": {
   "name": "python3",
   "display_name": "Python 3.8.5 64-bit ('base': conda)"
  },
  "interpreter": {
   "hash": "314ea981c085db46ccef735dba59695dbecece85a3e4aa8984de4261ea0b2923"
  }
 },
 "nbformat": 4,
 "nbformat_minor": 2
}