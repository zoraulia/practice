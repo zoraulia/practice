{
 "cells": [
  {
   "cell_type": "code",
   "execution_count": 1,
   "source": [
    "import math"
   ],
   "outputs": [],
   "metadata": {}
  },
  {
   "cell_type": "markdown",
   "source": [
    "1. Suatu kepanitiaan lomba di sekolah mengadakan pemilihan ketua, sekretaris dan bendahara. Setelah melakukan seleksi, ada 5 orang siswa yang mendaftarkan diri. Banyak cara untuk memilih ketua, sekretaris dan bendahara untuk acara tersebut adalah..."
   ],
   "metadata": {}
  },
  {
   "cell_type": "code",
   "execution_count": 3,
   "source": [
    "#n = 5\r\n",
    "#k = 3\r\n",
    "math.perm(5,3)"
   ],
   "outputs": [
    {
     "output_type": "execute_result",
     "data": {
      "text/plain": [
       "60"
      ]
     },
     "metadata": {},
     "execution_count": 3
    }
   ],
   "metadata": {}
  },
  {
   "cell_type": "markdown",
   "source": [
    "2. Seorang peternak akan membeli hewan ternak untuk dipelihara. Dia akan membeli 3 ekor sapi, 4 ekor domba dan 5 ekor kambing. Seorang pedagang mempunyai 6 ekor sapi, 6 ekor domba dan 8 ekor kambing. Banyak cara yang dapat dilakukan untuk memilih hewan ternak yang akan dibeli adalah…"
   ],
   "metadata": {}
  },
  {
   "cell_type": "code",
   "execution_count": 2,
   "source": [
    "math.comb(6,3) * math.comb(6,4) * math.comb(8,5)"
   ],
   "outputs": [
    {
     "output_type": "execute_result",
     "data": {
      "text/plain": [
       "16800"
      ]
     },
     "metadata": {},
     "execution_count": 2
    }
   ],
   "metadata": {}
  },
  {
   "cell_type": "markdown",
   "source": [
    "### Monty Hall Problem\r\n",
    "\r\n",
    "Apabila Anda berada dalam suatu acara kuis di TV dan diberikan pilihan untuk memilih tiga pintu: Di belakang salah satu pintu tersebut terdapat sebuah mobil dan dua lainnya terdapat kambing. Anda memilih salah satu pintu, misalnya pintu No. 2, dan pembawa acara yang sudah tahu apa yang ada di belakang pintu-pintu tersebut membuka pintu lainnya, misalnya pintu No. 3, yang ternyata terdapat seekor kambing. Pembawa acara tersebut kemudian berkata kepada anda, \"Apakah anda ingin memilih pintu No. 1?\" Apakah mengalihkan pilihan lebih menguntungkan anda?"
   ],
   "metadata": {}
  },
  {
   "cell_type": "code",
   "execution_count": 6,
   "source": [
    "import enum, random"
   ],
   "outputs": [],
   "metadata": {}
  },
  {
   "cell_type": "code",
   "execution_count": 7,
   "source": [
    "def run_trial(switch_doors, ndoors=3):\r\n",
    "    # Pick a random door out of the ndoors available\r\n",
    "    chosen_door = random.randint(1, ndoors)\r\n",
    "    if switch_doors:\r\n",
    "        # Reveal a goat\r\n",
    "        revealed_door = 3 if chosen_door==2 else 2\r\n",
    "        # Make the switch by choosing any other door than the initially-\r\n",
    "        # selected one and the one just opened to reveal a goat. \r\n",
    "        available_doors = [dnum for dnum in range(1,ndoors+1)\r\n",
    "                                if dnum not in (chosen_door, revealed_door)]\r\n",
    "        chosen_door = random.choice(available_doors)\r\n",
    "    # You win if you picked door number 1\r\n",
    "    return chosen_door == 1\r\n",
    "\r\n",
    "def run_trials(ntrials, switch_doors, ndoors=3):\r\n",
    "    nwins = 0\r\n",
    "    for i in range(ntrials):\r\n",
    "        if run_trial(switch_doors, ndoors):\r\n",
    "            nwins += 1\r\n",
    "    return nwins"
   ],
   "outputs": [],
   "metadata": {}
  },
  {
   "cell_type": "code",
   "execution_count": 8,
   "source": [
    "ndoors, ntrials = 3, 100000\r\n",
    "nwins_without_switch = run_trials(ntrials, False, ndoors)\r\n",
    "nwins_with_switch = run_trials(ntrials, True, ndoors)\r\n",
    "\r\n",
    "print('Peluang mendapatkan mobil tanpa mengubah pilihan: {:.4f}'\r\n",
    "            .format(nwins_without_switch/ntrials))\r\n",
    "print('Peluang mendapatkan mobil jika mengubah pilihan: {:.4f}'\r\n",
    "            .format(nwins_with_switch/ntrials))"
   ],
   "outputs": [
    {
     "output_type": "stream",
     "name": "stdout",
     "text": [
      "Peluang mendapatkan mobil tanpa mengubah pilihan: 0.3332\n",
      "Peluang mendapatkan mobil jika mengubah pilihan: 0.6669\n"
     ]
    }
   ],
   "metadata": {}
  },
  {
   "cell_type": "code",
   "execution_count": null,
   "source": [],
   "outputs": [],
   "metadata": {}
  }
 ],
 "metadata": {
  "orig_nbformat": 4,
  "language_info": {
   "name": "python",
   "version": "3.8.5",
   "mimetype": "text/x-python",
   "codemirror_mode": {
    "name": "ipython",
    "version": 3
   },
   "pygments_lexer": "ipython3",
   "nbconvert_exporter": "python",
   "file_extension": ".py"
  },
  "kernelspec": {
   "name": "python3",
   "display_name": "Python 3.8.5 64-bit ('base': conda)"
  },
  "interpreter": {
   "hash": "314ea981c085db46ccef735dba59695dbecece85a3e4aa8984de4261ea0b2923"
  }
 },
 "nbformat": 4,
 "nbformat_minor": 2
}