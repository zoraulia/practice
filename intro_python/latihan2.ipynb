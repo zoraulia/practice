{
 "cells": [
  {
   "cell_type": "markdown",
   "metadata": {},
   "source": [
    "1. Buatlah program untuk mencari siapa yang tertua dari 3 orang.\r\n",
    "    * Input: \r\n",
    "    ```\r\n",
    "        orang_1 = 40 \r\n",
    "        orang_2 = 25 \r\n",
    "        orang_3 = 37\r\n",
    "    ```\r\n",
    "    * Output:\r\n",
    "        ```\r\n",
    "        Orang yang tertua adalah orang pertama\r\n",
    "        ```"
   ]
  },
  {
   "cell_type": "code",
   "execution_count": 1,
   "metadata": {},
   "outputs": [],
   "source": [
    "def tertua():\r\n",
    "    orang1 = input(\"Umur orang pertama:\")\r\n",
    "    orang2 = input(\"Umur orang kedua:\")\r\n",
    "    orang3 = input(\"Umur orang ketiga:\")\r\n",
    "\r\n",
    "    if int(orang1) > int(orang2) and int(orang1) > int(orang3):\r\n",
    "        print(\"Orang yang tertua adalah orang pertama\")\r\n",
    "    elif int(orang2) > int(orang1) and int(orang2) > int(orang1):\r\n",
    "        print(\"Orang yang tertua adalah orang kedua\")\r\n",
    "    else:\r\n",
    "        print(\"Orang tertua adalah orang ketiga\")"
   ]
  },
  {
   "cell_type": "code",
   "execution_count": 2,
   "metadata": {},
   "outputs": [
    {
     "name": "stdout",
     "output_type": "stream",
     "text": [
      "Orang tertua adalah orang ketiga\n"
     ]
    }
   ],
   "source": [
    "tertua()"
   ]
  },
  {
   "cell_type": "markdown",
   "metadata": {},
   "source": [
    "2. Sebuah perusahaan akan memberikan bonus 5% dari gaji masing-masing pegawai kepada pegawainya jika pegawainya telah bekerja selama minimal 5 tahun.\r\n",
    "    * Input:\r\n",
    "```\r\n",
    "kasus 1: gaji = 5000 ; masa bakti = 2\r\n",
    "kasus 2: gaji = 10000; masa bakti = 6\r\n",
    "```\r\n",
    "    * Output:\r\n",
    "```\r\n",
    "kasus 1: Tidak ada bonus\r\n",
    "kasus 2: Bonus adalah 500\r\n",
    "```"
   ]
  },
  {
   "cell_type": "code",
   "execution_count": null,
   "metadata": {},
   "outputs": [],
   "source": [
    "gaji = 10000\r\n",
    "masa_bakti = 6"
   ]
  },
  {
   "cell_type": "code",
   "execution_count": null,
   "metadata": {},
   "outputs": [],
   "source": []
  },
  {
   "cell_type": "markdown",
   "metadata": {},
   "source": [
    "3. Buatlah program untuk mengecek apakah suatu tahun adalah tahun kabisat atau tidak. Jika tahun kabisat, maka tahun dapat dibagi dengan 4, untuk tahun dengan akhiran `'00` maka harus bisa dibagi dengan 400.\r\n",
    "    * Input: Tahun    \r\n",
    "```\r\n",
    "kasus 1: tahun = 2020\r\n",
    "kasus 2: tahun = 2013\r\n",
    "```\r\n",
    "    * Output: Kabisat atau bukan.\r\n",
    "```\r\n",
    "kasus 1: Kabisat\r\n",
    "kasus 2: Bukan kabisat\r\n",
    "```"
   ]
  },
  {
   "cell_type": "code",
   "execution_count": 2,
   "metadata": {},
   "outputs": [],
   "source": [
    "tahun = 2013"
   ]
  },
  {
   "cell_type": "code",
   "execution_count": null,
   "metadata": {},
   "outputs": [],
   "source": []
  },
  {
   "cell_type": "markdown",
   "metadata": {},
   "source": [
    "4. Diberikan 2 variabel yaitu:\r\n",
    "    * umur:\r\n",
    "    * menikah: (Y/N)\r\n",
    "\r\n",
    "Gunakan aturan berikut untuk membuat program: \r\n",
    "* Jika sudah menikah, maka tampilkan \"Hanya bisa bekerja di perkotaan\"\r\n",
    "* Jika belum menikah, maka cek umur.\r\n",
    "    * Jika berumur 20-40 maka tampilkan \"Bisa bekerja dimana saja.\"\r\n",
    "    * Jika berumur diatas 40, maka tampilkan \"Hanya bisa bekerja di perkotaan\".\r\n",
    "* Selain itu, tampilkan(print) \"ERROR\".\r\n",
    "\r\n",
    "Note: Ini hanya contoh soal, tidak bermaksud menyinggung pihak manapun.\r\n",
    "\r\n",
    "Contoh:\r\n",
    "Input:\r\n",
    "```\r\n",
    "kasus 1: umur = 25; menikah = Y\r\n",
    "kasus 2: umur = 26; menikah = N\r\n",
    "kasus 3: umur = 45; menikah = N\r\n",
    "kasus 4: umur = 17; menikah = N\r\n",
    "```\r\n",
    "Output:\r\n",
    "```\r\n",
    "kasus 1: Hanya bisa bekerja di perkotaan\r\n",
    "kasus 2: Bisa bekerja dimana saja\r\n",
    "kasus 3: Hanya bisa bekerja di perkotaan\r\n",
    "kasus 4: ERROR\r\n",
    "```"
   ]
  },
  {
   "cell_type": "code",
   "execution_count": 3,
   "metadata": {},
   "outputs": [],
   "source": [
    "umur = 17\r\n",
    "menikah = 'N'"
   ]
  },
  {
   "cell_type": "code",
   "execution_count": null,
   "metadata": {},
   "outputs": [],
   "source": []
  }
 ],
 "metadata": {
  "interpreter": {
   "hash": "d3dc79beb5021c59639c6d840a8f665784ea7696f28e22a72683b988f4f767cb"
  },
  "kernelspec": {
   "display_name": "Python 3.9.4 64-bit ('geo_env': conda)",
   "name": "python3"
  },
  "language_info": {
   "codemirror_mode": {
    "name": "ipython",
    "version": 3
   },
   "file_extension": ".py",
   "mimetype": "text/x-python",
   "name": "python",
   "nbconvert_exporter": "python",
   "pygments_lexer": "ipython3",
   "version": "3.8.5"
  },
  "orig_nbformat": 4
 },
 "nbformat": 4,
 "nbformat_minor": 2
}