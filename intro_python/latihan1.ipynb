{
 "cells": [
  {
   "cell_type": "markdown",
   "metadata": {},
   "source": [
    "1. Lengkapi bagian yang diberi tanda `$$$$$` agar objek berikut dapat menjadi integer!"
   ]
  },
  {
   "cell_type": "code",
   "execution_count": 1,
   "metadata": {},
   "outputs": [
    {
     "data": {
      "text/plain": [
       "1000"
      ]
     },
     "execution_count": 1,
     "metadata": {},
     "output_type": "execute_result"
    }
   ],
   "source": [
    "int('1000')"
   ]
  },
  {
   "cell_type": "markdown",
   "metadata": {},
   "source": [
    "2. Adi sedang berbelanja barang di supermarket, dengan harga terlampir di bawah ini. Adi membeli 2 potong ayam, 3 potong daging sapi, 2 sayur bayam, dan 1 susu. Tuliskan biaya yang harus dibayar Adi sebagai operasi di bawah ini dan jalankan perhitungannya.\r\n",
    "\r\n",
    "| barang      | harga  |\r\n",
    "|-------------|--------|\r\n",
    "| ayam        | 20000  |\r\n",
    "| daging sapi | 100000 |\r\n",
    "| sayur bayam | 10000  |\r\n",
    "| susu        | 15000  |\r\n"
   ]
  },
  {
   "cell_type": "code",
   "execution_count": null,
   "metadata": {},
   "outputs": [],
   "source": []
  },
  {
   "cell_type": "markdown",
   "metadata": {},
   "source": [
    "3. Tanpa menggunakan operator modulo `%`. Cobalah hitung modulo dari 19 dan 4.\r\n",
    "\r\n",
    "hint: pakai floor division `//`\r\n",
    "\r\n",
    "expected output = 3"
   ]
  },
  {
   "cell_type": "code",
   "execution_count": null,
   "metadata": {},
   "outputs": [],
   "source": []
  },
  {
   "cell_type": "markdown",
   "metadata": {},
   "source": [
    "4. Cek isi variabel `y` ketika kalian masukkan `1+1000`. Apa yang akan terjadi? Kemudian ganti isi `y` dengan `42`."
   ]
  },
  {
   "cell_type": "code",
   "execution_count": null,
   "metadata": {},
   "outputs": [],
   "source": []
  },
  {
   "cell_type": "markdown",
   "metadata": {},
   "source": [
    "5. Misal anda sedang menghitung berapa banyak orang yang mengikuti kelas Pacmann. Kalian mengetahui bahwa untuk sesi pagi (`sesi_pagi`) dihadiri oleh 100 orang, dan sesi malam (`sesi_malam`) dihadiri oleh 60 orang.\r\n",
    "   - Buatlah variabel sesi pagi dan malam dan isi banyaknya orang yang menghadiri sesi tersebut.\r\n",
    "   - Kemudian, buatlah variabel `sesi_kelas` dengan menjumlah 2 variabel tersebut.\r\n",
    "   - Misal ada 8 kali `sesi_kelas`. Ubah isi di dalam `sesi_kelas` dengan banyaknya orang dikali dengan banyak sesi tersebut."
   ]
  },
  {
   "cell_type": "code",
   "execution_count": null,
   "metadata": {},
   "outputs": [],
   "source": []
  },
  {
   "cell_type": "markdown",
   "metadata": {},
   "source": [
    "6. Buatlah variabel `saya` dengan string nama panggilan anda sebagai isinya. Kemudian tampilkan isi `saya` sehingga nama anda ditampilkan dengan huruf kapital."
   ]
  },
  {
   "cell_type": "code",
   "execution_count": null,
   "metadata": {},
   "outputs": [],
   "source": []
  },
  {
   "cell_type": "markdown",
   "metadata": {},
   "source": [
    "7. Stephan sedang mencoba untuk melamar sebuah pekerjaan. Dia menginput namanya di variabel `nama`. Namun, tanpa sadar dia salah mengetik nama depannya menjadi `stephan purnomo`. Lebih fatal lagi, ternyata dia lupa untuk membuat namanya memiliki huruf kapital di tiap kata.\r\n",
    "    - Koreksi nama Stepan di variabel `nama_revisi` dengan menggunakan slicing dari `nama`. Output: `stepan purnomo`\r\n",
    "    - Kemudian, buat `nama_revisi` sehingga tiap kata di dalam variabel tersebut memiliki huruf awal berkapital."
   ]
  },
  {
   "cell_type": "code",
   "execution_count": 2,
   "metadata": {},
   "outputs": [],
   "source": [
    "nama = 'stephan purnomo'"
   ]
  },
  {
   "cell_type": "code",
   "execution_count": null,
   "metadata": {},
   "outputs": [],
   "source": []
  }
 ],
 "metadata": {
  "interpreter": {
   "hash": "314ea981c085db46ccef735dba59695dbecece85a3e4aa8984de4261ea0b2923"
  },
  "kernelspec": {
   "display_name": "Python 3.8.5 64-bit ('base': conda)",
   "name": "python3"
  },
  "language_info": {
   "codemirror_mode": {
    "name": "ipython",
    "version": 3
   },
   "file_extension": ".py",
   "mimetype": "text/x-python",
   "name": "python",
   "nbconvert_exporter": "python",
   "pygments_lexer": "ipython3",
   "version": "3.8.5"
  },
  "orig_nbformat": 4
 },
 "nbformat": 4,
 "nbformat_minor": 2
}