{
 "cells": [
  {
   "cell_type": "markdown",
   "metadata": {},
   "source": [
    "1. Buatlah angka genap dari 20 sampai 10 menurun.\r\n",
    "\r\n",
    "expected output:\r\n",
    "```\r\n",
    "20\r\n",
    "18\r\n",
    "16\r\n",
    "14\r\n",
    "12\r\n",
    "10\r\n",
    "```"
   ]
  },
  {
   "cell_type": "markdown",
   "metadata": {},
   "source": [
    "dengan loop"
   ]
  },
  {
   "cell_type": "code",
   "execution_count": null,
   "metadata": {},
   "outputs": [],
   "source": []
  },
  {
   "cell_type": "markdown",
   "metadata": {},
   "source": [
    "dengan while"
   ]
  },
  {
   "cell_type": "code",
   "execution_count": null,
   "metadata": {},
   "outputs": [],
   "source": []
  },
  {
   "cell_type": "markdown",
   "metadata": {},
   "source": [
    "2. Buatlah angka kelipatan 9 dari 0 sampai 99.\r\n",
    "```\r\n",
    "0\r\n",
    "9\r\n",
    "18\r\n",
    "27\r\n",
    "36\r\n",
    "45\r\n",
    "54\r\n",
    "63\r\n",
    "72\r\n",
    "81\r\n",
    "90\r\n",
    "99\r\n",
    "```"
   ]
  },
  {
   "cell_type": "markdown",
   "metadata": {},
   "source": [
    "dengan for loop"
   ]
  },
  {
   "cell_type": "code",
   "execution_count": null,
   "metadata": {},
   "outputs": [],
   "source": []
  },
  {
   "cell_type": "markdown",
   "metadata": {},
   "source": [
    "dengan while"
   ]
  },
  {
   "cell_type": "code",
   "execution_count": null,
   "metadata": {},
   "outputs": [],
   "source": []
  },
  {
   "cell_type": "markdown",
   "metadata": {},
   "source": [
    "3. Buatlah output yang menjabarkan dari kata dan per huruf dari teks berikut. expected output:\r\n",
    "\r\n",
    "```\r\n",
    "hello\r\n",
    "h\r\n",
    "e\r\n",
    "l\r\n",
    "l\r\n",
    "o\r\n",
    "```"
   ]
  },
  {
   "cell_type": "code",
   "execution_count": null,
   "metadata": {},
   "outputs": [],
   "source": []
  },
  {
   "cell_type": "markdown",
   "metadata": {},
   "source": [
    "4. Buatlah table faktorial angka 1-5. expected output:\r\n",
    "\r\n",
    "```\r\n",
    "1! = 1\r\n",
    "2! = 2\r\n",
    "3! = 6\r\n",
    "4! = 24\r\n",
    "5! = 120\r\n",
    "```\r\n",
    "note : 5! = 5 x 4 x 3 x 2 x 1"
   ]
  },
  {
   "cell_type": "code",
   "execution_count": null,
   "metadata": {},
   "outputs": [],
   "source": []
  },
  {
   "cell_type": "markdown",
   "metadata": {},
   "source": [
    "5. Budi, seorang anak berusia 5 tahun sedang belajar berhitung 1 sampai 20. Namun budi tidak menyukai angka kelipatan 6, sehingga dia selalu melewatkan angka dengan kelipatan 6. Terjemahkan kasus diatas menjadi kode!\r\n",
    "\r\n",
    "expected output:\r\n",
    "```\r\n",
    "1\r\n",
    "2\r\n",
    "3\r\n",
    "4\r\n",
    "5\r\n",
    "7\r\n",
    "8\r\n",
    "9\r\n",
    "10\r\n",
    "11\r\n",
    "13\r\n",
    "...\r\n",
    "```"
   ]
  },
  {
   "cell_type": "code",
   "execution_count": null,
   "metadata": {},
   "outputs": [],
   "source": []
  },
  {
   "cell_type": "markdown",
   "metadata": {},
   "source": [
    "6. Buatlah angka dari 0 sampai 50. Jika angka tersebut kelipatan 7, lewati angka tersebut. Jika nilai kuadrat dari angka tersebut sudah melewati 484, maka berhenti."
   ]
  },
  {
   "cell_type": "code",
   "execution_count": null,
   "metadata": {},
   "outputs": [],
   "source": []
  }
 ],
 "metadata": {
  "interpreter": {
   "hash": "d3dc79beb5021c59639c6d840a8f665784ea7696f28e22a72683b988f4f767cb"
  },
  "kernelspec": {
   "display_name": "Python 3.9.4 64-bit ('geo_env': conda)",
   "name": "python3"
  },
  "language_info": {
   "name": "python",
   "version": ""
  },
  "orig_nbformat": 4
 },
 "nbformat": 4,
 "nbformat_minor": 2
}